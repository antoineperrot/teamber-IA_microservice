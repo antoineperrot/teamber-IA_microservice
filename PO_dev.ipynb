{
 "cells": [
  {
   "cell_type": "markdown",
   "id": "ce97a8f0",
   "metadata": {},
   "source": [
    "### development data:"
   ]
  },
  {
   "cell_type": "code",
   "execution_count": 1,
   "id": "05c39030",
   "metadata": {},
   "outputs": [],
   "source": [
    "url = 'https://development.api.wandeed.com/api/lst/search?offset=0&limit=500'\n",
    "access_token = 'Bearer eyJhbGciOiJSUzI1NiIsInR5cCIgOiAiSldUIiwia2lkIiA6ICJydXRUeHJ5dlltOUVZcGhpRjRxak45ajFvTktLNnU4YUhuM1QySFFSUU5FIn0.eyJleHAiOjE2NjgzNTY4NTEsImlhdCI6MTY2ODMzODg1MSwiYXV0aF90aW1lIjoxNjY4MzM4ODUwLCJqdGkiOiIyMjRiNjVmZC0zYjUwLTRmYjctYTJkMS1hNjEzNTY4Y2U3ZWYiLCJpc3MiOiJodHRwczovL2RldmVsb3BtZW50LmF1dGgud2FuZGVlZC5jb20vYXV0aC9yZWFsbXMvd2FuZGVlZC1yZWFsbSIsImF1ZCI6ImFjY291bnQiLCJzdWIiOiIzMWZmODY3NC1iOGZhLTQyMmYtYWM3NC02YzFjZGI2YTUwZGUiLCJ0eXAiOiJCZWFyZXIiLCJhenAiOiJ3YW5kZWVkLWNsaWVudCIsIm5vbmNlIjoiMzc0ZGY2OTYtZDcwNi00NTIwLTg4MDgtODViN2JmOGNiMDkxIiwic2Vzc2lvbl9zdGF0ZSI6IjFkNmE1NjQ1LWQ4MGYtNDI1Zi05NWVhLTQ3NzI1YjNhMDhmMiIsImFjciI6IjEiLCJhbGxvd2VkLW9yaWdpbnMiOlsiaHR0cHM6Ly8qLndhbmRlZWQuY29tLyoiLCJodHRwczovLyouYXBpLndhbmRlZWQuY29tLyoiLCIqIiwiaHR0cHM6Ly8qLmFkbWluLndhbmRlZWQuY29tLyoiLCJodHRwczovLyouYXV0aC53YW5kZWVkLmNvbSJdLCJyZWFsbV9hY2Nlc3MiOnsicm9sZXMiOlsiZGVmYXVsdC1yb2xlcy13YW5kZWVkLXJlYWxtIiwib2ZmbGluZV9hY2Nlc3MiLCJ1bWFfYXV0aG9yaXphdGlvbiJdfSwicmVzb3VyY2VfYWNjZXNzIjp7ImFjY291bnQiOnsicm9sZXMiOlsibWFuYWdlLWFjY291bnQiLCJtYW5hZ2UtYWNjb3VudC1saW5rcyIsInZpZXctcHJvZmlsZSJdfX0sInNjb3BlIjoib3BlbmlkIGVtYWlsIHByb2ZpbGUiLCJzaWQiOiIxZDZhNTY0NS1kODBmLTQyNWYtOTVlYS00NzcyNWIzYTA4ZjIiLCJ1dGxfc3BrdXRpbGlzYXRldXIiOjEsInV0bF91dGlsaXNhdGV1cl9yb2xlcyI6IlsxXSIsInV0bF9jcHJlbm9tIjoiR2F5bG9yZCIsImVtYWlsX3ZlcmlmaWVkIjp0cnVlLCJ1dGxfc2FwcGFydGVuYW5jZSI6WzIsMzhdLCJ1dGxfY25vbSI6IlBldGl0IiwicHJlZmVycmVkX3VzZXJuYW1lIjoiZ2F5bG9yZC5wZXRpdEB0ZWFtYmVyLmZyIiwibG9jYWxlIjoiZnIiLCJnaXZlbl9uYW1lIjoiR2F5bG9yZCIsInV0bF9zZmtpbnN0YW5jZSI6MSwidXRsX3NhZG1pbmlzdHJlciI6W10sIm5hbWUiOiJHYXlsb3JkIFBldGl0IiwidXRsX3Nkcm9pdHNhY2NlcyI6WzMsNCw1LDE1LDI1LDI2LDMzLDM0LDM1LDM2LDM3LDQwLDQxLDQ0LDQ1LDQ2LDQ3LDYwLDYzLDY0LDY1LDY2LDY3LDY4LDY5LDcwLDcxLDcyLDczLDc0LDc1LDc2LDc3LDc4XSwiZmFtaWx5X25hbWUiOiJQZXRpdCIsImVtYWlsIjoiZ2F5bG9yZC5wZXRpdEB0ZWFtYmVyLmZyIiwidXNlcl9ncm91cHMiOlsyLDM4LDMsNCw1LDE1LDI1LDI2LDMzLDM0LDM1LDM2LDM3LDQwLDQxLDQ0LDQ1LDQ2LDQ3LDYwLDYzLDY0LDY1LDY2LDY3LDY4LDY5LDcwLDcxLDcyLDczLDc0LDc1LDc2LDc3LDc4XX0.TQih5SGeV2fsitnmnvDLbjFYTh5US0s3c9q8wWShC9ts0XEQSaOQA_7_ssXNPoPGIp-8v8sL7h7GMUKIUDiyHau9Ko43YhabzhM7xmXRTEci75eNkplnTIMEmQb2XMzwkGoOV4pLjQN4eVOJtwokso8BrLMgEExO5A8kAAPjL_bTgl3hC3AZLUL4Xhkjs0jrsZdD_57V4heyhwCJqg1HCHtDkHrTLx95EZeaRQ-fpTJrLzPHo_E7ce-EL8PMoPpySUpKBpIsn_C02bG1sET7TgbbkLX172rCI_xa1kNMXbKCgB3eEerGNxPh52Af_Bu4DJGam5ie4y72ImaAb4Japw'\n",
    "headers={'Authorization': f'{access_token}',\n",
    "          'Content-Type':'application/json'}"
   ]
  },
  {
   "cell_type": "markdown",
   "id": "9b3e540b",
   "metadata": {},
   "source": [
    "### teamber data:"
   ]
  },
  {
   "cell_type": "code",
   "execution_count": 1,
   "id": "3ee7b3f3",
   "metadata": {},
   "outputs": [],
   "source": [
    "url = 'https://teamber.api.wandeed.com/api/lst/search?offset=0&limit=500'\n",
    "access_token = 'Bearer eyJhbGciOiJSUzI1NiIsInR5cCIgOiAiSldUIiwia2lkIiA6ICJLQ01VZlkwNDZJSF9vOFo2SmUzaUF2cTRXc21yQkFrdGRTU18wZjNzMmlzIn0.eyJleHAiOjE2Njk1NzM1MDQsImlhdCI6MTY2OTU1NTUwNCwiYXV0aF90aW1lIjoxNjY5NTU1NTAzLCJqdGkiOiIwNGViM2UyZS0zMjY0LTQyNGQtOTBiMi0wMTZmMjJkZmNiYzIiLCJpc3MiOiJodHRwczovL3RlYW1iZXIuYXV0aC53YW5kZWVkLmNvbS9hdXRoL3JlYWxtcy93YW5kZWVkLXJlYWxtIiwiYXVkIjoiYWNjb3VudCIsInN1YiI6IjVkNDc5Y2QxLTgyZTUtNGI3Ni04ZGZjLTE0Y2Q4N2ZlOWIzMyIsInR5cCI6IkJlYXJlciIsImF6cCI6IndhbmRlZWQtY2xpZW50Iiwibm9uY2UiOiI5M2Q4ODRhOS0yZjY2LTQ4MGMtOGI4Yy00MWU1MmNjNDg4YzIiLCJzZXNzaW9uX3N0YXRlIjoiNTNlMDgwZjYtZGE5Yi00NjllLWFlNmEtN2MzNWE2NjJkNjI2IiwiYWNyIjoiMSIsImFsbG93ZWQtb3JpZ2lucyI6WyJodHRwczovLyoud2FuZGVlZC5jb20vKiIsImh0dHBzOi8vKi5hcGkud2FuZGVlZC5jb20vKiIsIioiLCJodHRwczovLyouYWRtaW4ud2FuZGVlZC5jb20vKiIsImh0dHBzOi8vKi5hdXRoLndhbmRlZWQuY29tIl0sInJlYWxtX2FjY2VzcyI6eyJyb2xlcyI6WyJkZWZhdWx0LXJvbGVzLXdhbmRlZWQtcmVhbG0iLCJvZmZsaW5lX2FjY2VzcyIsInVtYV9hdXRob3JpemF0aW9uIl19LCJyZXNvdXJjZV9hY2Nlc3MiOnsiYWNjb3VudCI6eyJyb2xlcyI6WyJtYW5hZ2UtYWNjb3VudCIsIm1hbmFnZS1hY2NvdW50LWxpbmtzIiwidmlldy1wcm9maWxlIl19fSwic2NvcGUiOiJvcGVuaWQgZW1haWwgcHJvZmlsZSIsInNpZCI6IjUzZTA4MGY2LWRhOWItNDY5ZS1hZTZhLTdjMzVhNjYyZDYyNiIsInV0bF9zcGt1dGlsaXNhdGV1ciI6Mjk2LCJ1dGxfY3ByZW5vbSI6IkdheWxvcmQiLCJlbWFpbF92ZXJpZmllZCI6dHJ1ZSwidXRsX3V0aWxpc2F0ZXVyX3JvbGVzIjoiWzFdIiwidXRsX3NhcHBhcnRlbmFuY2UiOlsxMjJdLCJ1dGxfY25vbSI6IlBFVElUIiwicHJlZmVycmVkX3VzZXJuYW1lIjoiZ2F5bG9yZC5wZXRpdEB0ZWFtYmVyLmZyIiwiZ2l2ZW5fbmFtZSI6IkdheWxvcmQiLCJ1dGxfc2ZraW5zdGFuY2UiOjEsInV0bF9zYWRtaW5pc3RyZXIiOltdLCJuYW1lIjoiR2F5bG9yZCBQRVRJVCIsInV0bF9zZHJvaXRzYWNjZXMiOlsxMjAsMTIzLDEyNSwxMjYsMTI3LDIyMiwyNjQsMjY1LDI2NiwyNjcsMjY4LDI3MSwyNzIsMjczLDI3NCwyNzUsMjc2LDI3NywyNjksMjcwLDI4MSwyODJdLCJmYW1pbHlfbmFtZSI6IlBFVElUIiwiZW1haWwiOiJnYXlsb3JkLnBldGl0QHRlYW1iZXIuZnIiLCJ1c2VyX2dyb3VwcyI6WzEyMiwxMjAsMTIzLDEyNSwxMjYsMTI3LDIyMiwyNjQsMjY1LDI2NiwyNjcsMjY4LDI3MSwyNzIsMjczLDI3NCwyNzUsMjc2LDI3NywyNjksMjcwLDI4MSwyODJdfQ.Q7tLC3gZ4ih7zhSbffcdDxEjvYPyPYN1LVwfUYGaUtCl_bpvIRsAtEuG-t10zPWNpBQblxsGe9RXJiri7WLngQD0f6RYZ9xsHhfofQdjEd-4KqFUwCaA5_gPk74381rxj-Y-R5-VxzD7N_uFBUl3zqMk7LD1Zq64-EgBxn8E5UFA6wbM1aAqs6-4y4Lwj8bv46Z6MlvGyZV3DZdjMY5wrWrNuxTnnfXkiC4GajuXb8N0JlhohphDplAGu7GQR-HwGG_Lkx1gzWRWQbS8OhEXrY7AHNNfO_dIPKZVxn7MFMuMy9K3TQ-FG0EVEXn-DGay3Vvbjm-T7rzoqlS6wH5S_g'\n",
    "headers={'Authorization': f'{access_token}',\n",
    "             'Content-Type':'application/json'}\n"
   ]
  },
  {
   "cell_type": "markdown",
   "id": "d806aecd",
   "metadata": {},
   "source": [
    "## requêtes pour les tâches non planifiées :"
   ]
  },
  {
   "cell_type": "code",
   "execution_count": 2,
   "id": "d6dc2182",
   "metadata": {},
   "outputs": [],
   "source": [
    "date_start  = \"2022-10-03T06:31:00.000Z\"\n",
    "date_end = \"2022-10-15T07:00:00.000Z\"\n",
    "\n",
    "from api.back_connector.planning_optimizer import fetch_data"
   ]
  },
  {
   "cell_type": "code",
   "execution_count": 3,
   "id": "fbd4a1dd",
   "metadata": {},
   "outputs": [],
   "source": [
    "imperatifs, horaires, taches, utilisateurs_avec_taches_sans_horaires = fetch_data(url, access_token, date_start, date_end, {})"
   ]
  },
  {
   "cell_type": "code",
   "execution_count": 4,
   "id": "6d43e225",
   "metadata": {},
   "outputs": [
    {
     "data": {
      "text/plain": [
       "dict_keys([])"
      ]
     },
     "execution_count": 4,
     "metadata": {},
     "output_type": "execute_result"
    }
   ],
   "source": [
    "taches.keys()"
   ]
  },
  {
   "cell_type": "code",
   "execution_count": 5,
   "id": "2b19bd36",
   "metadata": {
    "scrolled": true
   },
   "outputs": [
    {
     "data": {
      "text/plain": [
       "dict_keys([])"
      ]
     },
     "execution_count": 5,
     "metadata": {},
     "output_type": "execute_result"
    }
   ],
   "source": [
    "horaires.keys()"
   ]
  },
  {
   "cell_type": "code",
   "execution_count": 6,
   "id": "853d2465",
   "metadata": {
    "scrolled": true
   },
   "outputs": [
    {
     "data": {
      "text/plain": [
       "[20192,\n",
       " 20193,\n",
       " 28419,\n",
       " 28389,\n",
       " 28423,\n",
       " 24875,\n",
       " 18767,\n",
       " 18711,\n",
       " 28409,\n",
       " 20188,\n",
       " 20189,\n",
       " 20190,\n",
       " 20191]"
      ]
     },
     "execution_count": 6,
     "metadata": {},
     "output_type": "execute_result"
    }
   ],
   "source": [
    "utilisateurs_avec_taches_sans_horaires"
   ]
  },
  {
   "cell_type": "markdown",
   "id": "0d4fdfe4",
   "metadata": {},
   "source": [
    "## With mocked data :"
   ]
  },
  {
   "cell_type": "code",
   "execution_count": 4,
   "id": "f0728181",
   "metadata": {},
   "outputs": [],
   "source": [
    "from api.services.planning_optimizer.tests.data_mocker import mock_back_data\n",
    "\n",
    "taches, horaires, imperatifs = mock_back_data()"
   ]
  },
  {
   "cell_type": "code",
   "execution_count": 85,
   "id": "043f9052",
   "metadata": {},
   "outputs": [],
   "source": [
    "import numpy as np\n",
    "\n",
    "n_tasks = int(np.random.normal(25, 6))"
   ]
  },
  {
   "cell_type": "code",
   "execution_count": 15,
   "id": "eb44067f",
   "metadata": {},
   "outputs": [],
   "source": [
    "from api.services.planning_optimizer.data_handlers.horaires import make_horaire_clean\n",
    "from api.services.planning_optimizer.data_handlers.taches import make_clean_task, map_priorite, split_tsk_utl\n",
    "\n",
    "dict_hor = make_horaire_clean(df_hor)\n",
    "df_tsk = make_clean_task(df_tsk)"
   ]
  },
  {
   "cell_type": "code",
   "execution_count": 16,
   "id": "87848df3",
   "metadata": {},
   "outputs": [
    {
     "data": {
      "text/plain": [
       "{311:    eeh_sfkperiode eeh_xheuredebut eeh_xheurefin\n",
       " 0               0           06:30         10:30\n",
       " 1               0           11:30         15:30\n",
       " 2               1           06:30         10:30\n",
       " 3               1           11:30         15:30\n",
       " 4               2           06:30         10:30\n",
       " 5               2           11:30         15:30\n",
       " 6               3           06:30         10:30\n",
       " 7               3           10:30         15:30\n",
       " 8               4           07:00         10:00}"
      ]
     },
     "execution_count": 16,
     "metadata": {},
     "output_type": "execute_result"
    }
   ],
   "source": [
    "dict_hor"
   ]
  },
  {
   "cell_type": "code",
   "execution_count": null,
   "id": "6c613ab3",
   "metadata": {},
   "outputs": [],
   "source": []
  },
  {
   "cell_type": "code",
   "execution_count": 6,
   "id": "ad06261d",
   "metadata": {},
   "outputs": [],
   "source": [
    "from module.tests.planning_optimizer.data_mocker import mock_dict_priorites_projets\n",
    "dict_prio = mock_dict_priorites_projets(df_tsk)\n",
    "\n",
    "df_tsk = map_priorite(df_tsk, dict_prio)"
   ]
  },
  {
   "cell_type": "code",
   "execution_count": null,
   "id": "d46ca001",
   "metadata": {},
   "outputs": [],
   "source": []
  },
  {
   "cell_type": "code",
   "execution_count": 7,
   "id": "25f37c0b",
   "metadata": {},
   "outputs": [],
   "source": [
    "task_to_optimize_dict, missing_data_utl = split_tsk_utl(dict_hor, df_tsk)"
   ]
  },
  {
   "cell_type": "markdown",
   "id": "34c9ff39",
   "metadata": {},
   "source": [
    "## testing "
   ]
  },
  {
   "cell_type": "code",
   "execution_count": 8,
   "id": "987b83c6",
   "metadata": {},
   "outputs": [],
   "source": [
    "from module.tests.planning_optimizer.data_mocker import mock_df_tsk"
   ]
  },
  {
   "cell_type": "code",
   "execution_count": 9,
   "id": "3250c11c",
   "metadata": {},
   "outputs": [],
   "source": [
    "df_tsk = mock_df_tsk(dict_hor)"
   ]
  },
  {
   "cell_type": "markdown",
   "id": "dee1baaf",
   "metadata": {},
   "source": [
    "## ajout intersection avec impératifs : je suis bloqué, il me faut la bonne clé utilisateur"
   ]
  },
  {
   "cell_type": "code",
   "execution_count": 24,
   "id": "fa5966cf",
   "metadata": {},
   "outputs": [],
   "source": [
    "splitted_imp = split_imp(df_imp)"
   ]
  },
  {
   "cell_type": "code",
   "execution_count": 25,
   "id": "eb772fd8",
   "metadata": {},
   "outputs": [
    {
     "data": {
      "text/plain": [
       "{18711:    evt_dduree  evt_spkevenement  lgl_sfkligneparent  evt_sfkprojet  \\\n",
       " 0         0.5              4425               18711             96   \n",
       " 1         1.5              4423               18711             96   \n",
       " 6         0.5              3975               18711             99   \n",
       " \n",
       "             evt_xdate_debut             evt_xdate_fin  \n",
       " 0  2022-10-11T09:00:00.000Z  2022-10-11T09:15:00.000Z  \n",
       " 1  2022-10-11T07:00:00.000Z  2022-10-11T08:30:00.000Z  \n",
       " 6  2022-10-04T08:00:00.000Z  2022-10-04T09:00:00.000Z  ,\n",
       " 20193:    evt_dduree  evt_spkevenement  lgl_sfkligneparent  evt_sfkprojet  \\\n",
       " 2         2.0              3794               20193            126   \n",
       " 7         1.0              3793               20193            126   \n",
       " \n",
       "             evt_xdate_debut             evt_xdate_fin  \n",
       " 2  2022-10-06T09:00:00.000Z  2022-10-06T11:00:00.000Z  \n",
       " 7  2022-10-06T07:30:00.000Z  2022-10-06T08:30:00.000Z  ,\n",
       " 20188:    evt_dduree  evt_spkevenement  lgl_sfkligneparent  evt_sfkprojet  \\\n",
       " 3         1.5              4812               20188            126   \n",
       " 4         0.5              3934               20188            126   \n",
       " \n",
       "             evt_xdate_debut             evt_xdate_fin  \n",
       " 3  2022-10-12T12:00:00.000Z  2022-10-12T13:30:00.000Z  \n",
       " 4  2022-10-05T10:30:00.000Z  2022-10-05T11:00:00.000Z  ,\n",
       " 20192:    evt_dduree  evt_spkevenement  lgl_sfkligneparent  evt_sfkprojet  \\\n",
       " 5         0.5              3483               20192            126   \n",
       " 8         0.5              4141               20192            126   \n",
       " \n",
       "             evt_xdate_debut             evt_xdate_fin  \n",
       " 5  2022-10-05T06:30:00.000Z  2022-10-05T07:00:00.000Z  \n",
       " 8  2022-10-05T13:30:00.000Z  2022-10-05T14:00:00.000Z  ,\n",
       " 18767:    evt_dduree  evt_spkevenement  lgl_sfkligneparent  evt_sfkprojet  \\\n",
       " 9         0.5              3389               18767            108   \n",
       " \n",
       "             evt_xdate_debut             evt_xdate_fin  \n",
       " 9  2022-10-03T15:30:00.000Z  2022-10-03T16:00:00.000Z  }"
      ]
     },
     "execution_count": 25,
     "metadata": {},
     "output_type": "execute_result"
    }
   ],
   "source": [
    "splitted_imp"
   ]
  },
  {
   "cell_type": "code",
   "execution_count": 23,
   "id": "356a891b",
   "metadata": {},
   "outputs": [
    {
     "data": {
      "text/html": [
       "<div>\n",
       "<style scoped>\n",
       "    .dataframe tbody tr th:only-of-type {\n",
       "        vertical-align: middle;\n",
       "    }\n",
       "\n",
       "    .dataframe tbody tr th {\n",
       "        vertical-align: top;\n",
       "    }\n",
       "\n",
       "    .dataframe thead th {\n",
       "        text-align: right;\n",
       "    }\n",
       "</style>\n",
       "<table border=\"1\" class=\"dataframe\">\n",
       "  <thead>\n",
       "    <tr style=\"text-align: right;\">\n",
       "      <th></th>\n",
       "      <th>evt_dduree</th>\n",
       "      <th>evt_spkevenement</th>\n",
       "      <th>lgl_sfkligneparent</th>\n",
       "      <th>evt_sfkprojet</th>\n",
       "    </tr>\n",
       "  </thead>\n",
       "  <tbody>\n",
       "    <tr>\n",
       "      <th>0</th>\n",
       "      <td>3.00</td>\n",
       "      <td>375</td>\n",
       "      <td>311</td>\n",
       "      <td>6556</td>\n",
       "    </tr>\n",
       "    <tr>\n",
       "      <th>1</th>\n",
       "      <td>0.50</td>\n",
       "      <td>1535</td>\n",
       "      <td>311</td>\n",
       "      <td>6556</td>\n",
       "    </tr>\n",
       "    <tr>\n",
       "      <th>2</th>\n",
       "      <td>2.25</td>\n",
       "      <td>1654</td>\n",
       "      <td>311</td>\n",
       "      <td>6556</td>\n",
       "    </tr>\n",
       "    <tr>\n",
       "      <th>3</th>\n",
       "      <td>3.75</td>\n",
       "      <td>2358</td>\n",
       "      <td>311</td>\n",
       "      <td>6556</td>\n",
       "    </tr>\n",
       "    <tr>\n",
       "      <th>4</th>\n",
       "      <td>2.25</td>\n",
       "      <td>2439</td>\n",
       "      <td>311</td>\n",
       "      <td>6556</td>\n",
       "    </tr>\n",
       "    <tr>\n",
       "      <th>5</th>\n",
       "      <td>3.50</td>\n",
       "      <td>3321</td>\n",
       "      <td>311</td>\n",
       "      <td>6556</td>\n",
       "    </tr>\n",
       "    <tr>\n",
       "      <th>6</th>\n",
       "      <td>2.25</td>\n",
       "      <td>3533</td>\n",
       "      <td>311</td>\n",
       "      <td>6556</td>\n",
       "    </tr>\n",
       "    <tr>\n",
       "      <th>7</th>\n",
       "      <td>1.75</td>\n",
       "      <td>3676</td>\n",
       "      <td>311</td>\n",
       "      <td>6556</td>\n",
       "    </tr>\n",
       "    <tr>\n",
       "      <th>8</th>\n",
       "      <td>0.75</td>\n",
       "      <td>3804</td>\n",
       "      <td>311</td>\n",
       "      <td>6556</td>\n",
       "    </tr>\n",
       "    <tr>\n",
       "      <th>9</th>\n",
       "      <td>0.50</td>\n",
       "      <td>3859</td>\n",
       "      <td>311</td>\n",
       "      <td>6556</td>\n",
       "    </tr>\n",
       "    <tr>\n",
       "      <th>10</th>\n",
       "      <td>0.75</td>\n",
       "      <td>4872</td>\n",
       "      <td>311</td>\n",
       "      <td>6556</td>\n",
       "    </tr>\n",
       "    <tr>\n",
       "      <th>11</th>\n",
       "      <td>0.25</td>\n",
       "      <td>5003</td>\n",
       "      <td>311</td>\n",
       "      <td>6556</td>\n",
       "    </tr>\n",
       "    <tr>\n",
       "      <th>12</th>\n",
       "      <td>3.00</td>\n",
       "      <td>5034</td>\n",
       "      <td>311</td>\n",
       "      <td>6556</td>\n",
       "    </tr>\n",
       "    <tr>\n",
       "      <th>13</th>\n",
       "      <td>3.25</td>\n",
       "      <td>5060</td>\n",
       "      <td>311</td>\n",
       "      <td>6556</td>\n",
       "    </tr>\n",
       "    <tr>\n",
       "      <th>14</th>\n",
       "      <td>2.25</td>\n",
       "      <td>5095</td>\n",
       "      <td>311</td>\n",
       "      <td>6556</td>\n",
       "    </tr>\n",
       "    <tr>\n",
       "      <th>15</th>\n",
       "      <td>0.75</td>\n",
       "      <td>5155</td>\n",
       "      <td>311</td>\n",
       "      <td>6556</td>\n",
       "    </tr>\n",
       "    <tr>\n",
       "      <th>16</th>\n",
       "      <td>3.00</td>\n",
       "      <td>5839</td>\n",
       "      <td>311</td>\n",
       "      <td>6556</td>\n",
       "    </tr>\n",
       "    <tr>\n",
       "      <th>17</th>\n",
       "      <td>0.50</td>\n",
       "      <td>6127</td>\n",
       "      <td>311</td>\n",
       "      <td>6556</td>\n",
       "    </tr>\n",
       "    <tr>\n",
       "      <th>18</th>\n",
       "      <td>3.00</td>\n",
       "      <td>6299</td>\n",
       "      <td>311</td>\n",
       "      <td>6556</td>\n",
       "    </tr>\n",
       "    <tr>\n",
       "      <th>19</th>\n",
       "      <td>0.75</td>\n",
       "      <td>6858</td>\n",
       "      <td>311</td>\n",
       "      <td>6556</td>\n",
       "    </tr>\n",
       "    <tr>\n",
       "      <th>20</th>\n",
       "      <td>3.50</td>\n",
       "      <td>7102</td>\n",
       "      <td>311</td>\n",
       "      <td>6556</td>\n",
       "    </tr>\n",
       "    <tr>\n",
       "      <th>21</th>\n",
       "      <td>3.25</td>\n",
       "      <td>8204</td>\n",
       "      <td>311</td>\n",
       "      <td>6556</td>\n",
       "    </tr>\n",
       "    <tr>\n",
       "      <th>22</th>\n",
       "      <td>1.00</td>\n",
       "      <td>9297</td>\n",
       "      <td>311</td>\n",
       "      <td>6556</td>\n",
       "    </tr>\n",
       "    <tr>\n",
       "      <th>23</th>\n",
       "      <td>3.50</td>\n",
       "      <td>9378</td>\n",
       "      <td>311</td>\n",
       "      <td>6556</td>\n",
       "    </tr>\n",
       "    <tr>\n",
       "      <th>24</th>\n",
       "      <td>1.75</td>\n",
       "      <td>9843</td>\n",
       "      <td>311</td>\n",
       "      <td>6556</td>\n",
       "    </tr>\n",
       "  </tbody>\n",
       "</table>\n",
       "</div>"
      ],
      "text/plain": [
       "    evt_dduree  evt_spkevenement  lgl_sfkligneparent  evt_sfkprojet\n",
       "0         3.00               375                 311           6556\n",
       "1         0.50              1535                 311           6556\n",
       "2         2.25              1654                 311           6556\n",
       "3         3.75              2358                 311           6556\n",
       "4         2.25              2439                 311           6556\n",
       "5         3.50              3321                 311           6556\n",
       "6         2.25              3533                 311           6556\n",
       "7         1.75              3676                 311           6556\n",
       "8         0.75              3804                 311           6556\n",
       "9         0.50              3859                 311           6556\n",
       "10        0.75              4872                 311           6556\n",
       "11        0.25              5003                 311           6556\n",
       "12        3.00              5034                 311           6556\n",
       "13        3.25              5060                 311           6556\n",
       "14        2.25              5095                 311           6556\n",
       "15        0.75              5155                 311           6556\n",
       "16        3.00              5839                 311           6556\n",
       "17        0.50              6127                 311           6556\n",
       "18        3.00              6299                 311           6556\n",
       "19        0.75              6858                 311           6556\n",
       "20        3.50              7102                 311           6556\n",
       "21        3.25              8204                 311           6556\n",
       "22        1.00              9297                 311           6556\n",
       "23        3.50              9378                 311           6556\n",
       "24        1.75              9843                 311           6556"
      ]
     },
     "execution_count": 23,
     "metadata": {},
     "output_type": "execute_result"
    }
   ],
   "source": [
    "df_tsk"
   ]
  },
  {
   "cell_type": "code",
   "execution_count": 10,
   "id": "e981cbaa",
   "metadata": {},
   "outputs": [
    {
     "data": {
      "text/plain": [
       "{311:    eeh_sfkperiode eeh_xheuredebut eeh_xheurefin\n",
       " 0               0           06:30         10:30\n",
       " 1               0           11:30         15:30\n",
       " 2               1           06:30         10:30\n",
       " 3               1           11:30         15:30\n",
       " 4               2           06:30         10:30\n",
       " 5               2           11:30         15:30\n",
       " 6               3           06:30         10:30\n",
       " 7               3           10:30         15:30\n",
       " 8               4           07:00         10:00}"
      ]
     },
     "execution_count": 10,
     "metadata": {},
     "output_type": "execute_result"
    }
   ],
   "source": [
    "dict_hor"
   ]
  },
  {
   "cell_type": "code",
   "execution_count": 11,
   "id": "09ecfab1",
   "metadata": {
    "scrolled": false
   },
   "outputs": [
    {
     "ename": "NameError",
     "evalue": "name 'make_df_ph' is not defined",
     "output_type": "error",
     "traceback": [
      "\u001b[1;31m---------------------------------------------------------------------------\u001b[0m",
      "\u001b[1;31mNameError\u001b[0m                                 Traceback (most recent call last)",
      "Cell \u001b[1;32mIn [11], line 1\u001b[0m\n\u001b[1;32m----> 1\u001b[0m \u001b[43mmake_df_ph\u001b[49m(dict_hor[\u001b[38;5;241m311\u001b[39m], datein_isoformat, dateout_isoformat)\n",
      "\u001b[1;31mNameError\u001b[0m: name 'make_df_ph' is not defined"
     ]
    }
   ],
   "source": [
    "make_df_ph(dict_hor[311], datein_isoformat, dateout_isoformat)"
   ]
  }
 ],
 "metadata": {
  "kernelspec": {
   "display_name": "Python 3 (ipykernel)",
   "language": "python",
   "name": "python3"
  },
  "language_info": {
   "codemirror_mode": {
    "name": "ipython",
    "version": 3
   },
   "file_extension": ".py",
   "mimetype": "text/x-python",
   "name": "python",
   "nbconvert_exporter": "python",
   "pygments_lexer": "ipython3",
   "version": "3.11.0"
  }
 },
 "nbformat": 4,
 "nbformat_minor": 5
}
