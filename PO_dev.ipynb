{
 "cells": [
  {
   "cell_type": "markdown",
   "id": "ce97a8f0",
   "metadata": {},
   "source": [
    "### development data:"
   ]
  },
  {
   "cell_type": "code",
   "execution_count": 1,
   "id": "05c39030",
   "metadata": {},
   "outputs": [],
   "source": [
    "url = 'https://development.api.wandeed.com/api/lst/search?offset=0&limit=500'\n",
    "access_token = 'Bearer eyJhbGciOiJSUzI1NiIsInR5cCIgOiAiSldUIiwia2lkIiA6ICJydXRUeHJ5dlltOUVZcGhpRjRxak45ajFvTktLNnU4YUhuM1QySFFSUU5FIn0.eyJleHAiOjE2NjgzNTY4NTEsImlhdCI6MTY2ODMzODg1MSwiYXV0aF90aW1lIjoxNjY4MzM4ODUwLCJqdGkiOiIyMjRiNjVmZC0zYjUwLTRmYjctYTJkMS1hNjEzNTY4Y2U3ZWYiLCJpc3MiOiJodHRwczovL2RldmVsb3BtZW50LmF1dGgud2FuZGVlZC5jb20vYXV0aC9yZWFsbXMvd2FuZGVlZC1yZWFsbSIsImF1ZCI6ImFjY291bnQiLCJzdWIiOiIzMWZmODY3NC1iOGZhLTQyMmYtYWM3NC02YzFjZGI2YTUwZGUiLCJ0eXAiOiJCZWFyZXIiLCJhenAiOiJ3YW5kZWVkLWNsaWVudCIsIm5vbmNlIjoiMzc0ZGY2OTYtZDcwNi00NTIwLTg4MDgtODViN2JmOGNiMDkxIiwic2Vzc2lvbl9zdGF0ZSI6IjFkNmE1NjQ1LWQ4MGYtNDI1Zi05NWVhLTQ3NzI1YjNhMDhmMiIsImFjciI6IjEiLCJhbGxvd2VkLW9yaWdpbnMiOlsiaHR0cHM6Ly8qLndhbmRlZWQuY29tLyoiLCJodHRwczovLyouYXBpLndhbmRlZWQuY29tLyoiLCIqIiwiaHR0cHM6Ly8qLmFkbWluLndhbmRlZWQuY29tLyoiLCJodHRwczovLyouYXV0aC53YW5kZWVkLmNvbSJdLCJyZWFsbV9hY2Nlc3MiOnsicm9sZXMiOlsiZGVmYXVsdC1yb2xlcy13YW5kZWVkLXJlYWxtIiwib2ZmbGluZV9hY2Nlc3MiLCJ1bWFfYXV0aG9yaXphdGlvbiJdfSwicmVzb3VyY2VfYWNjZXNzIjp7ImFjY291bnQiOnsicm9sZXMiOlsibWFuYWdlLWFjY291bnQiLCJtYW5hZ2UtYWNjb3VudC1saW5rcyIsInZpZXctcHJvZmlsZSJdfX0sInNjb3BlIjoib3BlbmlkIGVtYWlsIHByb2ZpbGUiLCJzaWQiOiIxZDZhNTY0NS1kODBmLTQyNWYtOTVlYS00NzcyNWIzYTA4ZjIiLCJ1dGxfc3BrdXRpbGlzYXRldXIiOjEsInV0bF91dGlsaXNhdGV1cl9yb2xlcyI6IlsxXSIsInV0bF9jcHJlbm9tIjoiR2F5bG9yZCIsImVtYWlsX3ZlcmlmaWVkIjp0cnVlLCJ1dGxfc2FwcGFydGVuYW5jZSI6WzIsMzhdLCJ1dGxfY25vbSI6IlBldGl0IiwicHJlZmVycmVkX3VzZXJuYW1lIjoiZ2F5bG9yZC5wZXRpdEB0ZWFtYmVyLmZyIiwibG9jYWxlIjoiZnIiLCJnaXZlbl9uYW1lIjoiR2F5bG9yZCIsInV0bF9zZmtpbnN0YW5jZSI6MSwidXRsX3NhZG1pbmlzdHJlciI6W10sIm5hbWUiOiJHYXlsb3JkIFBldGl0IiwidXRsX3Nkcm9pdHNhY2NlcyI6WzMsNCw1LDE1LDI1LDI2LDMzLDM0LDM1LDM2LDM3LDQwLDQxLDQ0LDQ1LDQ2LDQ3LDYwLDYzLDY0LDY1LDY2LDY3LDY4LDY5LDcwLDcxLDcyLDczLDc0LDc1LDc2LDc3LDc4XSwiZmFtaWx5X25hbWUiOiJQZXRpdCIsImVtYWlsIjoiZ2F5bG9yZC5wZXRpdEB0ZWFtYmVyLmZyIiwidXNlcl9ncm91cHMiOlsyLDM4LDMsNCw1LDE1LDI1LDI2LDMzLDM0LDM1LDM2LDM3LDQwLDQxLDQ0LDQ1LDQ2LDQ3LDYwLDYzLDY0LDY1LDY2LDY3LDY4LDY5LDcwLDcxLDcyLDczLDc0LDc1LDc2LDc3LDc4XX0.TQih5SGeV2fsitnmnvDLbjFYTh5US0s3c9q8wWShC9ts0XEQSaOQA_7_ssXNPoPGIp-8v8sL7h7GMUKIUDiyHau9Ko43YhabzhM7xmXRTEci75eNkplnTIMEmQb2XMzwkGoOV4pLjQN4eVOJtwokso8BrLMgEExO5A8kAAPjL_bTgl3hC3AZLUL4Xhkjs0jrsZdD_57V4heyhwCJqg1HCHtDkHrTLx95EZeaRQ-fpTJrLzPHo_E7ce-EL8PMoPpySUpKBpIsn_C02bG1sET7TgbbkLX172rCI_xa1kNMXbKCgB3eEerGNxPh52Af_Bu4DJGam5ie4y72ImaAb4Japw'\n",
    "headers={'Authorization': f'{access_token}',\n",
    "          'Content-Type':'application/json'}"
   ]
  },
  {
   "cell_type": "markdown",
   "id": "9b3e540b",
   "metadata": {},
   "source": [
    "### teamber data:"
   ]
  },
  {
   "cell_type": "code",
   "execution_count": 15,
   "id": "3ee7b3f3",
   "metadata": {},
   "outputs": [],
   "source": [
    "url = 'https://teamber.api.wandeed.com/api/lst/search?offset=0&limit=500'\n",
    "access_token = 'Bearer eyJhbGciOiJSUzI1NiIsInR5cCIgOiAiSldUIiwia2lkIiA6ICJLQ01VZlkwNDZJSF9vOFo2SmUzaUF2cTRXc21yQkFrdGRTU18wZjNzMmlzIn0.eyJleHAiOjE2NzAxNzE0MTQsImlhdCI6MTY3MDE1MzQxNCwiYXV0aF90aW1lIjoxNjcwMTUzNDEzLCJqdGkiOiIzOTgzNmY2My1lYWI5LTQzN2EtOTM1OS0xYzYxMTAzYjQyZTAiLCJpc3MiOiJodHRwczovL3RlYW1iZXIuYXV0aC53YW5kZWVkLmNvbS9hdXRoL3JlYWxtcy93YW5kZWVkLXJlYWxtIiwiYXVkIjoiYWNjb3VudCIsInN1YiI6IjVkNDc5Y2QxLTgyZTUtNGI3Ni04ZGZjLTE0Y2Q4N2ZlOWIzMyIsInR5cCI6IkJlYXJlciIsImF6cCI6IndhbmRlZWQtY2xpZW50Iiwibm9uY2UiOiJjNDQ3YTAwOC02M2E5LTRiNjYtODRhMC05MjI5MmVkMjU2NjYiLCJzZXNzaW9uX3N0YXRlIjoiZDY2MjJhMjItZTc5Mi00Y2E2LWIzMWYtMzQyMDMxZTU5N2QzIiwiYWNyIjoiMSIsImFsbG93ZWQtb3JpZ2lucyI6WyJodHRwczovLyoud2FuZGVlZC5jb20vKiIsImh0dHBzOi8vKi5hcGkud2FuZGVlZC5jb20vKiIsIioiLCJodHRwczovLyouYWRtaW4ud2FuZGVlZC5jb20vKiIsImh0dHBzOi8vKi5hdXRoLndhbmRlZWQuY29tIl0sInJlYWxtX2FjY2VzcyI6eyJyb2xlcyI6WyJkZWZhdWx0LXJvbGVzLXdhbmRlZWQtcmVhbG0iLCJvZmZsaW5lX2FjY2VzcyIsInVtYV9hdXRob3JpemF0aW9uIl19LCJyZXNvdXJjZV9hY2Nlc3MiOnsiYWNjb3VudCI6eyJyb2xlcyI6WyJtYW5hZ2UtYWNjb3VudCIsIm1hbmFnZS1hY2NvdW50LWxpbmtzIiwidmlldy1wcm9maWxlIl19fSwic2NvcGUiOiJvcGVuaWQgZW1haWwgcHJvZmlsZSIsInNpZCI6ImQ2NjIyYTIyLWU3OTItNGNhNi1iMzFmLTM0MjAzMWU1OTdkMyIsInV0bF9zcGt1dGlsaXNhdGV1ciI6Mjk2LCJ1dGxfY3ByZW5vbSI6IkdheWxvcmQiLCJlbWFpbF92ZXJpZmllZCI6dHJ1ZSwidXRsX3V0aWxpc2F0ZXVyX3JvbGVzIjoiWzFdIiwidXRsX3NhcHBhcnRlbmFuY2UiOlsxMjJdLCJ1dGxfY25vbSI6IlBFVElUIiwicHJlZmVycmVkX3VzZXJuYW1lIjoiZ2F5bG9yZC5wZXRpdEB0ZWFtYmVyLmZyIiwiZ2l2ZW5fbmFtZSI6IkdheWxvcmQiLCJ1dGxfc2ZraW5zdGFuY2UiOjEsInV0bF9zYWRtaW5pc3RyZXIiOltdLCJuYW1lIjoiR2F5bG9yZCBQRVRJVCIsInV0bF9zZHJvaXRzYWNjZXMiOlsxMjAsMTIzLDEyNSwxMjYsMTI3LDIyMiwyNjQsMjY1LDI2NiwyNjcsMjY4LDI3MSwyNzIsMjczLDI3NCwyNzUsMjc2LDI3NywyNjksMjcwLDI4MSwyODJdLCJmYW1pbHlfbmFtZSI6IlBFVElUIiwiZW1haWwiOiJnYXlsb3JkLnBldGl0QHRlYW1iZXIuZnIiLCJ1c2VyX2dyb3VwcyI6WzEyMiwxMjAsMTIzLDEyNSwxMjYsMTI3LDIyMiwyNjQsMjY1LDI2NiwyNjcsMjY4LDI3MSwyNzIsMjczLDI3NCwyNzUsMjc2LDI3NywyNjksMjcwLDI4MSwyODJdfQ.AS8VrmefNoBdomjx6dbeHuhYVN_WbSnjQ4aQJrp_XrbFRGWu6IOYuJrlGFC1AM2VNunmXv3k49Kvf7gZ2Nv7G36i7q3giOboEr6PI3Gk1JfwUI0-HjcfzZ7Lkdmm1o5YAY0GIqDDb2UPmlVdlDdbn8tOZcUjBa1QMq8ANiPN9jmDY02btggc0wmvVaNf9Qgb4XypCD7ygzcYFIRa1fty_UpaqOVq94LrRVicsHYJLmFsyTWjk_Eehg-mrBc1MxYb2FMDey3ePSe2QgFaI1PWZ1lr9iDxB3zKepjZyTk5wnGucgNVSLqw7-UUj8TIj2C_OuAsJm5GBB9gUhzYCTsr_A'\n",
    "headers={'Authorization': f'{access_token}',\n",
    "             'Content-Type':'application/json'}\n"
   ]
  },
  {
   "cell_type": "markdown",
   "id": "d806aecd",
   "metadata": {},
   "source": [
    "## requêtes pour les tâches non planifiées :"
   ]
  },
  {
   "cell_type": "code",
   "execution_count": 21,
   "id": "d6dc2182",
   "metadata": {},
   "outputs": [],
   "source": [
    "date_start  = \"2022-10-03T06:31:00.000Z\"\n",
    "date_end = \"2022-12-15T07:00:00.000Z\"\n",
    "\n",
    "from api.back_connector.planning_optimizer import fetch_data"
   ]
  },
  {
   "cell_type": "code",
   "execution_count": 22,
   "id": "fbd4a1dd",
   "metadata": {},
   "outputs": [],
   "source": [
    "imperatifs, horaires, taches, utilisateurs_avec_taches_sans_horaires = fetch_data(url, access_token, date_start, date_end, {})"
   ]
  },
  {
   "cell_type": "code",
   "execution_count": 26,
   "id": "9c1b7b3f",
   "metadata": {},
   "outputs": [
    {
     "data": {
      "text/plain": [
       "[20192,\n",
       " 20193,\n",
       " 28389,\n",
       " 24875,\n",
       " 18767,\n",
       " 18710,\n",
       " 18711,\n",
       " 28409,\n",
       " 20188,\n",
       " 20189,\n",
       " 20190,\n",
       " 20191]"
      ]
     },
     "execution_count": 26,
     "metadata": {},
     "output_type": "execute_result"
    }
   ],
   "source": [
    "utilisateurs_avec_taches_sans_horaires"
   ]
  },
  {
   "cell_type": "code",
   "execution_count": 4,
   "id": "6d43e225",
   "metadata": {},
   "outputs": [
    {
     "data": {
      "text/plain": [
       "dict_keys([])"
      ]
     },
     "execution_count": 4,
     "metadata": {},
     "output_type": "execute_result"
    }
   ],
   "source": [
    "taches.keys()"
   ]
  },
  {
   "cell_type": "code",
   "execution_count": 5,
   "id": "2b19bd36",
   "metadata": {
    "scrolled": true
   },
   "outputs": [
    {
     "data": {
      "text/plain": [
       "dict_keys([])"
      ]
     },
     "execution_count": 5,
     "metadata": {},
     "output_type": "execute_result"
    }
   ],
   "source": [
    "horaires.keys()"
   ]
  },
  {
   "cell_type": "code",
   "execution_count": 6,
   "id": "853d2465",
   "metadata": {
    "scrolled": true
   },
   "outputs": [
    {
     "data": {
      "text/plain": [
       "[20192,\n",
       " 20193,\n",
       " 28419,\n",
       " 28389,\n",
       " 28423,\n",
       " 24875,\n",
       " 18767,\n",
       " 18711,\n",
       " 28409,\n",
       " 20188,\n",
       " 20189,\n",
       " 20190,\n",
       " 20191]"
      ]
     },
     "execution_count": 6,
     "metadata": {},
     "output_type": "execute_result"
    }
   ],
   "source": [
    "utilisateurs_avec_taches_sans_horaires"
   ]
  },
  {
   "cell_type": "markdown",
   "id": "ce52a9e4",
   "metadata": {},
   "source": [
    "## With mocked data :"
   ]
  },
  {
   "cell_type": "code",
   "execution_count": 1,
   "id": "40eeb5f0",
   "metadata": {},
   "outputs": [
    {
     "name": "stdout",
     "output_type": "stream",
     "text": [
      "Attention, les impératis mockées sont disponibles uniquement entre 2022-09-05 08:30:00+0000 et           2022-09-08 15:30:00+0000\n"
     ]
    }
   ],
   "source": [
    "from api.services.planning_optimizer.tests.data_mocker import mock_back_data\n",
    "ex_date_start = \"2022-09-05 09:00:00+0000\"\n",
    "ex_date_end   = \"2022-09-09 16:00:00+0000\"\n",
    "taches, horaires, imperatifs = mock_back_data(ex_date_start, ex_date_end)\n"
   ]
  },
  {
   "cell_type": "code",
   "execution_count": 2,
   "id": "3a5aea7a",
   "metadata": {},
   "outputs": [],
   "source": [
    "ex_taches = list(taches.values())[0]\n",
    "ex_horaires = list(horaires.values())[0]\n",
    "ex_imperatifs = list(imperatifs.values())[0]"
   ]
  },
  {
   "cell_type": "code",
   "execution_count": 3,
   "id": "e880e454",
   "metadata": {},
   "outputs": [],
   "source": [
    "from api.services.planning_optimizer.solver.tools.taches import split_tasks\n",
    "ex_splitted_taches = split_tasks(ex_taches)"
   ]
  },
  {
   "cell_type": "code",
   "execution_count": 4,
   "id": "78eb3eb6",
   "metadata": {},
   "outputs": [],
   "source": [
    "from api.services.planning_optimizer.solver.planning.ordonnancement import Ordonnancement\n",
    "from api.services.planning_optimizer.solver.planning.horaires import make_base, find_sections_ends"
   ]
  },
  {
   "cell_type": "code",
   "execution_count": 21,
   "id": "1dddc5c3",
   "metadata": {},
   "outputs": [
    {
     "data": {
      "text/plain": [
       "{'timestamp_debut': {0: Timestamp('2022-09-05 09:30:00+0000', tz='UTC'),\n",
       "  1: Timestamp('2022-09-05 11:30:00+0000', tz='UTC'),\n",
       "  2: Timestamp('2022-09-06 06:30:00+0000', tz='UTC'),\n",
       "  3: Timestamp('2022-09-06 10:00:00+0000', tz='UTC'),\n",
       "  4: Timestamp('2022-09-06 11:30:00+0000', tz='UTC'),\n",
       "  5: Timestamp('2022-09-07 06:30:00+0000', tz='UTC'),\n",
       "  6: Timestamp('2022-09-07 08:45:00+0000', tz='UTC'),\n",
       "  7: Timestamp('2022-09-07 11:30:00+0000', tz='UTC'),\n",
       "  8: Timestamp('2022-09-07 14:10:00+0000', tz='UTC'),\n",
       "  9: Timestamp('2022-09-08 06:30:00+0000', tz='UTC'),\n",
       "  10: Timestamp('2022-09-08 10:30:00+0000', tz='UTC'),\n",
       "  11: Timestamp('2022-09-09 07:00:00+0000', tz='UTC')},\n",
       " 'timestamp_fin': {0: Timestamp('2022-09-05 10:30:00+0000', tz='UTC'),\n",
       "  1: Timestamp('2022-09-05 15:00:00+0000', tz='UTC'),\n",
       "  2: Timestamp('2022-09-06 09:00:00+0000', tz='UTC'),\n",
       "  3: Timestamp('2022-09-06 10:30:00+0000', tz='UTC'),\n",
       "  4: Timestamp('2022-09-06 15:30:00+0000', tz='UTC'),\n",
       "  5: Timestamp('2022-09-07 07:00:00+0000', tz='UTC'),\n",
       "  6: Timestamp('2022-09-07 10:30:00+0000', tz='UTC'),\n",
       "  7: Timestamp('2022-09-07 13:00:00+0000', tz='UTC'),\n",
       "  8: Timestamp('2022-09-07 15:30:00+0000', tz='UTC'),\n",
       "  9: Timestamp('2022-09-08 10:30:00+0000', tz='UTC'),\n",
       "  10: Timestamp('2022-09-08 14:30:00+0000', tz='UTC'),\n",
       "  11: Timestamp('2022-09-09 10:00:00+0000', tz='UTC')},\n",
       " 'durée': {0: 1.0,\n",
       "  1: 3.5,\n",
       "  2: 2.5,\n",
       "  3: 0.5,\n",
       "  4: 4.0,\n",
       "  5: 0.5,\n",
       "  6: 1.75,\n",
       "  7: 1.5,\n",
       "  8: 1.3333333333333333,\n",
       "  9: 4.0,\n",
       "  10: 4.0,\n",
       "  11: 3.0}}"
      ]
     },
     "execution_count": 21,
     "metadata": {},
     "output_type": "execute_result"
    }
   ],
   "source": [
    "import pandas as pd\n",
    "from api.services.planning_optimizer.solver.planning.horaires import compute_availabilities\n",
    "\n",
    "    \n",
    "    \n",
    "compute_availabilities(ex_horaires, ex_imperatifs, ex_date_start, ex_date_end)"
   ]
  },
  {
   "cell_type": "code",
   "execution_count": 12,
   "id": "d0cf42dd",
   "metadata": {},
   "outputs": [
    {
     "data": {
      "text/plain": [
       "{'eeh_sfkperiode': {0: 0, 1: 0, 2: 1, 3: 1, 4: 2, 5: 2, 6: 3, 7: 3, 8: 4},\n",
       " 'eeh_xheuredebut': {0: '06:30',\n",
       "  1: '11:30',\n",
       "  2: '06:30',\n",
       "  3: '11:30',\n",
       "  4: '06:30',\n",
       "  5: '11:30',\n",
       "  6: '06:30',\n",
       "  7: '10:30',\n",
       "  8: '07:00'},\n",
       " 'eeh_xheurefin': {0: '10:30',\n",
       "  1: '15:30',\n",
       "  2: '10:30',\n",
       "  3: '15:30',\n",
       "  4: '10:30',\n",
       "  5: '15:30',\n",
       "  6: '10:30',\n",
       "  7: '15:30',\n",
       "  8: '10:00'}}"
      ]
     },
     "execution_count": 12,
     "metadata": {},
     "output_type": "execute_result"
    }
   ],
   "source": [
    "ex_horaires.to_dict()"
   ]
  },
  {
   "cell_type": "code",
   "execution_count": 22,
   "id": "d8bbfefb",
   "metadata": {},
   "outputs": [],
   "source": [
    "import unittest\n",
    "\n",
    "\n",
    "\n",
    "\n",
    "        pd.testing.assert_frame_equal(output_func, self.expected_result)\n",
    "t = TestComputeAvailabilities()\n",
    "t.setUp()\n",
    "t.test_compute_availabilities()"
   ]
  },
  {
   "cell_type": "code",
   "execution_count": null,
   "id": "d39dff17",
   "metadata": {},
   "outputs": [],
   "source": []
  },
  {
   "cell_type": "code",
   "execution_count": 11,
   "id": "900b1a26",
   "metadata": {},
   "outputs": [
    {
     "data": {
      "text/plain": [
       "[(Timestamp('2022-09-05 09:30:00+0000', tz='UTC'),\n",
       "  Timestamp('2022-09-05 15:00:00+0000', tz='UTC')),\n",
       " (Timestamp('2022-09-05 17:00:00+0000', tz='UTC'),\n",
       "  Timestamp('2022-09-06 09:00:00+0000', tz='UTC')),\n",
       " (Timestamp('2022-09-06 10:00:00+0000', tz='UTC'),\n",
       "  Timestamp('2022-09-07 07:00:00+0000', tz='UTC')),\n",
       " (Timestamp('2022-09-07 08:45:00+0000', tz='UTC'),\n",
       "  Timestamp('2022-09-07 13:00:00+0000', tz='UTC')),\n",
       " (Timestamp('2022-09-07 14:10:00+0000', tz='UTC'),\n",
       "  Timestamp('2022-09-08 14:30:00+0000', tz='UTC')),\n",
       " (Timestamp('2022-09-08 15:30:00+0000', tz='UTC'),\n",
       "  Timestamp('2022-09-09 16:00:00+0000', tz='UTC'))]"
      ]
     },
     "execution_count": 11,
     "metadata": {},
     "output_type": "execute_result"
    }
   ],
   "source": []
  },
  {
   "cell_type": "code",
   "execution_count": null,
   "id": "32dad639",
   "metadata": {},
   "outputs": [],
   "source": [
    "from ac"
   ]
  },
  {
   "cell_type": "code",
   "execution_count": 10,
   "id": "ca4a1209",
   "metadata": {},
   "outputs": [
    {
     "data": {
      "text/html": [
       "<div>\n",
       "<style scoped>\n",
       "    .dataframe tbody tr th:only-of-type {\n",
       "        vertical-align: middle;\n",
       "    }\n",
       "\n",
       "    .dataframe tbody tr th {\n",
       "        vertical-align: top;\n",
       "    }\n",
       "\n",
       "    .dataframe thead th {\n",
       "        text-align: right;\n",
       "    }\n",
       "</style>\n",
       "<table border=\"1\" class=\"dataframe\">\n",
       "  <thead>\n",
       "    <tr style=\"text-align: right;\">\n",
       "      <th></th>\n",
       "      <th>evt_spkevenement</th>\n",
       "      <th>evt_sfkprojet</th>\n",
       "      <th>lgl_sfkligneparent</th>\n",
       "      <th>evt_xdate_debut</th>\n",
       "      <th>evt_xdate_fin</th>\n",
       "    </tr>\n",
       "  </thead>\n",
       "  <tbody>\n",
       "    <tr>\n",
       "      <th>0</th>\n",
       "      <td>1040</td>\n",
       "      <td>1404</td>\n",
       "      <td>2283</td>\n",
       "      <td>2022-09-05 08:30:00+00:00</td>\n",
       "      <td>2022-09-05 09:30:00+00:00</td>\n",
       "    </tr>\n",
       "    <tr>\n",
       "      <th>1</th>\n",
       "      <td>3302</td>\n",
       "      <td>2140</td>\n",
       "      <td>2283</td>\n",
       "      <td>2022-09-05 15:00:00+00:00</td>\n",
       "      <td>2022-09-05 17:00:00+00:00</td>\n",
       "    </tr>\n",
       "    <tr>\n",
       "      <th>2</th>\n",
       "      <td>3449</td>\n",
       "      <td>3790</td>\n",
       "      <td>2283</td>\n",
       "      <td>2022-09-06 09:00:00+00:00</td>\n",
       "      <td>2022-09-06 10:00:00+00:00</td>\n",
       "    </tr>\n",
       "    <tr>\n",
       "      <th>3</th>\n",
       "      <td>4743</td>\n",
       "      <td>4896</td>\n",
       "      <td>2283</td>\n",
       "      <td>2022-09-07 07:00:00+00:00</td>\n",
       "      <td>2022-09-07 08:15:00+00:00</td>\n",
       "    </tr>\n",
       "    <tr>\n",
       "      <th>4</th>\n",
       "      <td>7069</td>\n",
       "      <td>5363</td>\n",
       "      <td>2283</td>\n",
       "      <td>2022-09-07 07:30:00+00:00</td>\n",
       "      <td>2022-09-07 08:45:00+00:00</td>\n",
       "    </tr>\n",
       "    <tr>\n",
       "      <th>5</th>\n",
       "      <td>7105</td>\n",
       "      <td>8423</td>\n",
       "      <td>2283</td>\n",
       "      <td>2022-09-07 13:00:00+00:00</td>\n",
       "      <td>2022-09-07 14:10:00+00:00</td>\n",
       "    </tr>\n",
       "    <tr>\n",
       "      <th>6</th>\n",
       "      <td>9323</td>\n",
       "      <td>8534</td>\n",
       "      <td>2283</td>\n",
       "      <td>2022-09-08 14:30:00+00:00</td>\n",
       "      <td>2022-09-08 15:30:00+00:00</td>\n",
       "    </tr>\n",
       "  </tbody>\n",
       "</table>\n",
       "</div>"
      ],
      "text/plain": [
       "   evt_spkevenement  evt_sfkprojet  lgl_sfkligneparent  \\\n",
       "0              1040           1404                2283   \n",
       "1              3302           2140                2283   \n",
       "2              3449           3790                2283   \n",
       "3              4743           4896                2283   \n",
       "4              7069           5363                2283   \n",
       "5              7105           8423                2283   \n",
       "6              9323           8534                2283   \n",
       "\n",
       "            evt_xdate_debut             evt_xdate_fin  \n",
       "0 2022-09-05 08:30:00+00:00 2022-09-05 09:30:00+00:00  \n",
       "1 2022-09-05 15:00:00+00:00 2022-09-05 17:00:00+00:00  \n",
       "2 2022-09-06 09:00:00+00:00 2022-09-06 10:00:00+00:00  \n",
       "3 2022-09-07 07:00:00+00:00 2022-09-07 08:15:00+00:00  \n",
       "4 2022-09-07 07:30:00+00:00 2022-09-07 08:45:00+00:00  \n",
       "5 2022-09-07 13:00:00+00:00 2022-09-07 14:10:00+00:00  \n",
       "6 2022-09-08 14:30:00+00:00 2022-09-08 15:30:00+00:00  "
      ]
     },
     "execution_count": 10,
     "metadata": {},
     "output_type": "execute_result"
    }
   ],
   "source": [
    "ex_imperatifs"
   ]
  },
  {
   "cell_type": "code",
   "execution_count": 16,
   "id": "56576920",
   "metadata": {},
   "outputs": [
    {
     "data": {
      "text/plain": [
       "(Timestamp('2022-09-05 09:00:00+0000', tz='UTC'),\n",
       " Timestamp('2022-09-09 16:00:00+0000', tz='UTC'))"
      ]
     },
     "execution_count": 16,
     "metadata": {},
     "output_type": "execute_result"
    }
   ],
   "source": [
    "date_start, date_end"
   ]
  },
  {
   "cell_type": "code",
   "execution_count": 13,
   "id": "a4f87708",
   "metadata": {},
   "outputs": [
    {
     "data": {
      "text/html": [
       "<div>\n",
       "<style scoped>\n",
       "    .dataframe tbody tr th:only-of-type {\n",
       "        vertical-align: middle;\n",
       "    }\n",
       "\n",
       "    .dataframe tbody tr th {\n",
       "        vertical-align: top;\n",
       "    }\n",
       "\n",
       "    .dataframe thead th {\n",
       "        text-align: right;\n",
       "    }\n",
       "</style>\n",
       "<table border=\"1\" class=\"dataframe\">\n",
       "  <thead>\n",
       "    <tr style=\"text-align: right;\">\n",
       "      <th></th>\n",
       "      <th>timestamp_debut</th>\n",
       "      <th>timestamp_fin</th>\n",
       "      <th>durée</th>\n",
       "    </tr>\n",
       "  </thead>\n",
       "  <tbody>\n",
       "    <tr>\n",
       "      <th>0</th>\n",
       "      <td>2022-09-05 09:00:00+00:00</td>\n",
       "      <td>2022-09-05 09:30:00+00:00</td>\n",
       "      <td>0.500000</td>\n",
       "    </tr>\n",
       "    <tr>\n",
       "      <th>0</th>\n",
       "      <td>2022-09-05 15:00:00+00:00</td>\n",
       "      <td>2022-09-05 15:30:00+00:00</td>\n",
       "      <td>0.500000</td>\n",
       "    </tr>\n",
       "    <tr>\n",
       "      <th>0</th>\n",
       "      <td>2022-09-06 09:00:00+00:00</td>\n",
       "      <td>2022-09-06 10:00:00+00:00</td>\n",
       "      <td>1.000000</td>\n",
       "    </tr>\n",
       "    <tr>\n",
       "      <th>0</th>\n",
       "      <td>2022-09-07 07:00:00+00:00</td>\n",
       "      <td>2022-09-07 08:15:00+00:00</td>\n",
       "      <td>1.250000</td>\n",
       "    </tr>\n",
       "    <tr>\n",
       "      <th>0</th>\n",
       "      <td>2022-09-07 13:00:00+00:00</td>\n",
       "      <td>2022-09-07 14:10:00+00:00</td>\n",
       "      <td>1.166667</td>\n",
       "    </tr>\n",
       "    <tr>\n",
       "      <th>0</th>\n",
       "      <td>2022-09-08 14:30:00+00:00</td>\n",
       "      <td>2022-09-08 15:30:00+00:00</td>\n",
       "      <td>1.000000</td>\n",
       "    </tr>\n",
       "  </tbody>\n",
       "</table>\n",
       "</div>"
      ],
      "text/plain": [
       "            timestamp_debut             timestamp_fin     durée\n",
       "0 2022-09-05 09:00:00+00:00 2022-09-05 09:30:00+00:00  0.500000\n",
       "0 2022-09-05 15:00:00+00:00 2022-09-05 15:30:00+00:00  0.500000\n",
       "0 2022-09-06 09:00:00+00:00 2022-09-06 10:00:00+00:00  1.000000\n",
       "0 2022-09-07 07:00:00+00:00 2022-09-07 08:15:00+00:00  1.250000\n",
       "0 2022-09-07 13:00:00+00:00 2022-09-07 14:10:00+00:00  1.166667\n",
       "0 2022-09-08 14:30:00+00:00 2022-09-08 15:30:00+00:00  1.000000"
      ]
     },
     "execution_count": 13,
     "metadata": {},
     "output_type": "execute_result"
    }
   ],
   "source": [
    "pd.concat(bases)"
   ]
  },
  {
   "cell_type": "code",
   "execution_count": 12,
   "id": "e3f253ec",
   "metadata": {},
   "outputs": [
    {
     "data": {
      "text/plain": [
       "[            timestamp_debut             timestamp_fin  durée\n",
       " 0 2022-09-05 09:00:00+00:00 2022-09-05 09:30:00+00:00    0.5,\n",
       "             timestamp_debut             timestamp_fin  durée\n",
       " 0 2022-09-05 15:00:00+00:00 2022-09-05 15:30:00+00:00    0.5,\n",
       "             timestamp_debut             timestamp_fin  durée\n",
       " 0 2022-09-06 09:00:00+00:00 2022-09-06 10:00:00+00:00    1.0,\n",
       "             timestamp_debut             timestamp_fin  durée\n",
       " 0 2022-09-07 07:00:00+00:00 2022-09-07 08:15:00+00:00   1.25,\n",
       "             timestamp_debut             timestamp_fin     durée\n",
       " 0 2022-09-07 13:00:00+00:00 2022-09-07 14:10:00+00:00  1.166667,\n",
       "             timestamp_debut             timestamp_fin  durée\n",
       " 0 2022-09-08 14:30:00+00:00 2022-09-08 15:30:00+00:00    1.0]"
      ]
     },
     "execution_count": 12,
     "metadata": {},
     "output_type": "execute_result"
    }
   ],
   "source": [
    "bases"
   ]
  },
  {
   "cell_type": "code",
   "execution_count": 83,
   "id": "c67c1377",
   "metadata": {},
   "outputs": [
    {
     "data": {
      "text/plain": [
       "Timestamp('2022-09-08 15:30:00+0000', tz='UTC')"
      ]
     },
     "execution_count": 83,
     "metadata": {},
     "output_type": "execute_result"
    }
   ],
   "source": [
    "fin_prochain_imp"
   ]
  },
  {
   "cell_type": "code",
   "execution_count": 78,
   "id": "c3f11ce6",
   "metadata": {},
   "outputs": [
    {
     "data": {
      "text/html": [
       "<div>\n",
       "<style scoped>\n",
       "    .dataframe tbody tr th:only-of-type {\n",
       "        vertical-align: middle;\n",
       "    }\n",
       "\n",
       "    .dataframe tbody tr th {\n",
       "        vertical-align: top;\n",
       "    }\n",
       "\n",
       "    .dataframe thead th {\n",
       "        text-align: right;\n",
       "    }\n",
       "</style>\n",
       "<table border=\"1\" class=\"dataframe\">\n",
       "  <thead>\n",
       "    <tr style=\"text-align: right;\">\n",
       "      <th></th>\n",
       "      <th>evt_spkevenement</th>\n",
       "      <th>evt_sfkprojet</th>\n",
       "      <th>lgl_sfkligneparent</th>\n",
       "      <th>evt_xdate_debut</th>\n",
       "      <th>evt_xdate_fin</th>\n",
       "    </tr>\n",
       "  </thead>\n",
       "  <tbody>\n",
       "    <tr>\n",
       "      <th>0</th>\n",
       "      <td>1842</td>\n",
       "      <td>2531</td>\n",
       "      <td>4</td>\n",
       "      <td>2022-09-05 08:30:00+00:00</td>\n",
       "      <td>2022-09-05 09:30:00+00:00</td>\n",
       "    </tr>\n",
       "    <tr>\n",
       "      <th>1</th>\n",
       "      <td>2947</td>\n",
       "      <td>3609</td>\n",
       "      <td>4</td>\n",
       "      <td>2022-09-05 15:00:00+00:00</td>\n",
       "      <td>2022-09-05 17:00:00+00:00</td>\n",
       "    </tr>\n",
       "    <tr>\n",
       "      <th>2</th>\n",
       "      <td>3156</td>\n",
       "      <td>4219</td>\n",
       "      <td>4</td>\n",
       "      <td>2022-09-06 09:00:00+00:00</td>\n",
       "      <td>2022-09-06 10:00:00+00:00</td>\n",
       "    </tr>\n",
       "    <tr>\n",
       "      <th>3</th>\n",
       "      <td>3175</td>\n",
       "      <td>5060</td>\n",
       "      <td>4</td>\n",
       "      <td>2022-09-07 07:00:00+00:00</td>\n",
       "      <td>2022-09-07 08:15:00+00:00</td>\n",
       "    </tr>\n",
       "    <tr>\n",
       "      <th>4</th>\n",
       "      <td>5438</td>\n",
       "      <td>5325</td>\n",
       "      <td>4</td>\n",
       "      <td>2022-09-07 08:00:00+00:00</td>\n",
       "      <td>2022-09-07 10:10:00+00:00</td>\n",
       "    </tr>\n",
       "    <tr>\n",
       "      <th>5</th>\n",
       "      <td>5675</td>\n",
       "      <td>7589</td>\n",
       "      <td>4</td>\n",
       "      <td>2022-09-07 13:00:00+00:00</td>\n",
       "      <td>2022-09-07 14:10:00+00:00</td>\n",
       "    </tr>\n",
       "    <tr>\n",
       "      <th>6</th>\n",
       "      <td>8884</td>\n",
       "      <td>9124</td>\n",
       "      <td>4</td>\n",
       "      <td>2022-09-08 14:30:00+00:00</td>\n",
       "      <td>2022-09-08 15:30:00+00:00</td>\n",
       "    </tr>\n",
       "  </tbody>\n",
       "</table>\n",
       "</div>"
      ],
      "text/plain": [
       "   evt_spkevenement  evt_sfkprojet  lgl_sfkligneparent  \\\n",
       "0              1842           2531                   4   \n",
       "1              2947           3609                   4   \n",
       "2              3156           4219                   4   \n",
       "3              3175           5060                   4   \n",
       "4              5438           5325                   4   \n",
       "5              5675           7589                   4   \n",
       "6              8884           9124                   4   \n",
       "\n",
       "            evt_xdate_debut             evt_xdate_fin  \n",
       "0 2022-09-05 08:30:00+00:00 2022-09-05 09:30:00+00:00  \n",
       "1 2022-09-05 15:00:00+00:00 2022-09-05 17:00:00+00:00  \n",
       "2 2022-09-06 09:00:00+00:00 2022-09-06 10:00:00+00:00  \n",
       "3 2022-09-07 07:00:00+00:00 2022-09-07 08:15:00+00:00  \n",
       "4 2022-09-07 08:00:00+00:00 2022-09-07 10:10:00+00:00  \n",
       "5 2022-09-07 13:00:00+00:00 2022-09-07 14:10:00+00:00  \n",
       "6 2022-09-08 14:30:00+00:00 2022-09-08 15:30:00+00:00  "
      ]
     },
     "execution_count": 78,
     "metadata": {},
     "output_type": "execute_result"
    }
   ],
   "source": [
    "imp"
   ]
  },
  {
   "cell_type": "code",
   "execution_count": 77,
   "id": "eaed63d4",
   "metadata": {},
   "outputs": [
    {
     "data": {
      "text/html": [
       "<div>\n",
       "<style scoped>\n",
       "    .dataframe tbody tr th:only-of-type {\n",
       "        vertical-align: middle;\n",
       "    }\n",
       "\n",
       "    .dataframe tbody tr th {\n",
       "        vertical-align: top;\n",
       "    }\n",
       "\n",
       "    .dataframe thead th {\n",
       "        text-align: right;\n",
       "    }\n",
       "</style>\n",
       "<table border=\"1\" class=\"dataframe\">\n",
       "  <thead>\n",
       "    <tr style=\"text-align: right;\">\n",
       "      <th></th>\n",
       "      <th>evt_spkevenement</th>\n",
       "      <th>evt_sfkprojet</th>\n",
       "      <th>lgl_sfkligneparent</th>\n",
       "      <th>evt_xdate_debut</th>\n",
       "      <th>evt_xdate_fin</th>\n",
       "    </tr>\n",
       "  </thead>\n",
       "  <tbody>\n",
       "    <tr>\n",
       "      <th>0</th>\n",
       "      <td>2947</td>\n",
       "      <td>3609</td>\n",
       "      <td>4</td>\n",
       "      <td>2022-09-05 15:00:00+00:00</td>\n",
       "      <td>2022-09-05 17:00:00+00:00</td>\n",
       "    </tr>\n",
       "    <tr>\n",
       "      <th>1</th>\n",
       "      <td>3156</td>\n",
       "      <td>4219</td>\n",
       "      <td>4</td>\n",
       "      <td>2022-09-06 09:00:00+00:00</td>\n",
       "      <td>2022-09-06 10:00:00+00:00</td>\n",
       "    </tr>\n",
       "    <tr>\n",
       "      <th>2</th>\n",
       "      <td>3175</td>\n",
       "      <td>5060</td>\n",
       "      <td>4</td>\n",
       "      <td>2022-09-07 07:00:00+00:00</td>\n",
       "      <td>2022-09-07 08:15:00+00:00</td>\n",
       "    </tr>\n",
       "    <tr>\n",
       "      <th>3</th>\n",
       "      <td>5438</td>\n",
       "      <td>5325</td>\n",
       "      <td>4</td>\n",
       "      <td>2022-09-07 08:00:00+00:00</td>\n",
       "      <td>2022-09-07 10:10:00+00:00</td>\n",
       "    </tr>\n",
       "    <tr>\n",
       "      <th>4</th>\n",
       "      <td>5675</td>\n",
       "      <td>7589</td>\n",
       "      <td>4</td>\n",
       "      <td>2022-09-07 13:00:00+00:00</td>\n",
       "      <td>2022-09-07 14:10:00+00:00</td>\n",
       "    </tr>\n",
       "    <tr>\n",
       "      <th>5</th>\n",
       "      <td>8884</td>\n",
       "      <td>9124</td>\n",
       "      <td>4</td>\n",
       "      <td>2022-09-08 14:30:00+00:00</td>\n",
       "      <td>2022-09-08 15:30:00+00:00</td>\n",
       "    </tr>\n",
       "  </tbody>\n",
       "</table>\n",
       "</div>"
      ],
      "text/plain": [
       "   evt_spkevenement  evt_sfkprojet  lgl_sfkligneparent  \\\n",
       "0              2947           3609                   4   \n",
       "1              3156           4219                   4   \n",
       "2              3175           5060                   4   \n",
       "3              5438           5325                   4   \n",
       "4              5675           7589                   4   \n",
       "5              8884           9124                   4   \n",
       "\n",
       "            evt_xdate_debut             evt_xdate_fin  \n",
       "0 2022-09-05 15:00:00+00:00 2022-09-05 17:00:00+00:00  \n",
       "1 2022-09-06 09:00:00+00:00 2022-09-06 10:00:00+00:00  \n",
       "2 2022-09-07 07:00:00+00:00 2022-09-07 08:15:00+00:00  \n",
       "3 2022-09-07 08:00:00+00:00 2022-09-07 10:10:00+00:00  \n",
       "4 2022-09-07 13:00:00+00:00 2022-09-07 14:10:00+00:00  \n",
       "5 2022-09-08 14:30:00+00:00 2022-09-08 15:30:00+00:00  "
      ]
     },
     "execution_count": 77,
     "metadata": {},
     "output_type": "execute_result"
    }
   ],
   "source": [
    "imp_restant"
   ]
  },
  {
   "cell_type": "code",
   "execution_count": null,
   "id": "e692e4bf",
   "metadata": {},
   "outputs": [],
   "source": []
  },
  {
   "cell_type": "code",
   "execution_count": 72,
   "id": "f5743f4b",
   "metadata": {},
   "outputs": [
    {
     "ename": "TypeError",
     "evalue": "object of type 'NoneType' has no len()",
     "output_type": "error",
     "traceback": [
      "\u001b[1;31m---------------------------------------------------------------------------\u001b[0m",
      "\u001b[1;31mTypeError\u001b[0m                                 Traceback (most recent call last)",
      "Cell \u001b[1;32mIn [72], line 1\u001b[0m\n\u001b[1;32m----> 1\u001b[0m \u001b[38;5;28;43mlen\u001b[39;49m\u001b[43m(\u001b[49m\u001b[43mevt_a_cheval\u001b[49m\u001b[43m)\u001b[49m \u001b[38;5;241m>\u001b[39m\u001b[38;5;241m0\u001b[39m\n",
      "\u001b[1;31mTypeError\u001b[0m: object of type 'NoneType' has no len()"
     ]
    }
   ],
   "source": [
    "len(evt_a_cheval) >0"
   ]
  },
  {
   "cell_type": "code",
   "execution_count": null,
   "id": "62bb5b87",
   "metadata": {},
   "outputs": [],
   "source": [
    "out."
   ]
  },
  {
   "cell_type": "code",
   "execution_count": 54,
   "id": "998a53ef",
   "metadata": {},
   "outputs": [
    {
     "data": {
      "text/plain": [
       "0"
      ]
     },
     "execution_count": 54,
     "metadata": {},
     "output_type": "execute_result"
    }
   ],
   "source": [
    "imp['evt_xdate_debut'].argmin()"
   ]
  },
  {
   "cell_type": "code",
   "execution_count": 52,
   "id": "05167049",
   "metadata": {},
   "outputs": [
    {
     "data": {
      "text/html": [
       "<div>\n",
       "<style scoped>\n",
       "    .dataframe tbody tr th:only-of-type {\n",
       "        vertical-align: middle;\n",
       "    }\n",
       "\n",
       "    .dataframe tbody tr th {\n",
       "        vertical-align: top;\n",
       "    }\n",
       "\n",
       "    .dataframe thead th {\n",
       "        text-align: right;\n",
       "    }\n",
       "</style>\n",
       "<table border=\"1\" class=\"dataframe\">\n",
       "  <thead>\n",
       "    <tr style=\"text-align: right;\">\n",
       "      <th></th>\n",
       "      <th>evt_spkevenement</th>\n",
       "      <th>evt_sfkprojet</th>\n",
       "      <th>lgl_sfkligneparent</th>\n",
       "      <th>evt_xdate_debut</th>\n",
       "      <th>evt_xdate_fin</th>\n",
       "    </tr>\n",
       "  </thead>\n",
       "  <tbody>\n",
       "    <tr>\n",
       "      <th>0</th>\n",
       "      <td>1842</td>\n",
       "      <td>2531</td>\n",
       "      <td>4</td>\n",
       "      <td>2022-09-05 08:30:00+00:00</td>\n",
       "      <td>2022-09-05 09:30:00+00:00</td>\n",
       "    </tr>\n",
       "    <tr>\n",
       "      <th>1</th>\n",
       "      <td>2947</td>\n",
       "      <td>3609</td>\n",
       "      <td>4</td>\n",
       "      <td>2022-09-05 15:00:00+00:00</td>\n",
       "      <td>2022-09-05 17:00:00+00:00</td>\n",
       "    </tr>\n",
       "    <tr>\n",
       "      <th>2</th>\n",
       "      <td>3156</td>\n",
       "      <td>4219</td>\n",
       "      <td>4</td>\n",
       "      <td>2022-09-06 09:00:00+00:00</td>\n",
       "      <td>2022-09-06 10:00:00+00:00</td>\n",
       "    </tr>\n",
       "    <tr>\n",
       "      <th>3</th>\n",
       "      <td>3175</td>\n",
       "      <td>5060</td>\n",
       "      <td>4</td>\n",
       "      <td>2022-09-07 07:00:00+00:00</td>\n",
       "      <td>2022-09-07 08:15:00+00:00</td>\n",
       "    </tr>\n",
       "    <tr>\n",
       "      <th>4</th>\n",
       "      <td>5438</td>\n",
       "      <td>5325</td>\n",
       "      <td>4</td>\n",
       "      <td>2022-09-07 08:00:00+00:00</td>\n",
       "      <td>2022-09-07 10:10:00+00:00</td>\n",
       "    </tr>\n",
       "    <tr>\n",
       "      <th>5</th>\n",
       "      <td>5675</td>\n",
       "      <td>7589</td>\n",
       "      <td>4</td>\n",
       "      <td>2022-09-07 13:00:00+00:00</td>\n",
       "      <td>2022-09-07 14:10:00+00:00</td>\n",
       "    </tr>\n",
       "    <tr>\n",
       "      <th>6</th>\n",
       "      <td>8884</td>\n",
       "      <td>9124</td>\n",
       "      <td>4</td>\n",
       "      <td>2022-09-08 14:30:00+00:00</td>\n",
       "      <td>2022-09-08 15:30:00+00:00</td>\n",
       "    </tr>\n",
       "  </tbody>\n",
       "</table>\n",
       "</div>"
      ],
      "text/plain": [
       "   evt_spkevenement  evt_sfkprojet  lgl_sfkligneparent  \\\n",
       "0              1842           2531                   4   \n",
       "1              2947           3609                   4   \n",
       "2              3156           4219                   4   \n",
       "3              3175           5060                   4   \n",
       "4              5438           5325                   4   \n",
       "5              5675           7589                   4   \n",
       "6              8884           9124                   4   \n",
       "\n",
       "            evt_xdate_debut             evt_xdate_fin  \n",
       "0 2022-09-05 08:30:00+00:00 2022-09-05 09:30:00+00:00  \n",
       "1 2022-09-05 15:00:00+00:00 2022-09-05 17:00:00+00:00  \n",
       "2 2022-09-06 09:00:00+00:00 2022-09-06 10:00:00+00:00  \n",
       "3 2022-09-07 07:00:00+00:00 2022-09-07 08:15:00+00:00  \n",
       "4 2022-09-07 08:00:00+00:00 2022-09-07 10:10:00+00:00  \n",
       "5 2022-09-07 13:00:00+00:00 2022-09-07 14:10:00+00:00  \n",
       "6 2022-09-08 14:30:00+00:00 2022-09-08 15:30:00+00:00  "
      ]
     },
     "execution_count": 52,
     "metadata": {},
     "output_type": "execute_result"
    }
   ],
   "source": [
    "imp = mock_imperatifs(4, ex_date_start, ex_date_end)\n",
    "imp"
   ]
  },
  {
   "cell_type": "code",
   "execution_count": 45,
   "id": "7f99094d",
   "metadata": {},
   "outputs": [
    {
     "data": {
      "text/plain": [
       "0    False\n",
       "1     True\n",
       "2     True\n",
       "3     True\n",
       "4     True\n",
       "5     True\n",
       "Name: evt_xdate_debut, dtype: bool"
      ]
     },
     "execution_count": 45,
     "metadata": {},
     "output_type": "execute_result"
    }
   ],
   "source": [
    "out['evt_xdate_debut'] >= ex_date_start"
   ]
  },
  {
   "cell_type": "code",
   "execution_count": 7,
   "id": "8b022d99",
   "metadata": {},
   "outputs": [
    {
     "data": {
      "text/html": [
       "<div>\n",
       "<style scoped>\n",
       "    .dataframe tbody tr th:only-of-type {\n",
       "        vertical-align: middle;\n",
       "    }\n",
       "\n",
       "    .dataframe tbody tr th {\n",
       "        vertical-align: top;\n",
       "    }\n",
       "\n",
       "    .dataframe thead th {\n",
       "        text-align: right;\n",
       "    }\n",
       "</style>\n",
       "<table border=\"1\" class=\"dataframe\">\n",
       "  <thead>\n",
       "    <tr style=\"text-align: right;\">\n",
       "      <th></th>\n",
       "      <th>eeh_sfkperiode</th>\n",
       "      <th>eeh_xheuredebut</th>\n",
       "      <th>eeh_xheurefin</th>\n",
       "    </tr>\n",
       "  </thead>\n",
       "  <tbody>\n",
       "    <tr>\n",
       "      <th>0</th>\n",
       "      <td>0</td>\n",
       "      <td>06:30</td>\n",
       "      <td>10:30</td>\n",
       "    </tr>\n",
       "    <tr>\n",
       "      <th>1</th>\n",
       "      <td>0</td>\n",
       "      <td>11:30</td>\n",
       "      <td>15:30</td>\n",
       "    </tr>\n",
       "    <tr>\n",
       "      <th>2</th>\n",
       "      <td>1</td>\n",
       "      <td>06:30</td>\n",
       "      <td>10:30</td>\n",
       "    </tr>\n",
       "    <tr>\n",
       "      <th>3</th>\n",
       "      <td>1</td>\n",
       "      <td>11:30</td>\n",
       "      <td>15:30</td>\n",
       "    </tr>\n",
       "    <tr>\n",
       "      <th>4</th>\n",
       "      <td>2</td>\n",
       "      <td>06:30</td>\n",
       "      <td>10:30</td>\n",
       "    </tr>\n",
       "    <tr>\n",
       "      <th>5</th>\n",
       "      <td>2</td>\n",
       "      <td>11:30</td>\n",
       "      <td>15:30</td>\n",
       "    </tr>\n",
       "    <tr>\n",
       "      <th>6</th>\n",
       "      <td>3</td>\n",
       "      <td>06:30</td>\n",
       "      <td>10:30</td>\n",
       "    </tr>\n",
       "    <tr>\n",
       "      <th>7</th>\n",
       "      <td>3</td>\n",
       "      <td>10:30</td>\n",
       "      <td>15:30</td>\n",
       "    </tr>\n",
       "    <tr>\n",
       "      <th>8</th>\n",
       "      <td>4</td>\n",
       "      <td>07:00</td>\n",
       "      <td>10:00</td>\n",
       "    </tr>\n",
       "  </tbody>\n",
       "</table>\n",
       "</div>"
      ],
      "text/plain": [
       "   eeh_sfkperiode eeh_xheuredebut eeh_xheurefin\n",
       "0               0           06:30         10:30\n",
       "1               0           11:30         15:30\n",
       "2               1           06:30         10:30\n",
       "3               1           11:30         15:30\n",
       "4               2           06:30         10:30\n",
       "5               2           11:30         15:30\n",
       "6               3           06:30         10:30\n",
       "7               3           10:30         15:30\n",
       "8               4           07:00         10:00"
      ]
     },
     "execution_count": 7,
     "metadata": {},
     "output_type": "execute_result"
    }
   ],
   "source": [
    "ex_horaires"
   ]
  },
  {
   "cell_type": "code",
   "execution_count": 44,
   "id": "c0221a28",
   "metadata": {},
   "outputs": [],
   "source": [
    "base = base.loc[base['durée'] >= 3.5]"
   ]
  },
  {
   "cell_type": "code",
   "execution_count": 45,
   "id": "74362456",
   "metadata": {},
   "outputs": [
    {
     "data": {
      "text/html": [
       "<div>\n",
       "<style scoped>\n",
       "    .dataframe tbody tr th:only-of-type {\n",
       "        vertical-align: middle;\n",
       "    }\n",
       "\n",
       "    .dataframe tbody tr th {\n",
       "        vertical-align: top;\n",
       "    }\n",
       "\n",
       "    .dataframe thead th {\n",
       "        text-align: right;\n",
       "    }\n",
       "</style>\n",
       "<table border=\"1\" class=\"dataframe\">\n",
       "  <thead>\n",
       "    <tr style=\"text-align: right;\">\n",
       "      <th></th>\n",
       "      <th>timestamp_debut</th>\n",
       "      <th>timestamp_fin</th>\n",
       "      <th>duree</th>\n",
       "      <th>duréee</th>\n",
       "      <th>durée</th>\n",
       "    </tr>\n",
       "  </thead>\n",
       "  <tbody>\n",
       "    <tr>\n",
       "      <th>1</th>\n",
       "      <td>2022-09-01 10:30:00+00:00</td>\n",
       "      <td>2022-09-01 15:30:00+00:00</td>\n",
       "      <td>0 days 05:00:00</td>\n",
       "      <td>5.0</td>\n",
       "      <td>5.0</td>\n",
       "    </tr>\n",
       "    <tr>\n",
       "      <th>3</th>\n",
       "      <td>2022-09-05 06:30:00+00:00</td>\n",
       "      <td>2022-09-05 10:30:00+00:00</td>\n",
       "      <td>0 days 04:00:00</td>\n",
       "      <td>4.0</td>\n",
       "      <td>4.0</td>\n",
       "    </tr>\n",
       "    <tr>\n",
       "      <th>4</th>\n",
       "      <td>2022-09-05 11:30:00+00:00</td>\n",
       "      <td>2022-09-05 15:30:00+00:00</td>\n",
       "      <td>0 days 04:00:00</td>\n",
       "      <td>4.0</td>\n",
       "      <td>4.0</td>\n",
       "    </tr>\n",
       "    <tr>\n",
       "      <th>5</th>\n",
       "      <td>2022-09-06 06:30:00+00:00</td>\n",
       "      <td>2022-09-06 10:30:00+00:00</td>\n",
       "      <td>0 days 04:00:00</td>\n",
       "      <td>4.0</td>\n",
       "      <td>4.0</td>\n",
       "    </tr>\n",
       "    <tr>\n",
       "      <th>6</th>\n",
       "      <td>2022-09-06 11:30:00+00:00</td>\n",
       "      <td>2022-09-06 15:30:00+00:00</td>\n",
       "      <td>0 days 04:00:00</td>\n",
       "      <td>4.0</td>\n",
       "      <td>4.0</td>\n",
       "    </tr>\n",
       "    <tr>\n",
       "      <th>7</th>\n",
       "      <td>2022-09-06 06:30:00+00:00</td>\n",
       "      <td>2022-09-06 16:00:00+00:00</td>\n",
       "      <td>0 days 09:30:00</td>\n",
       "      <td>9.5</td>\n",
       "      <td>9.5</td>\n",
       "    </tr>\n",
       "  </tbody>\n",
       "</table>\n",
       "</div>"
      ],
      "text/plain": [
       "            timestamp_debut             timestamp_fin           duree  duréee  \\\n",
       "1 2022-09-01 10:30:00+00:00 2022-09-01 15:30:00+00:00 0 days 05:00:00     5.0   \n",
       "3 2022-09-05 06:30:00+00:00 2022-09-05 10:30:00+00:00 0 days 04:00:00     4.0   \n",
       "4 2022-09-05 11:30:00+00:00 2022-09-05 15:30:00+00:00 0 days 04:00:00     4.0   \n",
       "5 2022-09-06 06:30:00+00:00 2022-09-06 10:30:00+00:00 0 days 04:00:00     4.0   \n",
       "6 2022-09-06 11:30:00+00:00 2022-09-06 15:30:00+00:00 0 days 04:00:00     4.0   \n",
       "7 2022-09-06 06:30:00+00:00 2022-09-06 16:00:00+00:00 0 days 09:30:00     9.5   \n",
       "\n",
       "   durée  \n",
       "1    5.0  \n",
       "3    4.0  \n",
       "4    4.0  \n",
       "5    4.0  \n",
       "6    4.0  \n",
       "7    9.5  "
      ]
     },
     "execution_count": 45,
     "metadata": {},
     "output_type": "execute_result"
    }
   ],
   "source": [
    "base"
   ]
  },
  {
   "cell_type": "code",
   "execution_count": 13,
   "id": "bafa6dcc",
   "metadata": {},
   "outputs": [
    {
     "name": "stdout",
     "output_type": "stream",
     "text": [
      "Help on function make_base in module api.services.planning_optimizer.solver.planning.horaires:\n",
      "\n",
      "make_base(plages_horaires_df: pandas.core.frame.DataFrame, date_start: str, date_end: str, longueur_min_ph: float = 10.0) -> pandas.core.frame.DataFrame\n",
      "    :param plages_horaires_df: pd.DataFrame des horaires d'un utilisateur\n",
      "    :param date_start: str au format ISO, date de début du sprint\n",
      "    :param date_end: str au format ISO, date de fin du sprint\n",
      "    :param longueur_min_ph: float indiquant la durée minimale en heures d'une plage horaire sur laquelle\n",
      "    on va planifier des tâches.\n",
      "    \n",
      "    :return df_ph: dataframe des plages horaires, chacune déterminées par un timestamp de début et de fin,\n",
      "    des intervalles de temps sur lesquels des tâches vont pouvoir être planifiées.\n",
      "\n"
     ]
    }
   ],
   "source": [
    "help(make_base)"
   ]
  },
  {
   "cell_type": "code",
   "execution_count": 8,
   "id": "23d9bf1c",
   "metadata": {},
   "outputs": [],
   "source": [
    "import pandas as pd\n",
    "class SimulatedAnnealingPlanning:\n",
    "    def __init__(self, base: pd.DataFrame, tasks: pd.DataFrame):\n",
    "        self.ordonnancement = Ordonnancement(list(tasks['id_part'].values))\n",
    "        \n",
    "sap = SimulatedAnnealingPlanning(None, ex_splitted_taches)"
   ]
  },
  {
   "cell_type": "code",
   "execution_count": 10,
   "id": "945eea1b",
   "metadata": {},
   "outputs": [
    {
     "data": {
      "text/plain": [
       "[0, 1, 6, 3, 4, 5, 2, 7]"
      ]
     },
     "execution_count": 10,
     "metadata": {},
     "output_type": "execute_result"
    }
   ],
   "source": [
    "sap.ordonnancement.build_neighbour().ordonnancement"
   ]
  },
  {
   "cell_type": "code",
   "execution_count": 179,
   "id": "b97a8a18",
   "metadata": {},
   "outputs": [
    {
     "data": {
      "text/html": [
       "<div>\n",
       "<style scoped>\n",
       "    .dataframe tbody tr th:only-of-type {\n",
       "        vertical-align: middle;\n",
       "    }\n",
       "\n",
       "    .dataframe tbody tr th {\n",
       "        vertical-align: top;\n",
       "    }\n",
       "\n",
       "    .dataframe thead th {\n",
       "        text-align: right;\n",
       "    }\n",
       "</style>\n",
       "<table border=\"1\" class=\"dataframe\">\n",
       "  <thead>\n",
       "    <tr style=\"text-align: right;\">\n",
       "      <th></th>\n",
       "      <th>evt_dduree</th>\n",
       "      <th>evt_spkevenement</th>\n",
       "      <th>lgl_sfkligneparent</th>\n",
       "      <th>evt_sfkprojet</th>\n",
       "      <th>priorite</th>\n",
       "      <th>length</th>\n",
       "      <th>id_part</th>\n",
       "    </tr>\n",
       "  </thead>\n",
       "  <tbody>\n",
       "    <tr>\n",
       "      <th>0</th>\n",
       "      <td>0.75</td>\n",
       "      <td>1075</td>\n",
       "      <td>2871</td>\n",
       "      <td>2842</td>\n",
       "      <td>0</td>\n",
       "      <td>0.75</td>\n",
       "      <td>0</td>\n",
       "    </tr>\n",
       "    <tr>\n",
       "      <th>1</th>\n",
       "      <td>3.25</td>\n",
       "      <td>1500</td>\n",
       "      <td>2871</td>\n",
       "      <td>9077</td>\n",
       "      <td>0</td>\n",
       "      <td>0.25</td>\n",
       "      <td>1</td>\n",
       "    </tr>\n",
       "    <tr>\n",
       "      <th>2</th>\n",
       "      <td>3.25</td>\n",
       "      <td>1500</td>\n",
       "      <td>2871</td>\n",
       "      <td>9077</td>\n",
       "      <td>0</td>\n",
       "      <td>1.00</td>\n",
       "      <td>2</td>\n",
       "    </tr>\n",
       "    <tr>\n",
       "      <th>3</th>\n",
       "      <td>3.25</td>\n",
       "      <td>1500</td>\n",
       "      <td>2871</td>\n",
       "      <td>9077</td>\n",
       "      <td>0</td>\n",
       "      <td>1.00</td>\n",
       "      <td>3</td>\n",
       "    </tr>\n",
       "    <tr>\n",
       "      <th>4</th>\n",
       "      <td>3.25</td>\n",
       "      <td>1500</td>\n",
       "      <td>2871</td>\n",
       "      <td>9077</td>\n",
       "      <td>0</td>\n",
       "      <td>1.00</td>\n",
       "      <td>4</td>\n",
       "    </tr>\n",
       "    <tr>\n",
       "      <th>5</th>\n",
       "      <td>3.25</td>\n",
       "      <td>3591</td>\n",
       "      <td>2871</td>\n",
       "      <td>9077</td>\n",
       "      <td>0</td>\n",
       "      <td>0.25</td>\n",
       "      <td>5</td>\n",
       "    </tr>\n",
       "    <tr>\n",
       "      <th>6</th>\n",
       "      <td>3.25</td>\n",
       "      <td>3591</td>\n",
       "      <td>2871</td>\n",
       "      <td>9077</td>\n",
       "      <td>0</td>\n",
       "      <td>1.00</td>\n",
       "      <td>6</td>\n",
       "    </tr>\n",
       "    <tr>\n",
       "      <th>7</th>\n",
       "      <td>3.25</td>\n",
       "      <td>3591</td>\n",
       "      <td>2871</td>\n",
       "      <td>9077</td>\n",
       "      <td>0</td>\n",
       "      <td>1.00</td>\n",
       "      <td>7</td>\n",
       "    </tr>\n",
       "    <tr>\n",
       "      <th>8</th>\n",
       "      <td>3.25</td>\n",
       "      <td>3591</td>\n",
       "      <td>2871</td>\n",
       "      <td>9077</td>\n",
       "      <td>0</td>\n",
       "      <td>1.00</td>\n",
       "      <td>8</td>\n",
       "    </tr>\n",
       "    <tr>\n",
       "      <th>9</th>\n",
       "      <td>0.25</td>\n",
       "      <td>5035</td>\n",
       "      <td>2871</td>\n",
       "      <td>2842</td>\n",
       "      <td>0</td>\n",
       "      <td>0.25</td>\n",
       "      <td>9</td>\n",
       "    </tr>\n",
       "    <tr>\n",
       "      <th>10</th>\n",
       "      <td>1.00</td>\n",
       "      <td>6391</td>\n",
       "      <td>2871</td>\n",
       "      <td>9077</td>\n",
       "      <td>0</td>\n",
       "      <td>1.00</td>\n",
       "      <td>10</td>\n",
       "    </tr>\n",
       "    <tr>\n",
       "      <th>11</th>\n",
       "      <td>1.50</td>\n",
       "      <td>8501</td>\n",
       "      <td>2871</td>\n",
       "      <td>9227</td>\n",
       "      <td>1</td>\n",
       "      <td>0.50</td>\n",
       "      <td>11</td>\n",
       "    </tr>\n",
       "    <tr>\n",
       "      <th>12</th>\n",
       "      <td>1.50</td>\n",
       "      <td>8501</td>\n",
       "      <td>2871</td>\n",
       "      <td>9227</td>\n",
       "      <td>1</td>\n",
       "      <td>1.00</td>\n",
       "      <td>12</td>\n",
       "    </tr>\n",
       "    <tr>\n",
       "      <th>13</th>\n",
       "      <td>0.75</td>\n",
       "      <td>9646</td>\n",
       "      <td>2871</td>\n",
       "      <td>9077</td>\n",
       "      <td>0</td>\n",
       "      <td>0.75</td>\n",
       "      <td>13</td>\n",
       "    </tr>\n",
       "  </tbody>\n",
       "</table>\n",
       "</div>"
      ],
      "text/plain": [
       "    evt_dduree  evt_spkevenement  lgl_sfkligneparent  evt_sfkprojet  priorite  \\\n",
       "0         0.75              1075                2871           2842         0   \n",
       "1         3.25              1500                2871           9077         0   \n",
       "2         3.25              1500                2871           9077         0   \n",
       "3         3.25              1500                2871           9077         0   \n",
       "4         3.25              1500                2871           9077         0   \n",
       "5         3.25              3591                2871           9077         0   \n",
       "6         3.25              3591                2871           9077         0   \n",
       "7         3.25              3591                2871           9077         0   \n",
       "8         3.25              3591                2871           9077         0   \n",
       "9         0.25              5035                2871           2842         0   \n",
       "10        1.00              6391                2871           9077         0   \n",
       "11        1.50              8501                2871           9227         1   \n",
       "12        1.50              8501                2871           9227         1   \n",
       "13        0.75              9646                2871           9077         0   \n",
       "\n",
       "    length  id_part  \n",
       "0     0.75        0  \n",
       "1     0.25        1  \n",
       "2     1.00        2  \n",
       "3     1.00        3  \n",
       "4     1.00        4  \n",
       "5     0.25        5  \n",
       "6     1.00        6  \n",
       "7     1.00        7  \n",
       "8     1.00        8  \n",
       "9     0.25        9  \n",
       "10    1.00       10  \n",
       "11    0.50       11  \n",
       "12    1.00       12  \n",
       "13    0.75       13  "
      ]
     },
     "execution_count": 179,
     "metadata": {},
     "output_type": "execute_result"
    }
   ],
   "source": [
    "ex_splitted_taches"
   ]
  },
  {
   "cell_type": "code",
   "execution_count": null,
   "id": "303bd831",
   "metadata": {},
   "outputs": [],
   "source": [
    "from "
   ]
  },
  {
   "cell_type": "code",
   "execution_count": 134,
   "id": "dd34456f",
   "metadata": {},
   "outputs": [
    {
     "data": {
      "text/plain": [
       "{'evt_dduree': {0: 0.75, 1: 3.25, 2: 3.25, 3: 0.25, 4: 1.0, 5: 1.5, 6: 0.75},\n",
       " 'evt_spkevenement': {0: 1075,\n",
       "  1: 1500,\n",
       "  2: 3591,\n",
       "  3: 5035,\n",
       "  4: 6391,\n",
       "  5: 8501,\n",
       "  6: 9646},\n",
       " 'lgl_sfkligneparent': {0: 2871,\n",
       "  1: 2871,\n",
       "  2: 2871,\n",
       "  3: 2871,\n",
       "  4: 2871,\n",
       "  5: 2871,\n",
       "  6: 2871},\n",
       " 'evt_sfkprojet': {0: 2842,\n",
       "  1: 9077,\n",
       "  2: 9077,\n",
       "  3: 2842,\n",
       "  4: 9077,\n",
       "  5: 9227,\n",
       "  6: 9077},\n",
       " 'priorite': {0: 0, 1: 0, 2: 0, 3: 0, 4: 0, 5: 1, 6: 0},\n",
       " 'n_parts': {0: 1, 1: 4, 2: 4, 3: 1, 4: 1, 5: 2, 6: 1},\n",
       " 'n_filled_parts': {0: 0, 1: 3, 2: 3, 3: 0, 4: 1, 5: 1, 6: 0},\n",
       " 'length': {0: 0.75, 1: 0.25, 2: 0.25, 3: 0.25, 4: 0.0, 5: 0.5, 6: 0.75}}"
      ]
     },
     "execution_count": 134,
     "metadata": {},
     "output_type": "execute_result"
    }
   ],
   "source": [
    "df.to_dict()"
   ]
  },
  {
   "cell_type": "code",
   "execution_count": 140,
   "id": "056fb1c7",
   "metadata": {},
   "outputs": [],
   "source": [
    "t = TestSplitTasks()\n",
    "t.setUp()\n",
    "t.test_split_task()"
   ]
  },
  {
   "cell_type": "code",
   "execution_count": null,
   "id": "4623b5f5",
   "metadata": {},
   "outputs": [],
   "source": [
    "from api"
   ]
  },
  {
   "cell_type": "code",
   "execution_count": 70,
   "id": "0161a816",
   "metadata": {},
   "outputs": [
    {
     "data": {
      "text/html": [
       "<div>\n",
       "<style scoped>\n",
       "    .dataframe tbody tr th:only-of-type {\n",
       "        vertical-align: middle;\n",
       "    }\n",
       "\n",
       "    .dataframe tbody tr th {\n",
       "        vertical-align: top;\n",
       "    }\n",
       "\n",
       "    .dataframe thead th {\n",
       "        text-align: right;\n",
       "    }\n",
       "</style>\n",
       "<table border=\"1\" class=\"dataframe\">\n",
       "  <thead>\n",
       "    <tr style=\"text-align: right;\">\n",
       "      <th></th>\n",
       "      <th>evt_dduree</th>\n",
       "      <th>evt_spkevenement</th>\n",
       "      <th>lgl_sfkligneparent</th>\n",
       "      <th>evt_sfkprojet</th>\n",
       "      <th>priorite</th>\n",
       "      <th>n_parts</th>\n",
       "      <th>n_filled_parts</th>\n",
       "      <th>remaining</th>\n",
       "    </tr>\n",
       "  </thead>\n",
       "  <tbody>\n",
       "    <tr>\n",
       "      <th>8</th>\n",
       "      <td>2.0</td>\n",
       "      <td>8684.0</td>\n",
       "      <td>1750.0</td>\n",
       "      <td>9715.0</td>\n",
       "      <td>1.0</td>\n",
       "      <td>2.0</td>\n",
       "      <td>2.0</td>\n",
       "      <td>0.0</td>\n",
       "    </tr>\n",
       "  </tbody>\n",
       "</table>\n",
       "</div>"
      ],
      "text/plain": [
       "   evt_dduree  evt_spkevenement  lgl_sfkligneparent  evt_sfkprojet  priorite  \\\n",
       "8         2.0            8684.0              1750.0         9715.0       1.0   \n",
       "\n",
       "   n_parts  n_filled_parts  remaining  \n",
       "8      2.0             2.0        0.0  "
      ]
     },
     "execution_count": 70,
     "metadata": {},
     "output_type": "execute_result"
    }
   ],
   "source": [
    "pd.DataFrame(row[1]).T"
   ]
  },
  {
   "cell_type": "code",
   "execution_count": 13,
   "id": "915e042d",
   "metadata": {},
   "outputs": [],
   "source": [
    "import numpy as np\n",
    "import pandas as pd\n",
    "def split_tasks(df: pd.DataFrame, mod_lenght: float = 1):\n",
    "\n",
    "    df[\"nb Morceaux ceil\"] = np.ceil(df[\"evt_dduree\"] / mod_lenght).astype(int)\n",
    "    df[\"nb Morceaux plein\"] = (df[\"evt_dduree\"] // mod_lenght).astype(int)\n",
    "    df[\"Restant\"] = df[\"evt_dduree\"] - mod_lenght * df[\"nb Morceaux plein\"]\n",
    "\n",
    "    ilocs = np.sum(\n",
    "        [\n",
    "            [id_tache] * nb_morceau\n",
    "            for (id_tache, nb_morceau) in zip(df[\"evt_spkevenement\"], df[\"nb Morceaux ceil\"])\n",
    "        ]\n",
    "    )\n",
    "\n",
    "    list_duree = np.array(\n",
    "        np.sum(\n",
    "            [\n",
    "                [mod_lenght] * nb_morceau_plein + (restant != 0) * [restant]\n",
    "                for duree, nb_morceau_plein, restant in zip(\n",
    "                    df[\"evt_dduree\"], df[\"nb Morceaux plein\"], df[\"Restant\"]\n",
    "                )\n",
    "            ]\n",
    "        )\n",
    "    )\n",
    "\n",
    "    new_df = df.loc[ilocs]\n",
    "    new_df[\"evt_dduree\"] = list_duree\n",
    "    new_df[\"id morceau\"] = range(len(new_df))\n",
    "    new_df.drop(\n",
    "        [\"nb Morceaux ceil\", \"nb Morceaux plein\", \"Restant\"], axis=1, inplace=True\n",
    "    )\n",
    "\n",
    "    new_df.reset_index(drop=True, inplace=True)\n",
    "    return new_df"
   ]
  },
  {
   "cell_type": "code",
   "execution_count": 14,
   "id": "d446b85f",
   "metadata": {},
   "outputs": [
    {
     "name": "stderr",
     "output_type": "stream",
     "text": [
      "C:\\Users\\antoi\\Documents\\teamber-IA_microservice\\venv\\Lib\\site-packages\\numpy\\core\\fromnumeric.py:86: VisibleDeprecationWarning: Creating an ndarray from ragged nested sequences (which is a list-or-tuple of lists-or-tuples-or ndarrays with different lengths or shapes) is deprecated. If you meant to do this, you must specify 'dtype=object' when creating the ndarray.\n",
      "  return ufunc.reduce(obj, axis, dtype, out, **passkwargs)\n"
     ]
    },
    {
     "ename": "KeyError",
     "evalue": "\"None of [Int64Index([1002, 1002, 1002, 1248, 1577, 1577, 1577, 3607, 3607, 3607, 5282,\\n            5329, 6619, 6619, 6619, 6654, 6654, 7331, 7331, 7331, 7528, 7528,\\n            7528, 7528, 8248, 8248],\\n           dtype='int64')] are in the [index]\"",
     "output_type": "error",
     "traceback": [
      "\u001b[1;31m---------------------------------------------------------------------------\u001b[0m",
      "\u001b[1;31mKeyError\u001b[0m                                  Traceback (most recent call last)",
      "Cell \u001b[1;32mIn [14], line 1\u001b[0m\n\u001b[1;32m----> 1\u001b[0m \u001b[43msplit_tasks\u001b[49m\u001b[43m(\u001b[49m\u001b[43mtaches\u001b[49m\u001b[43m[\u001b[49m\u001b[38;5;241;43m4799\u001b[39;49m\u001b[43m]\u001b[49m\u001b[43m)\u001b[49m\n",
      "Cell \u001b[1;32mIn [13], line 27\u001b[0m, in \u001b[0;36msplit_tasks\u001b[1;34m(df, mod_lenght)\u001b[0m\n\u001b[0;32m      9\u001b[0m ilocs \u001b[38;5;241m=\u001b[39m np\u001b[38;5;241m.\u001b[39msum(\n\u001b[0;32m     10\u001b[0m     [\n\u001b[0;32m     11\u001b[0m         [id_tache] \u001b[38;5;241m*\u001b[39m nb_morceau\n\u001b[0;32m     12\u001b[0m         \u001b[38;5;28;01mfor\u001b[39;00m (id_tache, nb_morceau) \u001b[38;5;129;01min\u001b[39;00m \u001b[38;5;28mzip\u001b[39m(df[\u001b[38;5;124m\"\u001b[39m\u001b[38;5;124mevt_spkevenement\u001b[39m\u001b[38;5;124m\"\u001b[39m], df[\u001b[38;5;124m\"\u001b[39m\u001b[38;5;124mnb Morceaux ceil\u001b[39m\u001b[38;5;124m\"\u001b[39m])\n\u001b[0;32m     13\u001b[0m     ]\n\u001b[0;32m     14\u001b[0m )\n\u001b[0;32m     16\u001b[0m list_duree \u001b[38;5;241m=\u001b[39m np\u001b[38;5;241m.\u001b[39marray(\n\u001b[0;32m     17\u001b[0m     np\u001b[38;5;241m.\u001b[39msum(\n\u001b[0;32m     18\u001b[0m         [\n\u001b[1;32m   (...)\u001b[0m\n\u001b[0;32m     24\u001b[0m     )\n\u001b[0;32m     25\u001b[0m )\n\u001b[1;32m---> 27\u001b[0m new_df \u001b[38;5;241m=\u001b[39m \u001b[43mdf\u001b[49m\u001b[38;5;241;43m.\u001b[39;49m\u001b[43mloc\u001b[49m\u001b[43m[\u001b[49m\u001b[43milocs\u001b[49m\u001b[43m]\u001b[49m\n\u001b[0;32m     28\u001b[0m new_df[\u001b[38;5;124m\"\u001b[39m\u001b[38;5;124mevt_dduree\u001b[39m\u001b[38;5;124m\"\u001b[39m] \u001b[38;5;241m=\u001b[39m list_duree\n\u001b[0;32m     29\u001b[0m new_df[\u001b[38;5;124m\"\u001b[39m\u001b[38;5;124mid morceau\u001b[39m\u001b[38;5;124m\"\u001b[39m] \u001b[38;5;241m=\u001b[39m \u001b[38;5;28mrange\u001b[39m(\u001b[38;5;28mlen\u001b[39m(new_df))\n",
      "File \u001b[1;32m~\\Documents\\teamber-IA_microservice\\venv\\Lib\\site-packages\\pandas\\core\\indexing.py:1073\u001b[0m, in \u001b[0;36m_LocationIndexer.__getitem__\u001b[1;34m(self, key)\u001b[0m\n\u001b[0;32m   1070\u001b[0m axis \u001b[38;5;241m=\u001b[39m \u001b[38;5;28mself\u001b[39m\u001b[38;5;241m.\u001b[39maxis \u001b[38;5;129;01mor\u001b[39;00m \u001b[38;5;241m0\u001b[39m\n\u001b[0;32m   1072\u001b[0m maybe_callable \u001b[38;5;241m=\u001b[39m com\u001b[38;5;241m.\u001b[39mapply_if_callable(key, \u001b[38;5;28mself\u001b[39m\u001b[38;5;241m.\u001b[39mobj)\n\u001b[1;32m-> 1073\u001b[0m \u001b[38;5;28;01mreturn\u001b[39;00m \u001b[38;5;28;43mself\u001b[39;49m\u001b[38;5;241;43m.\u001b[39;49m\u001b[43m_getitem_axis\u001b[49m\u001b[43m(\u001b[49m\u001b[43mmaybe_callable\u001b[49m\u001b[43m,\u001b[49m\u001b[43m \u001b[49m\u001b[43maxis\u001b[49m\u001b[38;5;241;43m=\u001b[39;49m\u001b[43maxis\u001b[49m\u001b[43m)\u001b[49m\n",
      "File \u001b[1;32m~\\Documents\\teamber-IA_microservice\\venv\\Lib\\site-packages\\pandas\\core\\indexing.py:1301\u001b[0m, in \u001b[0;36m_LocIndexer._getitem_axis\u001b[1;34m(self, key, axis)\u001b[0m\n\u001b[0;32m   1298\u001b[0m     \u001b[38;5;28;01mif\u001b[39;00m \u001b[38;5;28mhasattr\u001b[39m(key, \u001b[38;5;124m\"\u001b[39m\u001b[38;5;124mndim\u001b[39m\u001b[38;5;124m\"\u001b[39m) \u001b[38;5;129;01mand\u001b[39;00m key\u001b[38;5;241m.\u001b[39mndim \u001b[38;5;241m>\u001b[39m \u001b[38;5;241m1\u001b[39m:\n\u001b[0;32m   1299\u001b[0m         \u001b[38;5;28;01mraise\u001b[39;00m \u001b[38;5;167;01mValueError\u001b[39;00m(\u001b[38;5;124m\"\u001b[39m\u001b[38;5;124mCannot index with multidimensional key\u001b[39m\u001b[38;5;124m\"\u001b[39m)\n\u001b[1;32m-> 1301\u001b[0m     \u001b[38;5;28;01mreturn\u001b[39;00m \u001b[38;5;28;43mself\u001b[39;49m\u001b[38;5;241;43m.\u001b[39;49m\u001b[43m_getitem_iterable\u001b[49m\u001b[43m(\u001b[49m\u001b[43mkey\u001b[49m\u001b[43m,\u001b[49m\u001b[43m \u001b[49m\u001b[43maxis\u001b[49m\u001b[38;5;241;43m=\u001b[39;49m\u001b[43maxis\u001b[49m\u001b[43m)\u001b[49m\n\u001b[0;32m   1303\u001b[0m \u001b[38;5;66;03m# nested tuple slicing\u001b[39;00m\n\u001b[0;32m   1304\u001b[0m \u001b[38;5;28;01mif\u001b[39;00m is_nested_tuple(key, labels):\n",
      "File \u001b[1;32m~\\Documents\\teamber-IA_microservice\\venv\\Lib\\site-packages\\pandas\\core\\indexing.py:1239\u001b[0m, in \u001b[0;36m_LocIndexer._getitem_iterable\u001b[1;34m(self, key, axis)\u001b[0m\n\u001b[0;32m   1236\u001b[0m \u001b[38;5;28mself\u001b[39m\u001b[38;5;241m.\u001b[39m_validate_key(key, axis)\n\u001b[0;32m   1238\u001b[0m \u001b[38;5;66;03m# A collection of keys\u001b[39;00m\n\u001b[1;32m-> 1239\u001b[0m keyarr, indexer \u001b[38;5;241m=\u001b[39m \u001b[38;5;28;43mself\u001b[39;49m\u001b[38;5;241;43m.\u001b[39;49m\u001b[43m_get_listlike_indexer\u001b[49m\u001b[43m(\u001b[49m\u001b[43mkey\u001b[49m\u001b[43m,\u001b[49m\u001b[43m \u001b[49m\u001b[43maxis\u001b[49m\u001b[43m)\u001b[49m\n\u001b[0;32m   1240\u001b[0m \u001b[38;5;28;01mreturn\u001b[39;00m \u001b[38;5;28mself\u001b[39m\u001b[38;5;241m.\u001b[39mobj\u001b[38;5;241m.\u001b[39m_reindex_with_indexers(\n\u001b[0;32m   1241\u001b[0m     {axis: [keyarr, indexer]}, copy\u001b[38;5;241m=\u001b[39m\u001b[38;5;28;01mTrue\u001b[39;00m, allow_dups\u001b[38;5;241m=\u001b[39m\u001b[38;5;28;01mTrue\u001b[39;00m\n\u001b[0;32m   1242\u001b[0m )\n",
      "File \u001b[1;32m~\\Documents\\teamber-IA_microservice\\venv\\Lib\\site-packages\\pandas\\core\\indexing.py:1432\u001b[0m, in \u001b[0;36m_LocIndexer._get_listlike_indexer\u001b[1;34m(self, key, axis)\u001b[0m\n\u001b[0;32m   1429\u001b[0m ax \u001b[38;5;241m=\u001b[39m \u001b[38;5;28mself\u001b[39m\u001b[38;5;241m.\u001b[39mobj\u001b[38;5;241m.\u001b[39m_get_axis(axis)\n\u001b[0;32m   1430\u001b[0m axis_name \u001b[38;5;241m=\u001b[39m \u001b[38;5;28mself\u001b[39m\u001b[38;5;241m.\u001b[39mobj\u001b[38;5;241m.\u001b[39m_get_axis_name(axis)\n\u001b[1;32m-> 1432\u001b[0m keyarr, indexer \u001b[38;5;241m=\u001b[39m \u001b[43max\u001b[49m\u001b[38;5;241;43m.\u001b[39;49m\u001b[43m_get_indexer_strict\u001b[49m\u001b[43m(\u001b[49m\u001b[43mkey\u001b[49m\u001b[43m,\u001b[49m\u001b[43m \u001b[49m\u001b[43maxis_name\u001b[49m\u001b[43m)\u001b[49m\n\u001b[0;32m   1434\u001b[0m \u001b[38;5;28;01mreturn\u001b[39;00m keyarr, indexer\n",
      "File \u001b[1;32m~\\Documents\\teamber-IA_microservice\\venv\\Lib\\site-packages\\pandas\\core\\indexes\\base.py:6113\u001b[0m, in \u001b[0;36mIndex._get_indexer_strict\u001b[1;34m(self, key, axis_name)\u001b[0m\n\u001b[0;32m   6110\u001b[0m \u001b[38;5;28;01melse\u001b[39;00m:\n\u001b[0;32m   6111\u001b[0m     keyarr, indexer, new_indexer \u001b[38;5;241m=\u001b[39m \u001b[38;5;28mself\u001b[39m\u001b[38;5;241m.\u001b[39m_reindex_non_unique(keyarr)\n\u001b[1;32m-> 6113\u001b[0m \u001b[38;5;28;43mself\u001b[39;49m\u001b[38;5;241;43m.\u001b[39;49m\u001b[43m_raise_if_missing\u001b[49m\u001b[43m(\u001b[49m\u001b[43mkeyarr\u001b[49m\u001b[43m,\u001b[49m\u001b[43m \u001b[49m\u001b[43mindexer\u001b[49m\u001b[43m,\u001b[49m\u001b[43m \u001b[49m\u001b[43maxis_name\u001b[49m\u001b[43m)\u001b[49m\n\u001b[0;32m   6115\u001b[0m keyarr \u001b[38;5;241m=\u001b[39m \u001b[38;5;28mself\u001b[39m\u001b[38;5;241m.\u001b[39mtake(indexer)\n\u001b[0;32m   6116\u001b[0m \u001b[38;5;28;01mif\u001b[39;00m \u001b[38;5;28misinstance\u001b[39m(key, Index):\n\u001b[0;32m   6117\u001b[0m     \u001b[38;5;66;03m# GH 42790 - Preserve name from an Index\u001b[39;00m\n",
      "File \u001b[1;32m~\\Documents\\teamber-IA_microservice\\venv\\Lib\\site-packages\\pandas\\core\\indexes\\base.py:6173\u001b[0m, in \u001b[0;36mIndex._raise_if_missing\u001b[1;34m(self, key, indexer, axis_name)\u001b[0m\n\u001b[0;32m   6171\u001b[0m     \u001b[38;5;28;01mif\u001b[39;00m use_interval_msg:\n\u001b[0;32m   6172\u001b[0m         key \u001b[38;5;241m=\u001b[39m \u001b[38;5;28mlist\u001b[39m(key)\n\u001b[1;32m-> 6173\u001b[0m     \u001b[38;5;28;01mraise\u001b[39;00m \u001b[38;5;167;01mKeyError\u001b[39;00m(\u001b[38;5;124mf\u001b[39m\u001b[38;5;124m\"\u001b[39m\u001b[38;5;124mNone of [\u001b[39m\u001b[38;5;132;01m{\u001b[39;00mkey\u001b[38;5;132;01m}\u001b[39;00m\u001b[38;5;124m] are in the [\u001b[39m\u001b[38;5;132;01m{\u001b[39;00maxis_name\u001b[38;5;132;01m}\u001b[39;00m\u001b[38;5;124m]\u001b[39m\u001b[38;5;124m\"\u001b[39m)\n\u001b[0;32m   6175\u001b[0m not_found \u001b[38;5;241m=\u001b[39m \u001b[38;5;28mlist\u001b[39m(ensure_index(key)[missing_mask\u001b[38;5;241m.\u001b[39mnonzero()[\u001b[38;5;241m0\u001b[39m]]\u001b[38;5;241m.\u001b[39munique())\n\u001b[0;32m   6176\u001b[0m \u001b[38;5;28;01mraise\u001b[39;00m \u001b[38;5;167;01mKeyError\u001b[39;00m(\u001b[38;5;124mf\u001b[39m\u001b[38;5;124m\"\u001b[39m\u001b[38;5;132;01m{\u001b[39;00mnot_found\u001b[38;5;132;01m}\u001b[39;00m\u001b[38;5;124m not in index\u001b[39m\u001b[38;5;124m\"\u001b[39m)\n",
      "\u001b[1;31mKeyError\u001b[0m: \"None of [Int64Index([1002, 1002, 1002, 1248, 1577, 1577, 1577, 3607, 3607, 3607, 5282,\\n            5329, 6619, 6619, 6619, 6654, 6654, 7331, 7331, 7331, 7528, 7528,\\n            7528, 7528, 8248, 8248],\\n           dtype='int64')] are in the [index]\""
     ]
    }
   ],
   "source": [
    "split_tasks(taches[4799])"
   ]
  },
  {
   "cell_type": "markdown",
   "id": "6b4c6eba",
   "metadata": {},
   "source": [
    "import numpy as np\n",
    "\n",
    "n_tasks = int(np.random.normal(25, 6))"
   ]
  },
  {
   "cell_type": "code",
   "execution_count": 15,
   "id": "eb44067f",
   "metadata": {},
   "outputs": [],
   "source": [
    "from api.services.planning_optimizer.data_handlers.horaires import make_horaire_clean\n",
    "from api.services.planning_optimizer.data_handlers.taches import make_clean_task, map_priorite, split_tsk_utl\n",
    "\n",
    "dict_hor = make_horaire_clean(df_hor)\n",
    "df_tsk = make_clean_task(df_tsk)"
   ]
  },
  {
   "cell_type": "code",
   "execution_count": 16,
   "id": "87848df3",
   "metadata": {},
   "outputs": [
    {
     "data": {
      "text/plain": [
       "{311:    eeh_sfkperiode eeh_xheuredebut eeh_xheurefin\n",
       " 0               0           06:30         10:30\n",
       " 1               0           11:30         15:30\n",
       " 2               1           06:30         10:30\n",
       " 3               1           11:30         15:30\n",
       " 4               2           06:30         10:30\n",
       " 5               2           11:30         15:30\n",
       " 6               3           06:30         10:30\n",
       " 7               3           10:30         15:30\n",
       " 8               4           07:00         10:00}"
      ]
     },
     "execution_count": 16,
     "metadata": {},
     "output_type": "execute_result"
    }
   ],
   "source": [
    "dict_hor"
   ]
  },
  {
   "cell_type": "code",
   "execution_count": null,
   "id": "6c613ab3",
   "metadata": {},
   "outputs": [],
   "source": []
  },
  {
   "cell_type": "code",
   "execution_count": 6,
   "id": "ad06261d",
   "metadata": {},
   "outputs": [],
   "source": [
    "from module.tests.planning_optimizer.data_mocker import mock_dict_priorites_projets\n",
    "dict_prio = mock_dict_priorites_projets(df_tsk)\n",
    "\n",
    "df_tsk = map_priorite(df_tsk, dict_prio)"
   ]
  },
  {
   "cell_type": "code",
   "execution_count": null,
   "id": "d46ca001",
   "metadata": {},
   "outputs": [],
   "source": []
  },
  {
   "cell_type": "code",
   "execution_count": 7,
   "id": "25f37c0b",
   "metadata": {},
   "outputs": [],
   "source": [
    "task_to_optimize_dict, missing_data_utl = split_tsk_utl(dict_hor, df_tsk)"
   ]
  },
  {
   "cell_type": "markdown",
   "id": "34c9ff39",
   "metadata": {},
   "source": [
    "## testing "
   ]
  },
  {
   "cell_type": "code",
   "execution_count": 8,
   "id": "987b83c6",
   "metadata": {},
   "outputs": [],
   "source": [
    "from module.tests.planning_optimizer.data_mocker import mock_df_tsk"
   ]
  },
  {
   "cell_type": "code",
   "execution_count": 9,
   "id": "3250c11c",
   "metadata": {},
   "outputs": [],
   "source": [
    "df_tsk = mock_df_tsk(dict_hor)"
   ]
  },
  {
   "cell_type": "markdown",
   "id": "dee1baaf",
   "metadata": {},
   "source": [
    "## ajout intersection avec impératifs : je suis bloqué, il me faut la bonne clé utilisateur"
   ]
  },
  {
   "cell_type": "code",
   "execution_count": 24,
   "id": "fa5966cf",
   "metadata": {},
   "outputs": [],
   "source": [
    "splitted_imp = split_imp(df_imp)"
   ]
  },
  {
   "cell_type": "code",
   "execution_count": 25,
   "id": "eb772fd8",
   "metadata": {},
   "outputs": [
    {
     "data": {
      "text/plain": [
       "{18711:    evt_dduree  evt_spkevenement  lgl_sfkligneparent  evt_sfkprojet  \\\n",
       " 0         0.5              4425               18711             96   \n",
       " 1         1.5              4423               18711             96   \n",
       " 6         0.5              3975               18711             99   \n",
       " \n",
       "             evt_xdate_debut             evt_xdate_fin  \n",
       " 0  2022-10-11T09:00:00.000Z  2022-10-11T09:15:00.000Z  \n",
       " 1  2022-10-11T07:00:00.000Z  2022-10-11T08:30:00.000Z  \n",
       " 6  2022-10-04T08:00:00.000Z  2022-10-04T09:00:00.000Z  ,\n",
       " 20193:    evt_dduree  evt_spkevenement  lgl_sfkligneparent  evt_sfkprojet  \\\n",
       " 2         2.0              3794               20193            126   \n",
       " 7         1.0              3793               20193            126   \n",
       " \n",
       "             evt_xdate_debut             evt_xdate_fin  \n",
       " 2  2022-10-06T09:00:00.000Z  2022-10-06T11:00:00.000Z  \n",
       " 7  2022-10-06T07:30:00.000Z  2022-10-06T08:30:00.000Z  ,\n",
       " 20188:    evt_dduree  evt_spkevenement  lgl_sfkligneparent  evt_sfkprojet  \\\n",
       " 3         1.5              4812               20188            126   \n",
       " 4         0.5              3934               20188            126   \n",
       " \n",
       "             evt_xdate_debut             evt_xdate_fin  \n",
       " 3  2022-10-12T12:00:00.000Z  2022-10-12T13:30:00.000Z  \n",
       " 4  2022-10-05T10:30:00.000Z  2022-10-05T11:00:00.000Z  ,\n",
       " 20192:    evt_dduree  evt_spkevenement  lgl_sfkligneparent  evt_sfkprojet  \\\n",
       " 5         0.5              3483               20192            126   \n",
       " 8         0.5              4141               20192            126   \n",
       " \n",
       "             evt_xdate_debut             evt_xdate_fin  \n",
       " 5  2022-10-05T06:30:00.000Z  2022-10-05T07:00:00.000Z  \n",
       " 8  2022-10-05T13:30:00.000Z  2022-10-05T14:00:00.000Z  ,\n",
       " 18767:    evt_dduree  evt_spkevenement  lgl_sfkligneparent  evt_sfkprojet  \\\n",
       " 9         0.5              3389               18767            108   \n",
       " \n",
       "             evt_xdate_debut             evt_xdate_fin  \n",
       " 9  2022-10-03T15:30:00.000Z  2022-10-03T16:00:00.000Z  }"
      ]
     },
     "execution_count": 25,
     "metadata": {},
     "output_type": "execute_result"
    }
   ],
   "source": [
    "splitted_imp"
   ]
  },
  {
   "cell_type": "code",
   "execution_count": 23,
   "id": "356a891b",
   "metadata": {},
   "outputs": [
    {
     "data": {
      "text/html": [
       "<div>\n",
       "<style scoped>\n",
       "    .dataframe tbody tr th:only-of-type {\n",
       "        vertical-align: middle;\n",
       "    }\n",
       "\n",
       "    .dataframe tbody tr th {\n",
       "        vertical-align: top;\n",
       "    }\n",
       "\n",
       "    .dataframe thead th {\n",
       "        text-align: right;\n",
       "    }\n",
       "</style>\n",
       "<table border=\"1\" class=\"dataframe\">\n",
       "  <thead>\n",
       "    <tr style=\"text-align: right;\">\n",
       "      <th></th>\n",
       "      <th>evt_dduree</th>\n",
       "      <th>evt_spkevenement</th>\n",
       "      <th>lgl_sfkligneparent</th>\n",
       "      <th>evt_sfkprojet</th>\n",
       "    </tr>\n",
       "  </thead>\n",
       "  <tbody>\n",
       "    <tr>\n",
       "      <th>0</th>\n",
       "      <td>3.00</td>\n",
       "      <td>375</td>\n",
       "      <td>311</td>\n",
       "      <td>6556</td>\n",
       "    </tr>\n",
       "    <tr>\n",
       "      <th>1</th>\n",
       "      <td>0.50</td>\n",
       "      <td>1535</td>\n",
       "      <td>311</td>\n",
       "      <td>6556</td>\n",
       "    </tr>\n",
       "    <tr>\n",
       "      <th>2</th>\n",
       "      <td>2.25</td>\n",
       "      <td>1654</td>\n",
       "      <td>311</td>\n",
       "      <td>6556</td>\n",
       "    </tr>\n",
       "    <tr>\n",
       "      <th>3</th>\n",
       "      <td>3.75</td>\n",
       "      <td>2358</td>\n",
       "      <td>311</td>\n",
       "      <td>6556</td>\n",
       "    </tr>\n",
       "    <tr>\n",
       "      <th>4</th>\n",
       "      <td>2.25</td>\n",
       "      <td>2439</td>\n",
       "      <td>311</td>\n",
       "      <td>6556</td>\n",
       "    </tr>\n",
       "    <tr>\n",
       "      <th>5</th>\n",
       "      <td>3.50</td>\n",
       "      <td>3321</td>\n",
       "      <td>311</td>\n",
       "      <td>6556</td>\n",
       "    </tr>\n",
       "    <tr>\n",
       "      <th>6</th>\n",
       "      <td>2.25</td>\n",
       "      <td>3533</td>\n",
       "      <td>311</td>\n",
       "      <td>6556</td>\n",
       "    </tr>\n",
       "    <tr>\n",
       "      <th>7</th>\n",
       "      <td>1.75</td>\n",
       "      <td>3676</td>\n",
       "      <td>311</td>\n",
       "      <td>6556</td>\n",
       "    </tr>\n",
       "    <tr>\n",
       "      <th>8</th>\n",
       "      <td>0.75</td>\n",
       "      <td>3804</td>\n",
       "      <td>311</td>\n",
       "      <td>6556</td>\n",
       "    </tr>\n",
       "    <tr>\n",
       "      <th>9</th>\n",
       "      <td>0.50</td>\n",
       "      <td>3859</td>\n",
       "      <td>311</td>\n",
       "      <td>6556</td>\n",
       "    </tr>\n",
       "    <tr>\n",
       "      <th>10</th>\n",
       "      <td>0.75</td>\n",
       "      <td>4872</td>\n",
       "      <td>311</td>\n",
       "      <td>6556</td>\n",
       "    </tr>\n",
       "    <tr>\n",
       "      <th>11</th>\n",
       "      <td>0.25</td>\n",
       "      <td>5003</td>\n",
       "      <td>311</td>\n",
       "      <td>6556</td>\n",
       "    </tr>\n",
       "    <tr>\n",
       "      <th>12</th>\n",
       "      <td>3.00</td>\n",
       "      <td>5034</td>\n",
       "      <td>311</td>\n",
       "      <td>6556</td>\n",
       "    </tr>\n",
       "    <tr>\n",
       "      <th>13</th>\n",
       "      <td>3.25</td>\n",
       "      <td>5060</td>\n",
       "      <td>311</td>\n",
       "      <td>6556</td>\n",
       "    </tr>\n",
       "    <tr>\n",
       "      <th>14</th>\n",
       "      <td>2.25</td>\n",
       "      <td>5095</td>\n",
       "      <td>311</td>\n",
       "      <td>6556</td>\n",
       "    </tr>\n",
       "    <tr>\n",
       "      <th>15</th>\n",
       "      <td>0.75</td>\n",
       "      <td>5155</td>\n",
       "      <td>311</td>\n",
       "      <td>6556</td>\n",
       "    </tr>\n",
       "    <tr>\n",
       "      <th>16</th>\n",
       "      <td>3.00</td>\n",
       "      <td>5839</td>\n",
       "      <td>311</td>\n",
       "      <td>6556</td>\n",
       "    </tr>\n",
       "    <tr>\n",
       "      <th>17</th>\n",
       "      <td>0.50</td>\n",
       "      <td>6127</td>\n",
       "      <td>311</td>\n",
       "      <td>6556</td>\n",
       "    </tr>\n",
       "    <tr>\n",
       "      <th>18</th>\n",
       "      <td>3.00</td>\n",
       "      <td>6299</td>\n",
       "      <td>311</td>\n",
       "      <td>6556</td>\n",
       "    </tr>\n",
       "    <tr>\n",
       "      <th>19</th>\n",
       "      <td>0.75</td>\n",
       "      <td>6858</td>\n",
       "      <td>311</td>\n",
       "      <td>6556</td>\n",
       "    </tr>\n",
       "    <tr>\n",
       "      <th>20</th>\n",
       "      <td>3.50</td>\n",
       "      <td>7102</td>\n",
       "      <td>311</td>\n",
       "      <td>6556</td>\n",
       "    </tr>\n",
       "    <tr>\n",
       "      <th>21</th>\n",
       "      <td>3.25</td>\n",
       "      <td>8204</td>\n",
       "      <td>311</td>\n",
       "      <td>6556</td>\n",
       "    </tr>\n",
       "    <tr>\n",
       "      <th>22</th>\n",
       "      <td>1.00</td>\n",
       "      <td>9297</td>\n",
       "      <td>311</td>\n",
       "      <td>6556</td>\n",
       "    </tr>\n",
       "    <tr>\n",
       "      <th>23</th>\n",
       "      <td>3.50</td>\n",
       "      <td>9378</td>\n",
       "      <td>311</td>\n",
       "      <td>6556</td>\n",
       "    </tr>\n",
       "    <tr>\n",
       "      <th>24</th>\n",
       "      <td>1.75</td>\n",
       "      <td>9843</td>\n",
       "      <td>311</td>\n",
       "      <td>6556</td>\n",
       "    </tr>\n",
       "  </tbody>\n",
       "</table>\n",
       "</div>"
      ],
      "text/plain": [
       "    evt_dduree  evt_spkevenement  lgl_sfkligneparent  evt_sfkprojet\n",
       "0         3.00               375                 311           6556\n",
       "1         0.50              1535                 311           6556\n",
       "2         2.25              1654                 311           6556\n",
       "3         3.75              2358                 311           6556\n",
       "4         2.25              2439                 311           6556\n",
       "5         3.50              3321                 311           6556\n",
       "6         2.25              3533                 311           6556\n",
       "7         1.75              3676                 311           6556\n",
       "8         0.75              3804                 311           6556\n",
       "9         0.50              3859                 311           6556\n",
       "10        0.75              4872                 311           6556\n",
       "11        0.25              5003                 311           6556\n",
       "12        3.00              5034                 311           6556\n",
       "13        3.25              5060                 311           6556\n",
       "14        2.25              5095                 311           6556\n",
       "15        0.75              5155                 311           6556\n",
       "16        3.00              5839                 311           6556\n",
       "17        0.50              6127                 311           6556\n",
       "18        3.00              6299                 311           6556\n",
       "19        0.75              6858                 311           6556\n",
       "20        3.50              7102                 311           6556\n",
       "21        3.25              8204                 311           6556\n",
       "22        1.00              9297                 311           6556\n",
       "23        3.50              9378                 311           6556\n",
       "24        1.75              9843                 311           6556"
      ]
     },
     "execution_count": 23,
     "metadata": {},
     "output_type": "execute_result"
    }
   ],
   "source": [
    "df_tsk"
   ]
  },
  {
   "cell_type": "code",
   "execution_count": 10,
   "id": "e981cbaa",
   "metadata": {},
   "outputs": [
    {
     "data": {
      "text/plain": [
       "{311:    eeh_sfkperiode eeh_xheuredebut eeh_xheurefin\n",
       " 0               0           06:30         10:30\n",
       " 1               0           11:30         15:30\n",
       " 2               1           06:30         10:30\n",
       " 3               1           11:30         15:30\n",
       " 4               2           06:30         10:30\n",
       " 5               2           11:30         15:30\n",
       " 6               3           06:30         10:30\n",
       " 7               3           10:30         15:30\n",
       " 8               4           07:00         10:00}"
      ]
     },
     "execution_count": 10,
     "metadata": {},
     "output_type": "execute_result"
    }
   ],
   "source": [
    "dict_hor"
   ]
  },
  {
   "cell_type": "code",
   "execution_count": 11,
   "id": "09ecfab1",
   "metadata": {
    "scrolled": false
   },
   "outputs": [
    {
     "ename": "NameError",
     "evalue": "name 'make_df_ph' is not defined",
     "output_type": "error",
     "traceback": [
      "\u001b[1;31m---------------------------------------------------------------------------\u001b[0m",
      "\u001b[1;31mNameError\u001b[0m                                 Traceback (most recent call last)",
      "Cell \u001b[1;32mIn [11], line 1\u001b[0m\n\u001b[1;32m----> 1\u001b[0m \u001b[43mmake_df_ph\u001b[49m(dict_hor[\u001b[38;5;241m311\u001b[39m], datein_isoformat, dateout_isoformat)\n",
      "\u001b[1;31mNameError\u001b[0m: name 'make_df_ph' is not defined"
     ]
    }
   ],
   "source": [
    "make_df_ph(dict_hor[311], datein_isoformat, dateout_isoformat)"
   ]
  }
 ],
 "metadata": {
  "kernelspec": {
   "display_name": "Python 3 (ipykernel)",
   "language": "python",
   "name": "python3"
  },
  "language_info": {
   "codemirror_mode": {
    "name": "ipython",
    "version": 3
   },
   "file_extension": ".py",
   "mimetype": "text/x-python",
   "name": "python",
   "nbconvert_exporter": "python",
   "pygments_lexer": "ipython3",
   "version": "3.11.0"
  }
 },
 "nbformat": 4,
 "nbformat_minor": 5
}
