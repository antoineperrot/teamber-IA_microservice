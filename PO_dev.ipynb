{
 "cells": [
  {
   "cell_type": "markdown",
   "id": "ce97a8f0",
   "metadata": {},
   "source": [
    "### development data:"
   ]
  },
  {
   "cell_type": "code",
   "execution_count": 1,
   "id": "05c39030",
   "metadata": {},
   "outputs": [],
   "source": [
    "url = 'https://development.api.wandeed.com/api/lst/search?offset=0&limit=500'\n",
    "access_token = 'Bearer eyJhbGciOiJSUzI1NiIsInR5cCIgOiAiSldUIiwia2lkIiA6ICJydXRUeHJ5dlltOUVZcGhpRjRxak45ajFvTktLNnU4YUhuM1QySFFSUU5FIn0.eyJleHAiOjE2NjgzNTY4NTEsImlhdCI6MTY2ODMzODg1MSwiYXV0aF90aW1lIjoxNjY4MzM4ODUwLCJqdGkiOiIyMjRiNjVmZC0zYjUwLTRmYjctYTJkMS1hNjEzNTY4Y2U3ZWYiLCJpc3MiOiJodHRwczovL2RldmVsb3BtZW50LmF1dGgud2FuZGVlZC5jb20vYXV0aC9yZWFsbXMvd2FuZGVlZC1yZWFsbSIsImF1ZCI6ImFjY291bnQiLCJzdWIiOiIzMWZmODY3NC1iOGZhLTQyMmYtYWM3NC02YzFjZGI2YTUwZGUiLCJ0eXAiOiJCZWFyZXIiLCJhenAiOiJ3YW5kZWVkLWNsaWVudCIsIm5vbmNlIjoiMzc0ZGY2OTYtZDcwNi00NTIwLTg4MDgtODViN2JmOGNiMDkxIiwic2Vzc2lvbl9zdGF0ZSI6IjFkNmE1NjQ1LWQ4MGYtNDI1Zi05NWVhLTQ3NzI1YjNhMDhmMiIsImFjciI6IjEiLCJhbGxvd2VkLW9yaWdpbnMiOlsiaHR0cHM6Ly8qLndhbmRlZWQuY29tLyoiLCJodHRwczovLyouYXBpLndhbmRlZWQuY29tLyoiLCIqIiwiaHR0cHM6Ly8qLmFkbWluLndhbmRlZWQuY29tLyoiLCJodHRwczovLyouYXV0aC53YW5kZWVkLmNvbSJdLCJyZWFsbV9hY2Nlc3MiOnsicm9sZXMiOlsiZGVmYXVsdC1yb2xlcy13YW5kZWVkLXJlYWxtIiwib2ZmbGluZV9hY2Nlc3MiLCJ1bWFfYXV0aG9yaXphdGlvbiJdfSwicmVzb3VyY2VfYWNjZXNzIjp7ImFjY291bnQiOnsicm9sZXMiOlsibWFuYWdlLWFjY291bnQiLCJtYW5hZ2UtYWNjb3VudC1saW5rcyIsInZpZXctcHJvZmlsZSJdfX0sInNjb3BlIjoib3BlbmlkIGVtYWlsIHByb2ZpbGUiLCJzaWQiOiIxZDZhNTY0NS1kODBmLTQyNWYtOTVlYS00NzcyNWIzYTA4ZjIiLCJ1dGxfc3BrdXRpbGlzYXRldXIiOjEsInV0bF91dGlsaXNhdGV1cl9yb2xlcyI6IlsxXSIsInV0bF9jcHJlbm9tIjoiR2F5bG9yZCIsImVtYWlsX3ZlcmlmaWVkIjp0cnVlLCJ1dGxfc2FwcGFydGVuYW5jZSI6WzIsMzhdLCJ1dGxfY25vbSI6IlBldGl0IiwicHJlZmVycmVkX3VzZXJuYW1lIjoiZ2F5bG9yZC5wZXRpdEB0ZWFtYmVyLmZyIiwibG9jYWxlIjoiZnIiLCJnaXZlbl9uYW1lIjoiR2F5bG9yZCIsInV0bF9zZmtpbnN0YW5jZSI6MSwidXRsX3NhZG1pbmlzdHJlciI6W10sIm5hbWUiOiJHYXlsb3JkIFBldGl0IiwidXRsX3Nkcm9pdHNhY2NlcyI6WzMsNCw1LDE1LDI1LDI2LDMzLDM0LDM1LDM2LDM3LDQwLDQxLDQ0LDQ1LDQ2LDQ3LDYwLDYzLDY0LDY1LDY2LDY3LDY4LDY5LDcwLDcxLDcyLDczLDc0LDc1LDc2LDc3LDc4XSwiZmFtaWx5X25hbWUiOiJQZXRpdCIsImVtYWlsIjoiZ2F5bG9yZC5wZXRpdEB0ZWFtYmVyLmZyIiwidXNlcl9ncm91cHMiOlsyLDM4LDMsNCw1LDE1LDI1LDI2LDMzLDM0LDM1LDM2LDM3LDQwLDQxLDQ0LDQ1LDQ2LDQ3LDYwLDYzLDY0LDY1LDY2LDY3LDY4LDY5LDcwLDcxLDcyLDczLDc0LDc1LDc2LDc3LDc4XX0.TQih5SGeV2fsitnmnvDLbjFYTh5US0s3c9q8wWShC9ts0XEQSaOQA_7_ssXNPoPGIp-8v8sL7h7GMUKIUDiyHau9Ko43YhabzhM7xmXRTEci75eNkplnTIMEmQb2XMzwkGoOV4pLjQN4eVOJtwokso8BrLMgEExO5A8kAAPjL_bTgl3hC3AZLUL4Xhkjs0jrsZdD_57V4heyhwCJqg1HCHtDkHrTLx95EZeaRQ-fpTJrLzPHo_E7ce-EL8PMoPpySUpKBpIsn_C02bG1sET7TgbbkLX172rCI_xa1kNMXbKCgB3eEerGNxPh52Af_Bu4DJGam5ie4y72ImaAb4Japw'\n",
    "headers={'Authorization': f'{access_token}',\n",
    "          'Content-Type':'application/json'}"
   ]
  },
  {
   "cell_type": "markdown",
   "id": "9b3e540b",
   "metadata": {},
   "source": [
    "### teamber data:"
   ]
  },
  {
   "cell_type": "code",
   "execution_count": 15,
   "id": "3ee7b3f3",
   "metadata": {},
   "outputs": [],
   "source": [
    "url = 'https://teamber.api.wandeed.com/api/lst/search?offset=0&limit=500'\n",
    "access_token = 'Bearer eyJhbGciOiJSUzI1NiIsInR5cCIgOiAiSldUIiwia2lkIiA6ICJLQ01VZlkwNDZJSF9vOFo2SmUzaUF2cTRXc21yQkFrdGRTU18wZjNzMmlzIn0.eyJleHAiOjE2NzAxNzE0MTQsImlhdCI6MTY3MDE1MzQxNCwiYXV0aF90aW1lIjoxNjcwMTUzNDEzLCJqdGkiOiIzOTgzNmY2My1lYWI5LTQzN2EtOTM1OS0xYzYxMTAzYjQyZTAiLCJpc3MiOiJodHRwczovL3RlYW1iZXIuYXV0aC53YW5kZWVkLmNvbS9hdXRoL3JlYWxtcy93YW5kZWVkLXJlYWxtIiwiYXVkIjoiYWNjb3VudCIsInN1YiI6IjVkNDc5Y2QxLTgyZTUtNGI3Ni04ZGZjLTE0Y2Q4N2ZlOWIzMyIsInR5cCI6IkJlYXJlciIsImF6cCI6IndhbmRlZWQtY2xpZW50Iiwibm9uY2UiOiJjNDQ3YTAwOC02M2E5LTRiNjYtODRhMC05MjI5MmVkMjU2NjYiLCJzZXNzaW9uX3N0YXRlIjoiZDY2MjJhMjItZTc5Mi00Y2E2LWIzMWYtMzQyMDMxZTU5N2QzIiwiYWNyIjoiMSIsImFsbG93ZWQtb3JpZ2lucyI6WyJodHRwczovLyoud2FuZGVlZC5jb20vKiIsImh0dHBzOi8vKi5hcGkud2FuZGVlZC5jb20vKiIsIioiLCJodHRwczovLyouYWRtaW4ud2FuZGVlZC5jb20vKiIsImh0dHBzOi8vKi5hdXRoLndhbmRlZWQuY29tIl0sInJlYWxtX2FjY2VzcyI6eyJyb2xlcyI6WyJkZWZhdWx0LXJvbGVzLXdhbmRlZWQtcmVhbG0iLCJvZmZsaW5lX2FjY2VzcyIsInVtYV9hdXRob3JpemF0aW9uIl19LCJyZXNvdXJjZV9hY2Nlc3MiOnsiYWNjb3VudCI6eyJyb2xlcyI6WyJtYW5hZ2UtYWNjb3VudCIsIm1hbmFnZS1hY2NvdW50LWxpbmtzIiwidmlldy1wcm9maWxlIl19fSwic2NvcGUiOiJvcGVuaWQgZW1haWwgcHJvZmlsZSIsInNpZCI6ImQ2NjIyYTIyLWU3OTItNGNhNi1iMzFmLTM0MjAzMWU1OTdkMyIsInV0bF9zcGt1dGlsaXNhdGV1ciI6Mjk2LCJ1dGxfY3ByZW5vbSI6IkdheWxvcmQiLCJlbWFpbF92ZXJpZmllZCI6dHJ1ZSwidXRsX3V0aWxpc2F0ZXVyX3JvbGVzIjoiWzFdIiwidXRsX3NhcHBhcnRlbmFuY2UiOlsxMjJdLCJ1dGxfY25vbSI6IlBFVElUIiwicHJlZmVycmVkX3VzZXJuYW1lIjoiZ2F5bG9yZC5wZXRpdEB0ZWFtYmVyLmZyIiwiZ2l2ZW5fbmFtZSI6IkdheWxvcmQiLCJ1dGxfc2ZraW5zdGFuY2UiOjEsInV0bF9zYWRtaW5pc3RyZXIiOltdLCJuYW1lIjoiR2F5bG9yZCBQRVRJVCIsInV0bF9zZHJvaXRzYWNjZXMiOlsxMjAsMTIzLDEyNSwxMjYsMTI3LDIyMiwyNjQsMjY1LDI2NiwyNjcsMjY4LDI3MSwyNzIsMjczLDI3NCwyNzUsMjc2LDI3NywyNjksMjcwLDI4MSwyODJdLCJmYW1pbHlfbmFtZSI6IlBFVElUIiwiZW1haWwiOiJnYXlsb3JkLnBldGl0QHRlYW1iZXIuZnIiLCJ1c2VyX2dyb3VwcyI6WzEyMiwxMjAsMTIzLDEyNSwxMjYsMTI3LDIyMiwyNjQsMjY1LDI2NiwyNjcsMjY4LDI3MSwyNzIsMjczLDI3NCwyNzUsMjc2LDI3NywyNjksMjcwLDI4MSwyODJdfQ.AS8VrmefNoBdomjx6dbeHuhYVN_WbSnjQ4aQJrp_XrbFRGWu6IOYuJrlGFC1AM2VNunmXv3k49Kvf7gZ2Nv7G36i7q3giOboEr6PI3Gk1JfwUI0-HjcfzZ7Lkdmm1o5YAY0GIqDDb2UPmlVdlDdbn8tOZcUjBa1QMq8ANiPN9jmDY02btggc0wmvVaNf9Qgb4XypCD7ygzcYFIRa1fty_UpaqOVq94LrRVicsHYJLmFsyTWjk_Eehg-mrBc1MxYb2FMDey3ePSe2QgFaI1PWZ1lr9iDxB3zKepjZyTk5wnGucgNVSLqw7-UUj8TIj2C_OuAsJm5GBB9gUhzYCTsr_A'\n",
    "headers={'Authorization': f'{access_token}',\n",
    "             'Content-Type':'application/json'}\n"
   ]
  },
  {
   "cell_type": "markdown",
   "id": "d806aecd",
   "metadata": {},
   "source": [
    "## requêtes pour les tâches non planifiées :"
   ]
  },
  {
   "cell_type": "code",
   "execution_count": 21,
   "id": "d6dc2182",
   "metadata": {},
   "outputs": [],
   "source": [
    "date_start  = \"2022-10-03T06:31:00.000Z\"\n",
    "date_end = \"2022-12-15T07:00:00.000Z\"\n",
    "\n",
    "from api.back_connector.planning_optimizer import fetch_data"
   ]
  },
  {
   "cell_type": "code",
   "execution_count": 22,
   "id": "fbd4a1dd",
   "metadata": {},
   "outputs": [],
   "source": [
    "imperatifs, horaires, taches, utilisateurs_avec_taches_sans_horaires = fetch_data(url, access_token, date_start, date_end, {})"
   ]
  },
  {
   "cell_type": "code",
   "execution_count": 26,
   "id": "1035af17",
   "metadata": {},
   "outputs": [
    {
     "data": {
      "text/plain": [
       "[20192,\n",
       " 20193,\n",
       " 28389,\n",
       " 24875,\n",
       " 18767,\n",
       " 18710,\n",
       " 18711,\n",
       " 28409,\n",
       " 20188,\n",
       " 20189,\n",
       " 20190,\n",
       " 20191]"
      ]
     },
     "execution_count": 26,
     "metadata": {},
     "output_type": "execute_result"
    }
   ],
   "source": [
    "utilisateurs_avec_taches_sans_horaires"
   ]
  },
  {
   "cell_type": "code",
   "execution_count": 4,
   "id": "6d43e225",
   "metadata": {},
   "outputs": [
    {
     "data": {
      "text/plain": [
       "dict_keys([])"
      ]
     },
     "execution_count": 4,
     "metadata": {},
     "output_type": "execute_result"
    }
   ],
   "source": [
    "taches.keys()"
   ]
  },
  {
   "cell_type": "code",
   "execution_count": 5,
   "id": "2b19bd36",
   "metadata": {
    "scrolled": true
   },
   "outputs": [
    {
     "data": {
      "text/plain": [
       "dict_keys([])"
      ]
     },
     "execution_count": 5,
     "metadata": {},
     "output_type": "execute_result"
    }
   ],
   "source": [
    "horaires.keys()"
   ]
  },
  {
   "cell_type": "code",
   "execution_count": 6,
   "id": "853d2465",
   "metadata": {
    "scrolled": true
   },
   "outputs": [
    {
     "data": {
      "text/plain": [
       "[20192,\n",
       " 20193,\n",
       " 28419,\n",
       " 28389,\n",
       " 28423,\n",
       " 24875,\n",
       " 18767,\n",
       " 18711,\n",
       " 28409,\n",
       " 20188,\n",
       " 20189,\n",
       " 20190,\n",
       " 20191]"
      ]
     },
     "execution_count": 6,
     "metadata": {},
     "output_type": "execute_result"
    }
   ],
   "source": [
    "utilisateurs_avec_taches_sans_horaires"
   ]
  },
  {
   "cell_type": "markdown",
   "id": "ce52a9e4",
   "metadata": {},
   "source": [
    "## With mocked data :"
   ]
  },
  {
   "cell_type": "code",
   "execution_count": 10,
   "id": "40eeb5f0",
   "metadata": {
    "scrolled": false
   },
   "outputs": [
    {
     "name": "stdout",
     "output_type": "stream",
     "text": [
      "Attention, les impératis mockées sont disponibles uniquement entre 2022-09-05 08:30:00+0000 et           2022-09-08 15:30:00+0000\n"
     ]
    }
   ],
   "source": [
    "from api.services.planning_optimizer.tests.data_mocker import mock_back_data\n",
    "ex_date_start = \"2022-09-05 09:00:00+0000\"\n",
    "ex_date_end   = \"2022-09-09 16:00:00+0000\"\n",
    "taches, horaires, imperatifs = mock_back_data(ex_date_start, ex_date_end, avg_n_users=20, avg_n_tasks=350)\n",
    "\n",
    "\n",
    "ex_taches = list(taches.values())[0]\n",
    "ex_horaires = list(horaires.values())[0]\n",
    "ex_imperatifs = list(imperatifs.values())[0]\n",
    "\n",
    "import pandas as pd\n",
    "from api.services.planning_optimizer.solver.tools.taches import split_tasks\n",
    "from api.services.planning_optimizer.solver.planning.horaires import compute_availabilities\n",
    "from api.services.planning_optimizer.solver.planning.ordonnancement import Ordonnancement\n",
    "from api.services.planning_optimizer.solver import solver\n"
   ]
  },
  {
   "cell_type": "code",
   "execution_count": 11,
   "id": "14abab51",
   "metadata": {},
   "outputs": [],
   "source": [
    "events, unfilled_tasks, availabilities = solver(ex_horaires,\n",
    "                      ex_taches,\n",
    "                      ex_imperatifs,\n",
    "                      ex_date_start,\n",
    "                       ex_date_end,\n",
    "                       duree_min_morceau = 1.5,\n",
    "                       longueur_min_ph= 0.25)"
   ]
  },
  {
   "cell_type": "code",
   "execution_count": 12,
   "id": "d7ec7d93",
   "metadata": {},
   "outputs": [
    {
     "data": {
      "text/html": [
       "<div>\n",
       "<style scoped>\n",
       "    .dataframe tbody tr th:only-of-type {\n",
       "        vertical-align: middle;\n",
       "    }\n",
       "\n",
       "    .dataframe tbody tr th {\n",
       "        vertical-align: top;\n",
       "    }\n",
       "\n",
       "    .dataframe thead th {\n",
       "        text-align: right;\n",
       "    }\n",
       "</style>\n",
       "<table border=\"1\" class=\"dataframe\">\n",
       "  <thead>\n",
       "    <tr style=\"text-align: right;\">\n",
       "      <th></th>\n",
       "      <th>start</th>\n",
       "      <th>end</th>\n",
       "      <th>evt_spkevenement</th>\n",
       "      <th>evt_sfkprojet</th>\n",
       "      <th>priorite</th>\n",
       "    </tr>\n",
       "  </thead>\n",
       "  <tbody>\n",
       "    <tr>\n",
       "      <th>0</th>\n",
       "      <td>2022-09-05 11:30:00+00:00</td>\n",
       "      <td>2022-09-05 14:15:00+00:00</td>\n",
       "      <td>7557</td>\n",
       "      <td>1008</td>\n",
       "      <td>3</td>\n",
       "    </tr>\n",
       "    <tr>\n",
       "      <th>1</th>\n",
       "      <td>2022-09-05 14:15:00+00:00</td>\n",
       "      <td>2022-09-05 15:00:00+00:00</td>\n",
       "      <td>8699</td>\n",
       "      <td>1008</td>\n",
       "      <td>3</td>\n",
       "    </tr>\n",
       "    <tr>\n",
       "      <th>2</th>\n",
       "      <td>2022-09-06 06:30:00+00:00</td>\n",
       "      <td>2022-09-06 08:00:00+00:00</td>\n",
       "      <td>8372</td>\n",
       "      <td>4538</td>\n",
       "      <td>5</td>\n",
       "    </tr>\n",
       "    <tr>\n",
       "      <th>3</th>\n",
       "      <td>2022-09-06 11:30:00+00:00</td>\n",
       "      <td>2022-09-06 13:00:00+00:00</td>\n",
       "      <td>8372</td>\n",
       "      <td>4538</td>\n",
       "      <td>5</td>\n",
       "    </tr>\n",
       "    <tr>\n",
       "      <th>4</th>\n",
       "      <td>2022-09-06 13:00:00+00:00</td>\n",
       "      <td>2022-09-06 14:00:00+00:00</td>\n",
       "      <td>5264</td>\n",
       "      <td>4243</td>\n",
       "      <td>5</td>\n",
       "    </tr>\n",
       "    <tr>\n",
       "      <th>5</th>\n",
       "      <td>2022-09-06 14:00:00+00:00</td>\n",
       "      <td>2022-09-06 14:30:00+00:00</td>\n",
       "      <td>1791</td>\n",
       "      <td>4538</td>\n",
       "      <td>5</td>\n",
       "    </tr>\n",
       "    <tr>\n",
       "      <th>6</th>\n",
       "      <td>2022-09-07 08:45:00+00:00</td>\n",
       "      <td>2022-09-07 10:30:00+00:00</td>\n",
       "      <td>1791</td>\n",
       "      <td>4538</td>\n",
       "      <td>5</td>\n",
       "    </tr>\n",
       "    <tr>\n",
       "      <th>7</th>\n",
       "      <td>2022-09-07 11:30:00+00:00</td>\n",
       "      <td>2022-09-07 13:00:00+00:00</td>\n",
       "      <td>2480</td>\n",
       "      <td>4655</td>\n",
       "      <td>6</td>\n",
       "    </tr>\n",
       "    <tr>\n",
       "      <th>8</th>\n",
       "      <td>2022-09-08 06:30:00+00:00</td>\n",
       "      <td>2022-09-08 08:00:00+00:00</td>\n",
       "      <td>8259</td>\n",
       "      <td>2726</td>\n",
       "      <td>6</td>\n",
       "    </tr>\n",
       "    <tr>\n",
       "      <th>9</th>\n",
       "      <td>2022-09-08 08:00:00+00:00</td>\n",
       "      <td>2022-09-08 08:45:00+00:00</td>\n",
       "      <td>5432</td>\n",
       "      <td>2726</td>\n",
       "      <td>6</td>\n",
       "    </tr>\n",
       "    <tr>\n",
       "      <th>10</th>\n",
       "      <td>2022-09-08 08:45:00+00:00</td>\n",
       "      <td>2022-09-08 10:00:00+00:00</td>\n",
       "      <td>5953</td>\n",
       "      <td>9029</td>\n",
       "      <td>6</td>\n",
       "    </tr>\n",
       "    <tr>\n",
       "      <th>11</th>\n",
       "      <td>2022-09-08 10:30:00+00:00</td>\n",
       "      <td>2022-09-08 13:15:00+00:00</td>\n",
       "      <td>57</td>\n",
       "      <td>2726</td>\n",
       "      <td>6</td>\n",
       "    </tr>\n",
       "    <tr>\n",
       "      <th>12</th>\n",
       "      <td>2022-09-09 07:00:00+00:00</td>\n",
       "      <td>2022-09-09 09:15:00+00:00</td>\n",
       "      <td>3007</td>\n",
       "      <td>4494</td>\n",
       "      <td>8</td>\n",
       "    </tr>\n",
       "  </tbody>\n",
       "</table>\n",
       "</div>"
      ],
      "text/plain": [
       "                       start                       end  evt_spkevenement  \\\n",
       "0  2022-09-05 11:30:00+00:00 2022-09-05 14:15:00+00:00              7557   \n",
       "1  2022-09-05 14:15:00+00:00 2022-09-05 15:00:00+00:00              8699   \n",
       "2  2022-09-06 06:30:00+00:00 2022-09-06 08:00:00+00:00              8372   \n",
       "3  2022-09-06 11:30:00+00:00 2022-09-06 13:00:00+00:00              8372   \n",
       "4  2022-09-06 13:00:00+00:00 2022-09-06 14:00:00+00:00              5264   \n",
       "5  2022-09-06 14:00:00+00:00 2022-09-06 14:30:00+00:00              1791   \n",
       "6  2022-09-07 08:45:00+00:00 2022-09-07 10:30:00+00:00              1791   \n",
       "7  2022-09-07 11:30:00+00:00 2022-09-07 13:00:00+00:00              2480   \n",
       "8  2022-09-08 06:30:00+00:00 2022-09-08 08:00:00+00:00              8259   \n",
       "9  2022-09-08 08:00:00+00:00 2022-09-08 08:45:00+00:00              5432   \n",
       "10 2022-09-08 08:45:00+00:00 2022-09-08 10:00:00+00:00              5953   \n",
       "11 2022-09-08 10:30:00+00:00 2022-09-08 13:15:00+00:00                57   \n",
       "12 2022-09-09 07:00:00+00:00 2022-09-09 09:15:00+00:00              3007   \n",
       "\n",
       "    evt_sfkprojet  priorite  \n",
       "0            1008         3  \n",
       "1            1008         3  \n",
       "2            4538         5  \n",
       "3            4538         5  \n",
       "4            4243         5  \n",
       "5            4538         5  \n",
       "6            4538         5  \n",
       "7            4655         6  \n",
       "8            2726         6  \n",
       "9            2726         6  \n",
       "10           9029         6  \n",
       "11           2726         6  \n",
       "12           4494         8  "
      ]
     },
     "execution_count": 12,
     "metadata": {},
     "output_type": "execute_result"
    }
   ],
   "source": [
    "events"
   ]
  }
 ],
 "metadata": {
  "kernelspec": {
   "display_name": "Python 3 (ipykernel)",
   "language": "python",
   "name": "python3"
  },
  "language_info": {
   "codemirror_mode": {
    "name": "ipython",
    "version": 3
   },
   "file_extension": ".py",
   "mimetype": "text/x-python",
   "name": "python",
   "nbconvert_exporter": "python",
   "pygments_lexer": "ipython3",
   "version": "3.11.0"
  }
 },
 "nbformat": 4,
 "nbformat_minor": 5
}
