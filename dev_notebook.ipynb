{
 "cells": [
  {
   "cell_type": "code",
   "execution_count": 1,
   "id": "2e37a7f3",
   "metadata": {},
   "outputs": [],
   "source": [
    "import requests\n",
    "\n",
    "api_url = 'https://development.api.wandeed.com/api/lst/search?offset=0&limit=500'\n",
    "access_token='eyJhbGciOiJSUzI1NiIsInR5cCIgOiAiSldUIiwia2lkIiA6ICJydXRUeHJ5dlltOUVZcGhpRjRxak45ajFvTktLNnU4YUhuM1QySFFSUU5FIn0.eyJleHAiOjE2NjIwNDc1MDAsImlhdCI6MTY2MjAyOTUwMCwiYXV0aF90aW1lIjoxNjYyMDEzMTYwLCJqdGkiOiIyYWM0ZmVlNS1hNTgyLTQyY2MtOWYxMC1lODVhMDdhMTBlZGQiLCJpc3MiOiJodHRwczovL2RldmVsb3BtZW50LmF1dGgud2FuZGVlZC5jb20vYXV0aC9yZWFsbXMvd2FuZGVlZC1yZWFsbSIsImF1ZCI6ImFjY291bnQiLCJzdWIiOiIzMWZmODY3NC1iOGZhLTQyMmYtYWM3NC02YzFjZGI2YTUwZGUiLCJ0eXAiOiJCZWFyZXIiLCJhenAiOiJ3YW5kZWVkLWNsaWVudCIsIm5vbmNlIjoiNjgxZTBhMzktZmNlNS00OWRmLTk1NjYtMmViY2UyNjE4ZjRhIiwic2Vzc2lvbl9zdGF0ZSI6IjRjZGViZWUwLWE5MTAtNDkxMC05NDQzLTMwMWUzZGM4YjdjMyIsImFjciI6IjAiLCJhbGxvd2VkLW9yaWdpbnMiOlsiaHR0cHM6Ly8qLndhbmRlZWQuY29tLyoiLCJodHRwczovLyouYXBpLndhbmRlZWQuY29tLyoiLCIqIiwiaHR0cHM6Ly8qLmFkbWluLndhbmRlZWQuY29tLyoiLCJodHRwczovLyouYXV0aC53YW5kZWVkLmNvbSJdLCJyZWFsbV9hY2Nlc3MiOnsicm9sZXMiOlsiZGVmYXVsdC1yb2xlcy13YW5kZWVkLXJlYWxtIiwib2ZmbGluZV9hY2Nlc3MiLCJ1bWFfYXV0aG9yaXphdGlvbiJdfSwicmVzb3VyY2VfYWNjZXNzIjp7ImFjY291bnQiOnsicm9sZXMiOlsibWFuYWdlLWFjY291bnQiLCJtYW5hZ2UtYWNjb3VudC1saW5rcyIsInZpZXctcHJvZmlsZSJdfX0sInNjb3BlIjoib3BlbmlkIGVtYWlsIHByb2ZpbGUiLCJzaWQiOiI0Y2RlYmVlMC1hOTEwLTQ5MTAtOTQ0My0zMDFlM2RjOGI3YzMiLCJ1dGxfc3BrdXRpbGlzYXRldXIiOjEsInV0bF91dGlsaXNhdGV1cl9yb2xlcyI6IlsxXSIsInV0bF9jcHJlbm9tIjoiR2F5bG9yZCIsImVtYWlsX3ZlcmlmaWVkIjp0cnVlLCJ1dGxfc2FwcGFydGVuYW5jZSI6WzIsMzhdLCJ1dGxfY25vbSI6IlBldGl0IiwicHJlZmVycmVkX3VzZXJuYW1lIjoiZ2F5bG9yZC5wZXRpdEB0ZWFtYmVyLmZyIiwibG9jYWxlIjoiZnIiLCJnaXZlbl9uYW1lIjoiR2F5bG9yZCIsInV0bF9zZmtpbnN0YW5jZSI6MSwidXRsX3NhZG1pbmlzdHJlciI6W10sIm5hbWUiOiJHYXlsb3JkIFBldGl0IiwidXRsX3Nkcm9pdHNhY2NlcyI6WzYwLDMsNCw1LDE1LDI1LDI2LDMzLDM0LDM1LDM2LDM3LDQwLDQxLDQ0LDQ1LDQ2LDQ3XSwiZmFtaWx5X25hbWUiOiJQZXRpdCIsImVtYWlsIjoiZ2F5bG9yZC5wZXRpdEB0ZWFtYmVyLmZyIiwidXNlcl9ncm91cHMiOlsyLDM4LDYwLDMsNCw1LDE1LDI1LDI2LDMzLDM0LDM1LDM2LDM3LDQwLDQxLDQ0LDQ1LDQ2LDQ3XX0.rzhDdHuidbki30T98ktirs7hpuRAGfx5s5QJdoo44sIKkBBfZaywYGwt_nNiCom3xNpFbI3eChye7HjbVdz6FqegJhP3jVSJAtu7xpCLJd0CebzXqZdg9eYMfiehXv7an_jyAHS7VcrXj5beOzAghdruxpUvSFzYXER_-nQfw3QSs0--DceFGFdOZLJPkqOw0aXMSG5L8WqdSSJm75LroJi3K59kxRkJkSOgWngRYWOKG9Q0UXoqvSwHrAT4oTjGGrbhMJMYOUIV4-mPUyEQ0oc4mtqzRcqUAd_yFaGPGVGRfWY8bbVyWBD9YbwmeOf-NymeY-eiIMSjaViDWu97uw'\n",
    "\n",
    "data = {\n",
    "    \"select\": [\n",
    "        \"utl_spkutilisateur\",\n",
    "        \"int_sfkprojet\"\n",
    "    ],\n",
    "    \"from\": \"lst_vevenement_PY\",\n",
    "    \"where\": {\n",
    "        \"condition\": \"and\",\n",
    "        \"rules\": [\n",
    "            {\n",
    "                \"label\": \"evt_xdate_debut\",\n",
    "                \"field\": \"evt_xdate_debut\",\n",
    "                \"operator\": \"morethan\",\n",
    "                \"type\": \"boolean\",\n",
    "                \"value\": \"01/12/2022\"\n",
    "            },\n",
    "            {\n",
    "                \"label\": \"evt_xdate_fin\",\n",
    "                \"field\": \"evt_xdate_fin\",\n",
    "                \"operator\": \"lessthan\",\n",
    "                \"type\": \"number\",\n",
    "                \"value\": \"30/12/2022\"\n",
    "            }\n",
    "        ]\n",
    "    }\n",
    "}\n"
   ]
  },
  {
   "cell_type": "code",
   "execution_count": 2,
   "id": "5d31dbed",
   "metadata": {},
   "outputs": [
    {
     "ename": "NameError",
     "evalue": "name 'headers' is not defined",
     "output_type": "error",
     "traceback": [
      "\u001b[1;31m---------------------------------------------------------------------------\u001b[0m",
      "\u001b[1;31mNameError\u001b[0m                                 Traceback (most recent call last)",
      "\u001b[1;32m<ipython-input-2-8af5b58d53e7>\u001b[0m in \u001b[0;36m<module>\u001b[1;34m\u001b[0m\n\u001b[0;32m      2\u001b[0m         \u001b[1;34m'from'\u001b[0m\u001b[1;33m:\u001b[0m \u001b[1;34m'lst_vcompetence_PY'\u001b[0m\u001b[1;33m,\u001b[0m\u001b[1;33m\u001b[0m\u001b[1;33m\u001b[0m\u001b[0m\n\u001b[0;32m      3\u001b[0m }\n\u001b[1;32m----> 4\u001b[1;33m \u001b[0mresp\u001b[0m \u001b[1;33m=\u001b[0m \u001b[0mrequests\u001b[0m\u001b[1;33m.\u001b[0m\u001b[0mpost\u001b[0m\u001b[1;33m(\u001b[0m\u001b[0mapi_url\u001b[0m\u001b[1;33m,\u001b[0m \u001b[0mheaders\u001b[0m\u001b[1;33m=\u001b[0m\u001b[0mheaders\u001b[0m\u001b[1;33m,\u001b[0m \u001b[0mjson\u001b[0m \u001b[1;33m=\u001b[0m \u001b[0mdata\u001b[0m\u001b[1;33m)\u001b[0m\u001b[1;33m\u001b[0m\u001b[1;33m\u001b[0m\u001b[0m\n\u001b[0m\u001b[0;32m      5\u001b[0m \u001b[0mprint\u001b[0m\u001b[1;33m(\u001b[0m\u001b[0mresp\u001b[0m\u001b[1;33m)\u001b[0m\u001b[1;33m\u001b[0m\u001b[1;33m\u001b[0m\u001b[0m\n\u001b[0;32m      6\u001b[0m \u001b[1;33m\u001b[0m\u001b[0m\n",
      "\u001b[1;31mNameError\u001b[0m: name 'headers' is not defined"
     ]
    }
   ],
   "source": [
    "data = {'select':['emc_sfkutilisateur','emc_sfkarticle','emc_sniveau'],\n",
    "        'from': 'lst_vcompetence_PY',\n",
    "}\n",
    "resp = requests.post(api_url, headers=headers, json = data)\n",
    "print(resp)\n",
    "\n",
    "data = {\n",
    "    \"select\": [\n",
    "        \"utl_spkutilisateur\",\n",
    "        \"int_sfkprojet\"\n",
    "    ],\n",
    "    \"from\": \"lst_vevenement_PY\",\n",
    "    \"where\": {\n",
    "        \"condition\": \"and\",\n",
    "        \"rules\": [\n",
    "            {\n",
    "                \"label\": \"evt_xdate_debut\",\n",
    "                \"field\": \"evt_xdate_debut\",\n",
    "                \"operator\": \"morethan\",\n",
    "                \"type\": \"boolean\",\n",
    "                \"value\": \"01/12/2022\"\n",
    "            },\n",
    "            {\n",
    "                \"label\": \"evt_xdate_fin\",\n",
    "                \"field\": \"evt_xdate_fin\",\n",
    "                \"operator\": \"lessthan\",\n",
    "                \"type\": \"number\",\n",
    "                \"value\": \"30/12/2022\"\n",
    "            }\n",
    "        ]\n",
    "    }\n",
    "}\n",
    "resp = requests.post(api_url, headers=headers, json = data)\n",
    "print(resp)"
   ]
  },
  {
   "cell_type": "markdown",
   "id": "b37760ba",
   "metadata": {},
   "source": [
    "## en-tête des requêtes :"
   ]
  },
  {
   "cell_type": "code",
   "execution_count": 2,
   "id": "194f6ec6",
   "metadata": {},
   "outputs": [],
   "source": [
    "api_url = 'https://development.api.wandeed.com/api/lst/search?offset=0&limit=500'\n",
    "access_token='eyJhbGciOiJSUzI1NiIsInR5cCIgOiAiSldUIiwia2lkIiA6ICJydXRUeHJ5dlltOUVZcGhpRjRxak45ajFvTktLNnU4YUhuM1QySFFSUU5FIn0.eyJleHAiOjE2NjIxMjMyODQsImlhdCI6MTY2MjEwNTI4NCwiYXV0aF90aW1lIjoxNjYyMTA1MjgzLCJqdGkiOiJiZTg5N2YzZC1iZDJhLTQ3MDQtOTcyMy01NTgwZmFhOGRkNjIiLCJpc3MiOiJodHRwczovL2RldmVsb3BtZW50LmF1dGgud2FuZGVlZC5jb20vYXV0aC9yZWFsbXMvd2FuZGVlZC1yZWFsbSIsImF1ZCI6ImFjY291bnQiLCJzdWIiOiIzMWZmODY3NC1iOGZhLTQyMmYtYWM3NC02YzFjZGI2YTUwZGUiLCJ0eXAiOiJCZWFyZXIiLCJhenAiOiJ3YW5kZWVkLWNsaWVudCIsIm5vbmNlIjoiY2RmMzc2OTctMjY5Ny00MTE1LWFmNDUtZmQyYzE4MDRlNmI1Iiwic2Vzc2lvbl9zdGF0ZSI6Ijc3NTVjNzZkLWExMDYtNGE4ZS1hNTE5LWM0ZDAwNGExMWJhOCIsImFjciI6IjEiLCJhbGxvd2VkLW9yaWdpbnMiOlsiaHR0cHM6Ly8qLndhbmRlZWQuY29tLyoiLCJodHRwczovLyouYXBpLndhbmRlZWQuY29tLyoiLCIqIiwiaHR0cHM6Ly8qLmFkbWluLndhbmRlZWQuY29tLyoiLCJodHRwczovLyouYXV0aC53YW5kZWVkLmNvbSJdLCJyZWFsbV9hY2Nlc3MiOnsicm9sZXMiOlsiZGVmYXVsdC1yb2xlcy13YW5kZWVkLXJlYWxtIiwib2ZmbGluZV9hY2Nlc3MiLCJ1bWFfYXV0aG9yaXphdGlvbiJdfSwicmVzb3VyY2VfYWNjZXNzIjp7ImFjY291bnQiOnsicm9sZXMiOlsibWFuYWdlLWFjY291bnQiLCJtYW5hZ2UtYWNjb3VudC1saW5rcyIsInZpZXctcHJvZmlsZSJdfX0sInNjb3BlIjoib3BlbmlkIGVtYWlsIHByb2ZpbGUiLCJzaWQiOiI3NzU1Yzc2ZC1hMTA2LTRhOGUtYTUxOS1jNGQwMDRhMTFiYTgiLCJ1dGxfc3BrdXRpbGlzYXRldXIiOjEsInV0bF91dGlsaXNhdGV1cl9yb2xlcyI6IlsxXSIsInV0bF9jcHJlbm9tIjoiR2F5bG9yZCIsImVtYWlsX3ZlcmlmaWVkIjp0cnVlLCJ1dGxfc2FwcGFydGVuYW5jZSI6WzIsMzhdLCJ1dGxfY25vbSI6IlBldGl0IiwicHJlZmVycmVkX3VzZXJuYW1lIjoiZ2F5bG9yZC5wZXRpdEB0ZWFtYmVyLmZyIiwibG9jYWxlIjoiZnIiLCJnaXZlbl9uYW1lIjoiR2F5bG9yZCIsInV0bF9zZmtpbnN0YW5jZSI6MSwidXRsX3NhZG1pbmlzdHJlciI6W10sIm5hbWUiOiJHYXlsb3JkIFBldGl0IiwidXRsX3Nkcm9pdHNhY2NlcyI6WzYwLDMsNCw1LDE1LDI1LDI2LDMzLDM0LDM1LDM2LDM3LDQwLDQxLDQ0LDQ1LDQ2LDQ3XSwiZmFtaWx5X25hbWUiOiJQZXRpdCIsImVtYWlsIjoiZ2F5bG9yZC5wZXRpdEB0ZWFtYmVyLmZyIiwidXNlcl9ncm91cHMiOlsyLDM4LDYwLDMsNCw1LDE1LDI1LDI2LDMzLDM0LDM1LDM2LDM3LDQwLDQxLDQ0LDQ1LDQ2LDQ3XX0.RxaYUfGqoQU4F2lucmyC2yR2mk4AWniPi8lCpxf70GJv3k8xGbEv0FExXuEv-Kpht9gGC9LKGpEOZ_RMbXQkLOpf0uwE6iQSx5DZL9nA_AP7Vyvvt8-0h5xHsadOtPWgLPzaSi6L3fCpmUVFvnmes_gJcRxHqm2VTM3FqmpXa9PJrPdtiHT95XAKnqbPaayNrSjGQ8xn_HfpYZxRUn9GzckNTBIr4Fo78MbMaLMMQfZsAONiBUUk_4eywwzsOiKtEwPyE_g-44MwzkRqWMLfAakD5nQIjTJbBl-ZGVND81KuTUKun91CSTb8o-nQYxIPDD3fS_9v8s9r6DP0-TAnKA'\n",
    "\n",
    "headers={'Authorization': f'Bearer {access_token}',\n",
    "             'Content-Type':'application/json'}"
   ]
  },
  {
   "cell_type": "markdown",
   "id": "6f8e8ebc",
   "metadata": {},
   "source": [
    "## requete pour obtenir les tâches :"
   ]
  },
  {
   "cell_type": "code",
   "execution_count": 3,
   "id": "3a2c1973",
   "metadata": {},
   "outputs": [
    {
     "name": "stdout",
     "output_type": "stream",
     "text": [
      "<Response [401]>\n"
     ]
    }
   ],
   "source": [
    "data = {'select':['evt_spkevenement','evt_sfkprojet','evt_dduree'],\n",
    "        'from': 'lst_vevenement_py',\n",
    "       \"where\": {\n",
    "                \"rules\": [{\n",
    "                        \"label\": \"evt_spkevenement\",\n",
    "                        \"field\": \"evt_sfkprojet\",\n",
    "                        \"operator\": \"is not\",\n",
    "                        \"type\": \"boolean\",\n",
    "                        \"value\": \"NULL\"\n",
    "                    },]\n",
    "                }\n",
    "}\n",
    "resp = requests.post(api_url, headers=headers, json = data)\n",
    "print(resp)"
   ]
  },
  {
   "cell_type": "code",
   "execution_count": 4,
   "id": "b863f232",
   "metadata": {},
   "outputs": [
    {
     "name": "stdout",
     "output_type": "stream",
     "text": [
      "envoi de la requete pour les taches\n",
      "Erreur récupération des données sur le serveur\n"
     ]
    }
   ],
   "source": [
    "import pandas as pd\n",
    "def get_taches(): # later : param list_utilisateur\n",
    "    data = {'select':['evt_spkevenement','evt_sfkprojet','evt_dduree'],\n",
    "        'from': 'lst_vevenement_py'}\n",
    "    print('envoi de la requete pour les taches')\n",
    "    resp = requests.post(api_url, headers=headers, json = data)\n",
    "    if resp.status_code != 200 :\n",
    "        print('Erreur récupération des données sur le serveur')\n",
    "        \n",
    "    else: \n",
    "        print('Requête effectuée aves succès.')\n",
    "        res = resp.json()['result']\n",
    "        df = pd.DataFrame(res)\n",
    "        return df\n",
    "\n",
    "get_taches()    "
   ]
  },
  {
   "cell_type": "markdown",
   "id": "f7eeacad",
   "metadata": {},
   "source": [
    "## requete pour obtenir les compétences utilisateurs :"
   ]
  },
  {
   "cell_type": "code",
   "execution_count": 8,
   "id": "7aa178d2",
   "metadata": {},
   "outputs": [
    {
     "name": "stdout",
     "output_type": "stream",
     "text": [
      "<Response [412]>\n",
      "<Response [200]>\n"
     ]
    }
   ],
   "source": [
    "data = {'select':['emc_sfkutilisateur','emc_sfkarticle','emc_sniveau'],\n",
    "        'from': 'lst_vcompetence_PY'\n",
    "}\n",
    "resp = requests.post(api_url, headers=headers, json = data)\n",
    "print(resp)\n",
    "\n",
    "\n",
    "data = {'select':['utl_spkutilisateur','utl_sdispo'],\n",
    "        'from': 'lst_vdispo_py'}\n",
    "resp = requests.post(api_url, headers=headers, json = data)\n",
    "print(resp)"
   ]
  },
  {
   "cell_type": "code",
   "execution_count": 5,
   "id": "8a680c2b",
   "metadata": {},
   "outputs": [
    {
     "ename": "NameError",
     "evalue": "name 'get_dispo_utilisateur' is not defined",
     "output_type": "error",
     "traceback": [
      "\u001b[1;31m---------------------------------------------------------------------------\u001b[0m",
      "\u001b[1;31mNameError\u001b[0m                                 Traceback (most recent call last)",
      "\u001b[1;32m<ipython-input-5-41a430c5fcfa>\u001b[0m in \u001b[0;36m<module>\u001b[1;34m\u001b[0m\n\u001b[0;32m     13\u001b[0m         \u001b[1;32mreturn\u001b[0m \u001b[0mdf\u001b[0m\u001b[1;33m\u001b[0m\u001b[1;33m\u001b[0m\u001b[0m\n\u001b[0;32m     14\u001b[0m \u001b[1;33m\u001b[0m\u001b[0m\n\u001b[1;32m---> 15\u001b[1;33m \u001b[0mget_dispo_utilisateur\u001b[0m\u001b[1;33m(\u001b[0m\u001b[1;33m)\u001b[0m\u001b[1;33m\u001b[0m\u001b[1;33m\u001b[0m\u001b[0m\n\u001b[0m",
      "\u001b[1;31mNameError\u001b[0m: name 'get_dispo_utilisateur' is not defined"
     ]
    }
   ],
   "source": [
    "import pandas as pd\n",
    "def get_competences_utilisateurs(): # later : param list_utilisateur\n",
    "    data = {'select':['emc_sfkutilisateur','emc_sfkarticle','emc_sniveau'],'from': 'lst_vcompetence_PY'}\n",
    "    print('envoi de la requete pour les dispos utilisateurs')\n",
    "    resp = requests.post(api_url, headers=headers, json = data)\n",
    "    if resp.status_code != 200 :\n",
    "        print('Erreur récupération des données sur le serveur')\n",
    "        \n",
    "    else: \n",
    "        print('Requête effectuée aves succès.')\n",
    "        res = resp.json()['result']\n",
    "        df = pd.DataFrame(res)\n",
    "        return df\n",
    "\n",
    "get_dispo_utilisateur()    "
   ]
  },
  {
   "cell_type": "markdown",
   "id": "7b05f343",
   "metadata": {},
   "source": [
    "## requete pour obtenir les dispos utilisateurs :"
   ]
  },
  {
   "cell_type": "code",
   "execution_count": 9,
   "id": "d3b66d75",
   "metadata": {},
   "outputs": [
    {
     "name": "stdout",
     "output_type": "stream",
     "text": [
      "envoi de la requete pour les dispos utilisateurs\n",
      "Requête effectuée aves succès.\n"
     ]
    },
    {
     "data": {
      "text/html": [
       "<div>\n",
       "<style scoped>\n",
       "    .dataframe tbody tr th:only-of-type {\n",
       "        vertical-align: middle;\n",
       "    }\n",
       "\n",
       "    .dataframe tbody tr th {\n",
       "        vertical-align: top;\n",
       "    }\n",
       "\n",
       "    .dataframe thead th {\n",
       "        text-align: right;\n",
       "    }\n",
       "</style>\n",
       "<table border=\"1\" class=\"dataframe\">\n",
       "  <thead>\n",
       "    <tr style=\"text-align: right;\">\n",
       "      <th></th>\n",
       "      <th>utl_spkutilisateur</th>\n",
       "      <th>utl_sdispo</th>\n",
       "    </tr>\n",
       "  </thead>\n",
       "  <tbody>\n",
       "    <tr>\n",
       "      <th>0</th>\n",
       "      <td>4</td>\n",
       "      <td>45</td>\n",
       "    </tr>\n",
       "    <tr>\n",
       "      <th>1</th>\n",
       "      <td>6</td>\n",
       "      <td>90</td>\n",
       "    </tr>\n",
       "    <tr>\n",
       "      <th>2</th>\n",
       "      <td>8</td>\n",
       "      <td>43</td>\n",
       "    </tr>\n",
       "    <tr>\n",
       "      <th>3</th>\n",
       "      <td>9</td>\n",
       "      <td>55</td>\n",
       "    </tr>\n",
       "    <tr>\n",
       "      <th>4</th>\n",
       "      <td>11</td>\n",
       "      <td>8</td>\n",
       "    </tr>\n",
       "    <tr>\n",
       "      <th>5</th>\n",
       "      <td>5</td>\n",
       "      <td>51</td>\n",
       "    </tr>\n",
       "    <tr>\n",
       "      <th>6</th>\n",
       "      <td>24</td>\n",
       "      <td>37</td>\n",
       "    </tr>\n",
       "    <tr>\n",
       "      <th>7</th>\n",
       "      <td>27</td>\n",
       "      <td>100</td>\n",
       "    </tr>\n",
       "    <tr>\n",
       "      <th>8</th>\n",
       "      <td>10</td>\n",
       "      <td>4</td>\n",
       "    </tr>\n",
       "    <tr>\n",
       "      <th>9</th>\n",
       "      <td>7</td>\n",
       "      <td>71</td>\n",
       "    </tr>\n",
       "    <tr>\n",
       "      <th>10</th>\n",
       "      <td>1</td>\n",
       "      <td>14</td>\n",
       "    </tr>\n",
       "    <tr>\n",
       "      <th>11</th>\n",
       "      <td>22</td>\n",
       "      <td>18</td>\n",
       "    </tr>\n",
       "    <tr>\n",
       "      <th>12</th>\n",
       "      <td>2</td>\n",
       "      <td>32</td>\n",
       "    </tr>\n",
       "    <tr>\n",
       "      <th>13</th>\n",
       "      <td>23</td>\n",
       "      <td>79</td>\n",
       "    </tr>\n",
       "    <tr>\n",
       "      <th>14</th>\n",
       "      <td>3</td>\n",
       "      <td>39</td>\n",
       "    </tr>\n",
       "  </tbody>\n",
       "</table>\n",
       "</div>"
      ],
      "text/plain": [
       "    utl_spkutilisateur  utl_sdispo\n",
       "0                    4          45\n",
       "1                    6          90\n",
       "2                    8          43\n",
       "3                    9          55\n",
       "4                   11           8\n",
       "5                    5          51\n",
       "6                   24          37\n",
       "7                   27         100\n",
       "8                   10           4\n",
       "9                    7          71\n",
       "10                   1          14\n",
       "11                  22          18\n",
       "12                   2          32\n",
       "13                  23          79\n",
       "14                   3          39"
      ]
     },
     "execution_count": 9,
     "metadata": {},
     "output_type": "execute_result"
    }
   ],
   "source": [
    "import pandas as pd\n",
    "def get_dispo_utilisateur(): # later : param list_utilisateur\n",
    "    data = {'select':['utl_spkutilisateur','utl_sdispo'],'from': 'lst_vdispo_py'}\n",
    "    print('envoi de la requete pour les dispos utilisateurs')\n",
    "    resp = requests.post(api_url, headers=headers, json = data)\n",
    "    if resp.status_code != 200 :\n",
    "        print('Erreur récupération des données sur le serveur')\n",
    "        \n",
    "    else: \n",
    "        print('Requête effectuée aves succès.')\n",
    "        res = resp.json()['result']\n",
    "        df = pd.DataFrame(res)\n",
    "        return df\n",
    "\n",
    "get_dispo_utilisateur()    "
   ]
  },
  {
   "cell_type": "markdown",
   "id": "e84be7ac",
   "metadata": {},
   "source": [
    "### requete pour obtenir la matrice projet"
   ]
  },
  {
   "cell_type": "code",
   "execution_count": 10,
   "id": "ec780162",
   "metadata": {},
   "outputs": [
    {
     "name": "stdout",
     "output_type": "stream",
     "text": [
      "envoi de la requete pour la matrice projet\n",
      "Requête effectuée aves succès.\n"
     ]
    },
    {
     "data": {
      "text/html": [
       "<div>\n",
       "<style scoped>\n",
       "    .dataframe tbody tr th:only-of-type {\n",
       "        vertical-align: middle;\n",
       "    }\n",
       "\n",
       "    .dataframe tbody tr th {\n",
       "        vertical-align: top;\n",
       "    }\n",
       "\n",
       "    .dataframe thead th {\n",
       "        text-align: right;\n",
       "    }\n",
       "</style>\n",
       "<table border=\"1\" class=\"dataframe\">\n",
       "  <thead>\n",
       "    <tr style=\"text-align: right;\">\n",
       "      <th></th>\n",
       "      <th>utl_spkutilisateur</th>\n",
       "      <th>int_sfkprojet</th>\n",
       "    </tr>\n",
       "  </thead>\n",
       "  <tbody>\n",
       "    <tr>\n",
       "      <th>0</th>\n",
       "      <td>1</td>\n",
       "      <td>10090</td>\n",
       "    </tr>\n",
       "    <tr>\n",
       "      <th>1</th>\n",
       "      <td>4</td>\n",
       "      <td>10090</td>\n",
       "    </tr>\n",
       "    <tr>\n",
       "      <th>2</th>\n",
       "      <td>3</td>\n",
       "      <td>10090</td>\n",
       "    </tr>\n",
       "    <tr>\n",
       "      <th>3</th>\n",
       "      <td>2</td>\n",
       "      <td>10090</td>\n",
       "    </tr>\n",
       "    <tr>\n",
       "      <th>4</th>\n",
       "      <td>2</td>\n",
       "      <td>10095</td>\n",
       "    </tr>\n",
       "    <tr>\n",
       "      <th>...</th>\n",
       "      <td>...</td>\n",
       "      <td>...</td>\n",
       "    </tr>\n",
       "    <tr>\n",
       "      <th>61</th>\n",
       "      <td>9</td>\n",
       "      <td>10120</td>\n",
       "    </tr>\n",
       "    <tr>\n",
       "      <th>62</th>\n",
       "      <td>1</td>\n",
       "      <td>10232</td>\n",
       "    </tr>\n",
       "    <tr>\n",
       "      <th>63</th>\n",
       "      <td>1</td>\n",
       "      <td>10229</td>\n",
       "    </tr>\n",
       "    <tr>\n",
       "      <th>64</th>\n",
       "      <td>1</td>\n",
       "      <td>10228</td>\n",
       "    </tr>\n",
       "    <tr>\n",
       "      <th>65</th>\n",
       "      <td>1</td>\n",
       "      <td>10233</td>\n",
       "    </tr>\n",
       "  </tbody>\n",
       "</table>\n",
       "<p>66 rows × 2 columns</p>\n",
       "</div>"
      ],
      "text/plain": [
       "    utl_spkutilisateur  int_sfkprojet\n",
       "0                    1          10090\n",
       "1                    4          10090\n",
       "2                    3          10090\n",
       "3                    2          10090\n",
       "4                    2          10095\n",
       "..                 ...            ...\n",
       "61                   9          10120\n",
       "62                   1          10232\n",
       "63                   1          10229\n",
       "64                   1          10228\n",
       "65                   1          10233\n",
       "\n",
       "[66 rows x 2 columns]"
      ]
     },
     "execution_count": 10,
     "metadata": {},
     "output_type": "execute_result"
    }
   ],
   "source": [
    "import pandas as pd\n",
    "def get_matrice_projet(): # later : param list_utilisateur\n",
    "    data = {\n",
    "    \"select\": [\n",
    "        \"utl_spkutilisateur\",\n",
    "        \"int_sfkprojet\"],\n",
    "    \"from\": \"lst_vprojet_utilisateur_py\",}\n",
    "    \n",
    "    print('envoi de la requete pour la matrice projet')\n",
    "    resp = requests.post(api_url, headers=headers, json = data)\n",
    "    if resp.status_code != 200 :\n",
    "        print('Erreur récupération des données sur le serveur')\n",
    "        \n",
    "    else: \n",
    "        print('Requête effectuée aves succès.')\n",
    "        res = resp.json()['result']\n",
    "        df = pd.DataFrame(res)\n",
    "        return df\n",
    "\n",
    "get_matrice_projet()    "
   ]
  }
 ],
 "metadata": {
  "kernelspec": {
   "display_name": "Python 3",
   "language": "python",
   "name": "python3"
  },
  "language_info": {
   "codemirror_mode": {
    "name": "ipython",
    "version": 3
   },
   "file_extension": ".py",
   "mimetype": "text/x-python",
   "name": "python",
   "nbconvert_exporter": "python",
   "pygments_lexer": "ipython3",
   "version": "3.8.8"
  }
 },
 "nbformat": 4,
 "nbformat_minor": 5
}
