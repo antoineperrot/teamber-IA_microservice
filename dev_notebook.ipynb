{
 "cells": [
  {
   "cell_type": "markdown",
   "id": "d799d657",
   "metadata": {},
   "source": [
    "## en-tête des requêtes :"
   ]
  },
  {
   "cell_type": "code",
   "execution_count": 20,
   "id": "7c0f1d8d",
   "metadata": {},
   "outputs": [],
   "source": [
    "import requests\n",
    "\n",
    "api_url = 'https://development.api.wandeed.com/api/lst/search?offset=0&limit=500'\n",
    "access_token='Bearer eyJhbGciOiJSUzI1NiIsInR5cCIgOiAiSldUIiwia2lkIiA6ICJydXRUeHJ5dlltOUVZcGhpRjRxak45ajFvTktLNnU4YUhuM1QySFFSUU5FIn0.eyJleHAiOjE2NjMwNzExMzMsImlhdCI6MTY2MzA1MzEzMywiYXV0aF90aW1lIjoxNjYzMDUzMTMyLCJqdGkiOiJiYmViZDY1ZC00ODgwLTQ3MDUtOTdiOS1kNWNjYjFjOWFjZjIiLCJpc3MiOiJodHRwczovL2RldmVsb3BtZW50LmF1dGgud2FuZGVlZC5jb20vYXV0aC9yZWFsbXMvd2FuZGVlZC1yZWFsbSIsImF1ZCI6ImFjY291bnQiLCJzdWIiOiIzMWZmODY3NC1iOGZhLTQyMmYtYWM3NC02YzFjZGI2YTUwZGUiLCJ0eXAiOiJCZWFyZXIiLCJhenAiOiJ3YW5kZWVkLWNsaWVudCIsIm5vbmNlIjoiMDY1MjU1NmMtMjA2Ny00ZTA3LTg2N2ItZTU3YTc4ZGFmNGQxIiwic2Vzc2lvbl9zdGF0ZSI6IjJlNTNhMDJmLWQ0YTQtNDU5OS05YjRhLWI0YjZmMDM2MTY0YyIsImFjciI6IjEiLCJhbGxvd2VkLW9yaWdpbnMiOlsiaHR0cHM6Ly8qLndhbmRlZWQuY29tLyoiLCJodHRwczovLyouYXBpLndhbmRlZWQuY29tLyoiLCIqIiwiaHR0cHM6Ly8qLmFkbWluLndhbmRlZWQuY29tLyoiLCJodHRwczovLyouYXV0aC53YW5kZWVkLmNvbSJdLCJyZWFsbV9hY2Nlc3MiOnsicm9sZXMiOlsiZGVmYXVsdC1yb2xlcy13YW5kZWVkLXJlYWxtIiwib2ZmbGluZV9hY2Nlc3MiLCJ1bWFfYXV0aG9yaXphdGlvbiJdfSwicmVzb3VyY2VfYWNjZXNzIjp7ImFjY291bnQiOnsicm9sZXMiOlsibWFuYWdlLWFjY291bnQiLCJtYW5hZ2UtYWNjb3VudC1saW5rcyIsInZpZXctcHJvZmlsZSJdfX0sInNjb3BlIjoib3BlbmlkIGVtYWlsIHByb2ZpbGUiLCJzaWQiOiIyZTUzYTAyZi1kNGE0LTQ1OTktOWI0YS1iNGI2ZjAzNjE2NGMiLCJ1dGxfc3BrdXRpbGlzYXRldXIiOjEsInV0bF91dGlsaXNhdGV1cl9yb2xlcyI6IlsxXSIsInV0bF9jcHJlbm9tIjoiR2F5bG9yZCIsImVtYWlsX3ZlcmlmaWVkIjp0cnVlLCJ1dGxfc2FwcGFydGVuYW5jZSI6WzIsMzhdLCJ1dGxfY25vbSI6IlBldGl0IiwicHJlZmVycmVkX3VzZXJuYW1lIjoiZ2F5bG9yZC5wZXRpdEB0ZWFtYmVyLmZyIiwibG9jYWxlIjoiZnIiLCJnaXZlbl9uYW1lIjoiR2F5bG9yZCIsInV0bF9zZmtpbnN0YW5jZSI6MSwidXRsX3NhZG1pbmlzdHJlciI6W10sIm5hbWUiOiJHYXlsb3JkIFBldGl0IiwidXRsX3Nkcm9pdHNhY2NlcyI6WzYwLDMsNCw1LDE1LDI1LDI2LDMzLDM0LDM1LDM2LDM3LDQwLDQxLDQ0LDQ1LDQ2LDQ3XSwiZmFtaWx5X25hbWUiOiJQZXRpdCIsImVtYWlsIjoiZ2F5bG9yZC5wZXRpdEB0ZWFtYmVyLmZyIiwidXNlcl9ncm91cHMiOlsyLDM4LDYwLDMsNCw1LDE1LDI1LDI2LDMzLDM0LDM1LDM2LDM3LDQwLDQxLDQ0LDQ1LDQ2LDQ3XX0.DGvq43C3ZqBNi7-ZUmrHXm5_iV7nC5gAo-d4cRhdYU8KjsB9N6i4IKxPFPnbalHJpZe9g4MGiZdWGbVYnBstuNcT5ioQOrlZP1BWUmN8Nkq-yYrnL3uHf7VB8mixOAu0b3kpF7r2XoytCvslDFBGaDcWGPJkIdMNFHw3fMKT-smjj1DTP01RuSUc-ItGHn3-CBBDkEocpwTTfBTEDEwcFZ1n69ct1XjYQPuNvKp2PCoje3Y68h6tGSllhOp6ikksx7-inXvMZ6u9ucoshrAkBvb2PLTkQ6cEZxdqz-ymJQsx4N3pxp71-S0xAsSFM8l9JlQ4Ittkmz1ReDkEKi0Vpw'\n",
    "\n",
    "headers={'Authorization': f'{access_token}',\n",
    "             'Content-Type':'application/json'}"
   ]
  },
  {
   "cell_type": "code",
   "execution_count": 21,
   "id": "a1d1aa72",
   "metadata": {},
   "outputs": [],
   "source": [
    "url = 'http://127.0.0.1:8000/get_data_task_assigner'\n",
    "res = requests.get(url)"
   ]
  },
  {
   "cell_type": "code",
   "execution_count": 22,
   "id": "d7a93cc4",
   "metadata": {},
   "outputs": [
    {
     "data": {
      "text/plain": [
       "{'matrice_projet': {'data': None,\n",
       "  'status_code': 401,\n",
       "  'commentaire': 'erreur récupération données sur le serveur.'},\n",
       " 'dispos_utilisateurs': {'data': None,\n",
       "  'status_code': 401,\n",
       "  'commentaire': 'erreur récupération données sur le serveur.'},\n",
       " 'matrice_competence': {'data': None,\n",
       "  'status_code': 401,\n",
       "  'commentaire': 'erreur récupération données sur le serveur.'},\n",
       " 'taches': {'data': None,\n",
       "  'status_code': 401,\n",
       "  'commentaire': 'erreur récupération données sur le serveur.'},\n",
       " 'STATUT_RECUPERATION_DONNEES': 'ECHEC'}"
      ]
     },
     "execution_count": 22,
     "metadata": {},
     "output_type": "execute_result"
    }
   ],
   "source": [
    "res.json()"
   ]
  },
  {
   "cell_type": "code",
   "execution_count": 9,
   "id": "a7aa3ba0",
   "metadata": {},
   "outputs": [],
   "source": [
    "from modules.task_assigner import *"
   ]
  },
  {
   "cell_type": "code",
   "execution_count": 10,
   "id": "aa1f04f7",
   "metadata": {},
   "outputs": [
    {
     "ename": "TypeError",
     "evalue": "'NoneType' object is not subscriptable",
     "output_type": "error",
     "traceback": [
      "\u001b[1;31m---------------------------------------------------------------------------\u001b[0m",
      "\u001b[1;31mTypeError\u001b[0m                                 Traceback (most recent call last)",
      "\u001b[1;32m<ipython-input-10-58e5ea4e9c9f>\u001b[0m in \u001b[0;36m<module>\u001b[1;34m\u001b[0m\n\u001b[1;32m----> 1\u001b[1;33m \u001b[0mdf_prj\u001b[0m\u001b[1;33m,\u001b[0m \u001b[0mdf_cmp\u001b[0m\u001b[1;33m,\u001b[0m \u001b[0mdf_tsk\u001b[0m\u001b[1;33m,\u001b[0m \u001b[0mdf_dsp\u001b[0m \u001b[1;33m=\u001b[0m \u001b[0mcollect_data_from_request\u001b[0m\u001b[1;33m(\u001b[0m\u001b[0mres\u001b[0m\u001b[1;33m)\u001b[0m\u001b[1;33m\u001b[0m\u001b[1;33m\u001b[0m\u001b[0m\n\u001b[0m",
      "\u001b[1;32m~\\Documents\\teamber-IA_microservice\\modules\\task_assigner\\sub_functions.py\u001b[0m in \u001b[0;36mcollect_data_from_request\u001b[1;34m(res)\u001b[0m\n\u001b[0;32m      9\u001b[0m \u001b[1;33m\u001b[0m\u001b[0m\n\u001b[0;32m     10\u001b[0m     \u001b[1;31m# recuperation matrice_projet\u001b[0m\u001b[1;33m\u001b[0m\u001b[1;33m\u001b[0m\u001b[1;33m\u001b[0m\u001b[0m\n\u001b[1;32m---> 11\u001b[1;33m     \u001b[0mdf_prj\u001b[0m \u001b[1;33m=\u001b[0m \u001b[0mpd\u001b[0m\u001b[1;33m.\u001b[0m\u001b[0mDataFrame\u001b[0m\u001b[1;33m(\u001b[0m\u001b[0mres\u001b[0m\u001b[1;33m.\u001b[0m\u001b[0mjson\u001b[0m\u001b[1;33m(\u001b[0m\u001b[1;33m)\u001b[0m\u001b[1;33m[\u001b[0m\u001b[1;34m'matrice_projet'\u001b[0m\u001b[1;33m]\u001b[0m\u001b[1;33m[\u001b[0m\u001b[1;34m'data'\u001b[0m\u001b[1;33m]\u001b[0m\u001b[1;33m[\u001b[0m\u001b[1;34m'result'\u001b[0m\u001b[1;33m]\u001b[0m\u001b[1;33m)\u001b[0m\u001b[1;33m\u001b[0m\u001b[1;33m\u001b[0m\u001b[0m\n\u001b[0m\u001b[0;32m     12\u001b[0m     \u001b[1;31m# recuperation matrice_competence : on oublie les compétences pour lesquels les utl sont indéfinis\u001b[0m\u001b[1;33m\u001b[0m\u001b[1;33m\u001b[0m\u001b[1;33m\u001b[0m\u001b[0m\n\u001b[0;32m     13\u001b[0m     \u001b[0mdf_cmp\u001b[0m \u001b[1;33m=\u001b[0m \u001b[0mpd\u001b[0m\u001b[1;33m.\u001b[0m\u001b[0mDataFrame\u001b[0m\u001b[1;33m(\u001b[0m\u001b[0mres\u001b[0m\u001b[1;33m.\u001b[0m\u001b[0mjson\u001b[0m\u001b[1;33m(\u001b[0m\u001b[1;33m)\u001b[0m\u001b[1;33m[\u001b[0m\u001b[1;34m'matrice_competence'\u001b[0m\u001b[1;33m]\u001b[0m\u001b[1;33m[\u001b[0m\u001b[1;34m'data'\u001b[0m\u001b[1;33m]\u001b[0m\u001b[1;33m[\u001b[0m\u001b[1;34m'result'\u001b[0m\u001b[1;33m]\u001b[0m\u001b[1;33m)\u001b[0m\u001b[1;33m.\u001b[0m\u001b[0mdropna\u001b[0m\u001b[1;33m(\u001b[0m\u001b[1;33m)\u001b[0m\u001b[1;33m.\u001b[0m\u001b[0mreset_index\u001b[0m\u001b[1;33m(\u001b[0m\u001b[0mdrop\u001b[0m\u001b[1;33m=\u001b[0m\u001b[1;32mTrue\u001b[0m\u001b[1;33m)\u001b[0m\u001b[1;33m.\u001b[0m\u001b[0mastype\u001b[0m\u001b[1;33m(\u001b[0m\u001b[0mint\u001b[0m\u001b[1;33m)\u001b[0m\u001b[1;33m\u001b[0m\u001b[1;33m\u001b[0m\u001b[0m\n",
      "\u001b[1;31mTypeError\u001b[0m: 'NoneType' object is not subscriptable"
     ]
    }
   ],
   "source": [
    "df_prj, df_cmp, df_tsk, df_dsp = collect_data_from_request(res)"
   ]
  },
  {
   "cell_type": "code",
   "execution_count": 5,
   "id": "ad0288ca",
   "metadata": {},
   "outputs": [
    {
     "data": {
      "text/plain": [
       "['__builtins__',\n",
       " '__cached__',\n",
       " '__doc__',\n",
       " '__file__',\n",
       " '__loader__',\n",
       " '__name__',\n",
       " '__package__',\n",
       " '__path__',\n",
       " '__spec__',\n",
       " 'add_local_ids_in_dfs',\n",
       " 'collect_data_from_request',\n",
       " 'compute_charge_utilisateur',\n",
       " 'compute_heures_non_assignees',\n",
       " 'compute_matrice_specialisaton',\n",
       " 'convert_to_arrays',\n",
       " 'data_distributor',\n",
       " 'linprog',\n",
       " 'make_A_and_b',\n",
       " 'make_arcs_and_c',\n",
       " 'make_arcs_and_cost_func',\n",
       " 'make_list_ids',\n",
       " 'make_mapping_dicts_extern_to_local',\n",
       " 'make_mapping_dicts_local_to_extern',\n",
       " 'make_mat_cmp',\n",
       " 'make_mat_prj',\n",
       " 'make_output_dataframe',\n",
       " 'make_stat_cmp',\n",
       " 'make_stat_prj',\n",
       " 'make_stat_tsk',\n",
       " 'make_stat_utl',\n",
       " 'make_statistics',\n",
       " 'make_usefull_mapping_dicts',\n",
       " 'np',\n",
       " 'pd',\n",
       " 'remap_df_out',\n",
       " 'solution_interpreter',\n",
       " 'solve_linear_programmation_problem',\n",
       " 'solve_problem',\n",
       " 'sub_functions',\n",
       " 'tools']"
      ]
     },
     "execution_count": 5,
     "metadata": {},
     "output_type": "execute_result"
    }
   ],
   "source": [
    "dir(task_assigner\n",
    "   )"
   ]
  },
  {
   "cell_type": "code",
   "execution_count": 1018,
   "id": "1af13037",
   "metadata": {},
   "outputs": [
    {
     "name": "stderr",
     "output_type": "stream",
     "text": [
      "C:\\Users\\antoi\\anaconda3\\lib\\site-packages\\numpy\\core\\fromnumeric.py:86: VisibleDeprecationWarning: Creating an ndarray from ragged nested sequences (which is a list-or-tuple of lists-or-tuples-or ndarrays with different lengths or shapes) is deprecated. If you meant to do this, you must specify 'dtype=object' when creating the ndarray.\n",
      "  return ufunc.reduce(obj, axis, dtype, out, **passkwargs)\n"
     ]
    }
   ],
   "source": [
    "# import librairies\n",
    "import numpy as np\n",
    "import pandas as pd\n",
    "\n",
    "## RECUPERATION DES DONNEES A PARTIR DE LA REQUETE :\n",
    "df_prj, df_cmp, df_tsk, df_dsp = collect_data_from_request(res)\n",
    "\n",
    "# FAIT LA LISTE DE TOUS LES IDS (PRJ, CMP, TSK, UTL) CONTENUS DANS LES DONNEES RECUES\n",
    "id_utl, id_prj, id_cmp, id_tsk = make_list_ids(df_prj, df_cmp, df_tsk, df_dsp)\n",
    "\n",
    "# CONVERSION DES IDS Wandeed en Identifiant local\n",
    "utl_to_int, prj_to_int, cmp_to_int, tsk_to_int = make_mapping_dicts_extern_to_local(id_utl, id_prj, id_cmp, id_tsk)\n",
    "\n",
    "# CONVERSION DES Identifiant local en IDS Wandeed\n",
    "int_to_utl, int_to_prj, int_to_cmp, int_to_tsk = make_mapping_dicts_local_to_extern(id_utl, id_prj, id_cmp, id_tsk)\n",
    "\n",
    "# Comptage nombre cmp, utl, tsk, prj.\n",
    "n_utl = len(id_utl); n_prj = len(id_prj); n_cmp = len(id_cmp); n_tsk = len(id_tsk);\n",
    "\n",
    "\n",
    "# AJOUT DES VARIABLES LOCALES DANS LES DATAFRAMES\n",
    "df_prj, df_cmp, df_tsk, df_dsp = add_local_ids_in_dfs(df_prj, df_cmp, df_tsk, df_dsp,\n",
    "                                                     cmp_to_int, utl_to_int, tsk_to_int, prj_to_int)\n",
    "\n",
    "# FABRICATION MATRICE PROJET\n",
    "mat_prj = make_mat_prj(df_prj,n_prj, n_utl)\n",
    "\n",
    "# FABRICATION MATRICE COMPETENCE\n",
    "mat_cmp = make_mat_cmp(df_cmp, n_cmp, n_utl)\n",
    "        \n",
    "## MOCKING mat_cmp : ######################################################################\n",
    "mat_cmp = np.random.binomial(n=3,p=0.25, size=mat_cmp.shape)\n",
    "\n",
    "## MOCKING mat_prj : ######################################################################\n",
    "mat_prj = np.random.binomial(n=1,p=0.25, size=mat_prj.shape)\n",
    "\n",
    "        \n",
    "# FABRICATION DE DICTIONNAIRE UTILES PAR LA SUITE\n",
    "d_tsk_to_cmp, d_tsk_to_prj, d_tsk_to_lgt, d_utl_to_dsp = make_usefull_mapping_dicts(df_tsk, df_dsp)\n",
    "\n",
    "# MOCKING pour les dsp utl#################################################################\n",
    "d_utl_to_dsp = {utl:np.random.randint(15,50)*0.1 for utl in range(n_utl)}\n",
    "d_utl_to_dsp['not assigned'] = np.sum(list(d_utl_to_dsp.values()))\n",
    "\n",
    "# FABRICATION DES ARCS RELIANT TACHES A UTILISATEURS POTENTIELS, AINSI QUE FONCTION DE COUT\n",
    "arcs, cost_func, n_arcs = make_arcs_and_cost_func(n_tsk, n_utl, \n",
    "              d_tsk_to_cmp, d_tsk_to_prj,\n",
    "              mat_cmp, mat_prj)\n",
    "\n",
    "# FABRICATION DES MATRICES A et B POUR RESOUDRE AX<=B\n",
    "A, b = make_A_and_b(n_tsk,n_utl,n_arcs,\n",
    "                 d_tsk_to_lgt, d_utl_to_dsp,\n",
    "                 arcs)\n",
    "\n",
    "# RESOLUTION DU PROBLEME DE PROGRAMMATION LINEAIRE\n",
    "solution_vector, outcome, method = solve_linear_programmation_problem(A, b, cost_func)\n",
    "\n",
    "\n",
    "# MISE EN FORME DE LA SOLUTION DANS UN DATAFRAME PANDAS\n",
    "df_out = make_output_dataframe(solution, arcs,\n",
    "                          d_tsk_to_lgt, d_tsk_to_cmp, d_tsk_to_prj)\n",
    "\n",
    "# REMAPPING DES ID LOCAUX EN ID WANDEED\n",
    "df_out = remap_df_out(df_out,\n",
    "                int_to_tsk, int_to_utl, int_to_prj, int_to_cmp)\n",
    "\n",
    "## PRODUCTION DE STATISTIQUES D'INTERPRETATION DU RESULTAT\n",
    "\n",
    "# Production de statistiques par compétences\n",
    "stat_cmp = make_stat_cmp(df_out)\n",
    "\n",
    "# Production de statistiques par utilisateur\n",
    "stat_utl = make_stat_utl(df_out, d_utl_to_dsp, utl_to_int)\n",
    "\n",
    "# Production de statistiques par tache\n",
    "stat_tsk = make_stat_tsk(df_out, d_tsk_to_lgt, int_to_tsk)\n",
    "\n",
    "# Production de statistiques par projet\n",
    "stat_prj = make_stat_prj(df_out)\n",
    "\n",
    "# SORTIE API\n",
    "OUT = {'solution':df_out.to_dict(),\n",
    "      'statistics_for':{\n",
    "          'cmp':stat_cmp.to_dict(),\n",
    "          'utl':stat_utl.to_dict(),\n",
    "          'tsk':stat_tsk.to_dict(),\n",
    "          'prj':stat_prj.to_dict()\n",
    "      }}"
   ]
  },
  {
   "cell_type": "code",
   "execution_count": 1013,
   "id": "11619bb8",
   "metadata": {},
   "outputs": [],
   "source": [
    "def test_mapping(df_out):\n",
    "    assert all(df_out.tsk.apply(lambda x: x in id_tsk)), \"Certains id_tsk ne sont pas dans la liste des id_tsk fournis au départ.\"\n",
    "    assert all(df_out.prj.apply(lambda x: x in id_prj)), \"Certains id_prj ne sont pas dans la liste des id_prj fournis au départ.\"\n",
    "    assert all(df_out.cmp.apply(lambda x: x in id_cmp)), \"Certains id_cmp ne sont pas dans la liste des id_cmp fournis au départ.\"\n",
    "    assert all(df_out.utl.apply(lambda x: x in id_utl +['not assigned'])), \"Certains id_utl ne sont pas dans la liste des id_utl fournis au départ.\"\n",
    "test_mapping(df_out)\n",
    "\n",
    "def test_validite_mathematique_solution(df_out, solution_vector):\n",
    "    assert all(A @ solution_vector <= b + 1e-10), \"Math : la solution_vector x ne respecte pas la contrainte Ax <= b.\"  # + 1e-10 : prise en compte d'une tolérance d'erreur d'arrondi numérique.\n",
    "    assert all(df_out['duree_assignee'] >=0), \"Un nombre d'heure négatif a été assigné.\"\n",
    "    assert all(df_out['duree_assignee'] <= df_out['tsk_lgt']), \"La durée assignée pour certaines tâches excède celle leur durée.\"\n",
    "test_validite_mathematique_solution(df_out, solution_vector)    \n",
    "\n",
    "def test_stat_cmp(stat_cmp):\n",
    "    assert all(stat_cmp['total_h_non_assignee'] >=0), \"ValueError dans total_h_non_assignee\"\n",
    "    assert all(stat_cmp[~stat_cmp['niveau_cmp_moyen_par_h_realisee'].isna()]['niveau_cmp_moyen_par_h_realisee'] <= 3),\"Mauvais calcul du niveau moyen d'exécution dune tache : > 3.\"\n",
    "    assert all(stat_cmp[~stat_cmp['niveau_cmp_moyen_par_h_realisee'].isna()]['niveau_cmp_moyen_par_h_realisee'] >= 0),\"Mauvais calcul du niveau moyen d'exécution dune tache : < 0.\"\n",
    "\n",
    "test_stat_cmp(stat_cmp)\n",
    "\n",
    "def test_stat_utl(stat_utl):\n",
    "    assert all(stat_utl.taux_occupation.apply(pd.notna)), \"TypeError: les données de taux d'occupation contiennent des NaN.\"\n",
    "    assert all(stat_utl.taux_occupation.apply(lambda x: (isinstance(x, float) or isinstance(x, int)) and x >= 0 and x <= 1 ) ), \"TypeError: les données de taux d'occupation sont incorrectes.\"\n",
    "    assert all(stat_utl.dsp_utl.apply(pd.notna)), \"TypeError: les données de disponibilités totales contiennent des NaN.\"\n",
    "    assert all(stat_utl.dsp_utl.apply(lambda x: (isinstance(x, float) or isinstance(x, int)) and x >= 0 ) ), \"TypeError: les données de disponibilités totales sont incorrectes.\"\n",
    "    assert all(stat_utl.dsp_utl.apply(lambda x: x >= 0 )), \"TypeError: Certaines données de disponibilités totales sont négatives.\"\n",
    "    assert all(stat_utl['total_h_assignees'] <= stat_utl['dsp_utl']  ), \"Certains utilisateurs sont trop chargés par rapport à leurs disponibiltés.\"\n",
    "    assert all(stat_utl['niveau_moyen_execution_tsk'] <= 3), \"Le calcul du niveau moyen d'exécution d'une tache par unité de temps est FAUX.\"\n",
    "    assert all(stat_utl['niveau_moyen_execution_tsk'] >= 0), \"Le calcul du niveau moyen d'exécution d'une tache par unité de temps est FAUX.\"\n",
    "    \n",
    "test_stat_utl(stat_utl)\n",
    "\n",
    "def test_stat_prj(stat_prj):\n",
    "    assert all(stat_prj.temps_total_non_assigne\t >=0), \"ValueError dans temps_total_non_assigne\"\n",
    "    assert all(stat_prj.n_missing_cmp_per_prj.apply(lambda x: isinstance(x,int))), \"ValueError: Le nombre de compétences manquantes par projet n'est pas toujours un entier.\"\n",
    "\n",
    "test_stat_prj(stat_prj)\n",
    "\n",
    "def test_stat_tsk(stat_tsk):\n",
    "    assert all(stat_tsk.n_utl_per_tsk.apply(lambda x: isinstance(x,int))), \"ValueError: Le nombre d'utilisateurs par tache n'est pas toujours un entier.\"\n",
    "\n",
    "test_stat_tsk(stat_tsk)"
   ]
  }
 ],
 "metadata": {
  "kernelspec": {
   "display_name": "Python 3",
   "language": "python",
   "name": "python3"
  },
  "language_info": {
   "codemirror_mode": {
    "name": "ipython",
    "version": 3
   },
   "file_extension": ".py",
   "mimetype": "text/x-python",
   "name": "python",
   "nbconvert_exporter": "python",
   "pygments_lexer": "ipython3",
   "version": "3.8.8"
  }
 },
 "nbformat": 4,
 "nbformat_minor": 5
}
