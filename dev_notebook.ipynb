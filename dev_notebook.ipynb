{
 "cells": [
  {
   "cell_type": "code",
   "execution_count": 1,
   "id": "4b4aea15",
   "metadata": {},
   "outputs": [],
   "source": [
    "from my_module.test_task_assigner import test_task_assigner_on_synthetic_data, generate_synthetic_testing_data_task_assigner"
   ]
  },
  {
   "cell_type": "code",
   "execution_count": 6,
   "id": "b221eac8",
   "metadata": {},
   "outputs": [],
   "source": [
    "generate_synthetic_testing_data_task_assigner(n_exp=10, path_synthetic_data_test='my_module/task_assigner/synthetic_data_for_testing/')\n",
    "\n",
    "test_task_assigner_on_synthetic_data(path_synthetic_data_test='my_module/task_assigner/synthetic_data_for_testing/')"
   ]
  }
 ],
 "metadata": {
  "kernelspec": {
   "display_name": "Python 3",
   "language": "python",
   "name": "python3"
  },
  "language_info": {
   "codemirror_mode": {
    "name": "ipython",
    "version": 3
   },
   "file_extension": ".py",
   "mimetype": "text/x-python",
   "name": "python",
   "nbconvert_exporter": "python",
   "pygments_lexer": "ipython3",
   "version": "3.8.8"
  }
 },
 "nbformat": 4,
 "nbformat_minor": 5
}
