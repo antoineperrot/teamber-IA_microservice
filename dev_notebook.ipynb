{
 "cells": [
  {
   "cell_type": "code",
   "execution_count": 10,
   "id": "642b374b",
   "metadata": {},
   "outputs": [
    {
     "name": "stdout",
     "output_type": "stream",
     "text": [
      "2022-09-15T13:33:41.895627\n"
     ]
    }
   ],
   "source": [
    "from datetime import datetime\n",
    "current_date = datetime.today()\n",
    "print(current_date.isoformat())"
   ]
  },
  {
   "cell_type": "code",
   "execution_count": 35,
   "id": "79ad92cb",
   "metadata": {},
   "outputs": [],
   "source": [
    "from random import choices\n",
    "\n",
    "def generate_unique_ids(n):\n",
    "    ids = []\n",
    "    for i in range(n):\n",
    "        rdm_id = np.random.randint(1000,10000)\n",
    "        while rdm_id in ids:\n",
    "            rdm_id = np.random.randint(10,1000)\n",
    "        ids.append(rdm_id)\n",
    "    ids = np.sort(ids)\n",
    "    return ids\n",
    "\n",
    "\n",
    "import numpy as np\n",
    "import pandas as pd\n",
    "p = 0.7\n",
    "N = np.random.randint(7,70)\n",
    "n_prj = np.random.binomial(N*.3,p)\n",
    "n_utl = np.random.binomial(N,p)\n",
    "n_tsk = 2 + np.random.binomial(N*3,p)\n",
    "n_cmp = np.random.binomial(N*.4,p)\n",
    "\n",
    "# genere des ids unique pour chaque variable\n",
    "ids_utl = generate_unique_ids(n_utl)\n",
    "ids_cmp = generate_unique_ids(n_cmp)\n",
    "ids_tsk = generate_unique_ids(n_tsk)\n",
    "ids_prj = generate_unique_ids(n_prj)\n",
    "\n",
    "mat_cmp = np.zeros((n_cmp, n_utl))\n",
    "for i in range(n_utl):\n",
    "    proba = min(np.random.exponential(.20),1)\n",
    "    mat_cmp[:,i] = np.random.binomial(3,proba,n_cmp)\n",
    "\n",
    "df_cmp = pd.DataFrame({'emc_sfkarticle':[],'emc_sniveau':[],'emc_sfkutilisateur':[]})\n",
    "for cmp in range(n_cmp):\n",
    "    for utl in range(n_utl):\n",
    "        if mat_cmp[cmp,utl] > 0:\n",
    "            df_cmp = df_cmp.append({'emc_sfkarticle':ids_cmp[cmp],\n",
    "                           'emc_sniveau':mat_cmp[cmp,utl],\n",
    "                           'emc_sfkutilisateur':ids_utl[utl]},ignore_index=True)\n",
    "df_cmp = df_cmp.astype(int)\n",
    "\n",
    "mat_prj = np.random.randint(0,2,(n_prj, n_utl))\n",
    "df_prj = pd.DataFrame({'utl_spkutilisateur':[],'int_sfkprojet':[],})\n",
    "for prj in range(n_prj):\n",
    "    for utl in range(n_utl):\n",
    "        if mat_prj[prj,utl] > 0:\n",
    "            df_prj = df_prj.append({'utl_spkutilisateur':ids_utl[utl],\n",
    "                           'int_sfkprojet':ids_prj[prj],},ignore_index=True)\n",
    "df_prj = df_prj.astype(int)\n",
    "\n",
    "df_tsk = pd.DataFrame({'evt_dduree':[],'evt_spkevenement':[],'lgl_sfkligneparent':[],'evt_sfkprojet':[],})\n",
    "for i, tsk in enumerate(ids_tsk):\n",
    "    p = np.random.uniform(0.1,.4)\n",
    "    duree = np.random.binomial(50,p) / 4\n",
    "\n",
    "    df_tsk = df_tsk.append({'evt_dduree':duree,\n",
    "                            'evt_spkevenement':tsk,\n",
    "                   'lgl_sfkligneparent':choices(ids_cmp)[0],\n",
    "                            'evt_sfkprojet':choices(ids_prj)[0],\n",
    "                           },ignore_index=True)\n",
    "\n",
    "for key in df_tsk.columns[1:]: df_tsk[key] = df_tsk[key].astype(int)\n",
    "\n",
    "np_ = np.round(df_tsk['evt_dduree'].sum()/ n_utl,2) * np.random.uniform(0.8,1.2)\n",
    "\n",
    "df_dsp = pd.DataFrame({'utl_spkutilisateur':[],'utl_sdispo':[],})\n",
    "for utl in range(n_utl):\n",
    "    p = np.random.uniform(0.1,.9)\n",
    "    n = np_/p \n",
    "    dispo=np.random.binomial(n,p)\n",
    "    df_dsp = df_dsp.append({'utl_spkutilisateur':ids_utl[utl],\n",
    "                   'utl_sdispo':dispo,},ignore_index=True)\n",
    "df_dsp = df_dsp.astype(int)\n",
    "\n",
    "    "
   ]
  },
  {
   "cell_type": "code",
   "execution_count": 45,
   "id": "ccd77694",
   "metadata": {},
   "outputs": [],
   "source": [
    "def make_mat_spe(mat_cmp):\n",
    "    \"\"\"\n",
    "    la matrice de spécialisation permet de mettre en avant le fait que certaines personnes ne\n",
    "    savent réaliser qu'un nombre limité de tâches, a un niveau de compétence peut-être inférieur à d'autmat_spe personnes plus expertes, mais étant donné\n",
    "    qu'elle ne savent faire que ces tâches, il vaut mieux leur assigner à eux et laisser le champ libre à des personnes plus expertes, souvent plus transverses (chef d'équipe etc).\n",
    "    \"\"\"\n",
    "    mat_spe = mat_cmp.astype(float)\n",
    "    mat_spe[:,mat_cmp.sum(axis=0)==0] = np.nan\n",
    "    mat_spe = mat_spe/mat_spe.sum(axis=0) * 3\n",
    "    mat_spe[mat_spe == np.nan] =0\n",
    "    mat_spe[:,mat_cmp.max(axis=0)==0]=0\n",
    "    return mat_spe\n"
   ]
  },
  {
   "cell_type": "code",
   "execution_count": 46,
   "id": "ba0ae90b",
   "metadata": {},
   "outputs": [
    {
     "data": {
      "text/plain": [
       "<matplotlib.image.AxesImage at 0x1533c181d00>"
      ]
     },
     "execution_count": 46,
     "metadata": {},
     "output_type": "execute_result"
    },
    {
     "data": {
      "image/png": "[encoded data removed]",
      "text/plain": [
       "<Figure size 432x288 with 1 Axes>"
      ]
     },
     "metadata": {
      "needs_background": "light"
     },
     "output_type": "display_data"
    }
   ],
   "source": [
    "mat_spe = make_mat_spe(mat_cmp)\n",
    "plt.imshow(mat_cmp)"
   ]
  },
  {
   "cell_type": "code",
   "execution_count": 47,
   "id": "57027c11",
   "metadata": {},
   "outputs": [
    {
     "data": {
      "text/plain": [
       "<matplotlib.image.AxesImage at 0x1533c37a2e0>"
      ]
     },
     "execution_count": 47,
     "metadata": {},
     "output_type": "execute_result"
    },
    {
     "data": {
      "image/png": "[encoded data removed]",
      "text/plain": [
       "<Figure size 432x288 with 1 Axes>"
      ]
     },
     "metadata": {
      "needs_background": "light"
     },
     "output_type": "display_data"
    }
   ],
   "source": [
    "import matplotlib.pyplot as plt\n",
    "plt.imshow(mat_spe)"
   ]
  }
 ],
 "metadata": {
  "kernelspec": {
   "display_name": "Python 3",
   "language": "python",
   "name": "python3"
  },
  "language_info": {
   "codemirror_mode": {
    "name": "ipython",
    "version": 3
   },
   "file_extension": ".py",
   "mimetype": "text/x-python",
   "name": "python",
   "nbconvert_exporter": "python",
   "pygments_lexer": "ipython3",
   "version": "3.8.8"
  }
 },
 "nbformat": 4,
 "nbformat_minor": 5
}
