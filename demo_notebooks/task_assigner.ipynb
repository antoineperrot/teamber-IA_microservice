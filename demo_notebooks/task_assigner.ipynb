{
 "cells": [
  {
   "cell_type": "code",
   "execution_count": 1,
   "id": "ac7baa79",
   "metadata": {},
   "outputs": [],
   "source": [
    "from data_generator import make_data\n",
    "from src.module.tools import compute_matrice_specialisaton"
   ]
  },
  {
   "cell_type": "markdown",
   "id": "c68463c3",
   "metadata": {},
   "source": [
    "# Exemple d'utilisation du module"
   ]
  },
  {
   "cell_type": "markdown",
   "id": "c76fb8eb",
   "metadata": {},
   "source": [
    "## 1. Données d'illustration"
   ]
  },
  {
   "cell_type": "code",
   "execution_count": 2,
   "id": "40372f68",
   "metadata": {},
   "outputs": [],
   "source": [
    "# génération aléatoires de données\n",
    "data = make_data(seed=0)"
   ]
  },
  {
   "cell_type": "markdown",
   "id": "647f4d06",
   "metadata": {},
   "source": [
    "### Info données"
   ]
  },
  {
   "cell_type": "code",
   "execution_count": 3,
   "id": "73bad0aa",
   "metadata": {},
   "outputs": [
    {
     "data": {
      "text/plain": [
       "{'nombre de taches': 50,\n",
       " 'nombre utilisateurs': 10,\n",
       " 'nombre competences': 7,\n",
       " 'nombre projets': 20}"
      ]
     },
     "execution_count": 3,
     "metadata": {},
     "output_type": "execute_result"
    }
   ],
   "source": [
    "data['info_data']"
   ]
  },
  {
   "cell_type": "markdown",
   "id": "096f3cad",
   "metadata": {},
   "source": [
    "### Tâches\n",
    "\n",
    "Chaque tâche est caractérisée par une durée, un projet, et une compétence nécéssaire à son accomplissement."
   ]
  },
  {
   "cell_type": "code",
   "execution_count": 4,
   "id": "ca5c8490",
   "metadata": {},
   "outputs": [
    {
     "data": {
      "text/html": [
       "<div>\n",
       "<style scoped>\n",
       "    .dataframe tbody tr th:only-of-type {\n",
       "        vertical-align: middle;\n",
       "    }\n",
       "\n",
       "    .dataframe tbody tr th {\n",
       "        vertical-align: top;\n",
       "    }\n",
       "\n",
       "    .dataframe thead th {\n",
       "        text-align: right;\n",
       "    }\n",
       "</style>\n",
       "<table border=\"1\" class=\"dataframe\">\n",
       "  <thead>\n",
       "    <tr style=\"text-align: right;\">\n",
       "      <th></th>\n",
       "      <th>id</th>\n",
       "      <th>duree</th>\n",
       "      <th>projet</th>\n",
       "      <th>competence</th>\n",
       "    </tr>\n",
       "  </thead>\n",
       "  <tbody>\n",
       "    <tr>\n",
       "      <th>0</th>\n",
       "      <td>0</td>\n",
       "      <td>7</td>\n",
       "      <td>5</td>\n",
       "      <td>0</td>\n",
       "    </tr>\n",
       "    <tr>\n",
       "      <th>1</th>\n",
       "      <td>1</td>\n",
       "      <td>2</td>\n",
       "      <td>9</td>\n",
       "      <td>4</td>\n",
       "    </tr>\n",
       "    <tr>\n",
       "      <th>2</th>\n",
       "      <td>2</td>\n",
       "      <td>5</td>\n",
       "      <td>3</td>\n",
       "      <td>5</td>\n",
       "    </tr>\n",
       "    <tr>\n",
       "      <th>3</th>\n",
       "      <td>3</td>\n",
       "      <td>5</td>\n",
       "      <td>0</td>\n",
       "      <td>5</td>\n",
       "    </tr>\n",
       "    <tr>\n",
       "      <th>4</th>\n",
       "      <td>4</td>\n",
       "      <td>9</td>\n",
       "      <td>5</td>\n",
       "      <td>6</td>\n",
       "    </tr>\n",
       "  </tbody>\n",
       "</table>\n",
       "</div>"
      ],
      "text/plain": [
       "   id  duree  projet  competence\n",
       "0   0      7       5           0\n",
       "1   1      2       9           4\n",
       "2   2      5       3           5\n",
       "3   3      5       0           5\n",
       "4   4      9       5           6"
      ]
     },
     "execution_count": 4,
     "metadata": {},
     "output_type": "execute_result"
    }
   ],
   "source": [
    "data['tasks'].head()"
   ]
  },
  {
   "cell_type": "markdown",
   "id": "bf70833d",
   "metadata": {},
   "source": [
    "## Capacités utilisateurs\n",
    "\n",
    "Pour la période de sprint à plannifier, il faut indiquer les disponibilités des utilisateurs."
   ]
  },
  {
   "cell_type": "code",
   "execution_count": 5,
   "id": "e024fc5d",
   "metadata": {},
   "outputs": [
    {
     "data": {
      "text/html": [
       "<div>\n",
       "<style scoped>\n",
       "    .dataframe tbody tr th:only-of-type {\n",
       "        vertical-align: middle;\n",
       "    }\n",
       "\n",
       "    .dataframe tbody tr th {\n",
       "        vertical-align: top;\n",
       "    }\n",
       "\n",
       "    .dataframe thead th {\n",
       "        text-align: right;\n",
       "    }\n",
       "</style>\n",
       "<table border=\"1\" class=\"dataframe\">\n",
       "  <thead>\n",
       "    <tr style=\"text-align: right;\">\n",
       "      <th></th>\n",
       "      <th>disposable_time</th>\n",
       "    </tr>\n",
       "    <tr>\n",
       "      <th>id_user</th>\n",
       "      <th></th>\n",
       "    </tr>\n",
       "  </thead>\n",
       "  <tbody>\n",
       "    <tr>\n",
       "      <th>0</th>\n",
       "      <td>29.0</td>\n",
       "    </tr>\n",
       "    <tr>\n",
       "      <th>1</th>\n",
       "      <td>33.0</td>\n",
       "    </tr>\n",
       "    <tr>\n",
       "      <th>2</th>\n",
       "      <td>45.0</td>\n",
       "    </tr>\n",
       "    <tr>\n",
       "      <th>3</th>\n",
       "      <td>39.0</td>\n",
       "    </tr>\n",
       "    <tr>\n",
       "      <th>4</th>\n",
       "      <td>32.0</td>\n",
       "    </tr>\n",
       "    <tr>\n",
       "      <th>5</th>\n",
       "      <td>25.0</td>\n",
       "    </tr>\n",
       "    <tr>\n",
       "      <th>6</th>\n",
       "      <td>32.0</td>\n",
       "    </tr>\n",
       "    <tr>\n",
       "      <th>7</th>\n",
       "      <td>44.0</td>\n",
       "    </tr>\n",
       "    <tr>\n",
       "      <th>8</th>\n",
       "      <td>37.0</td>\n",
       "    </tr>\n",
       "    <tr>\n",
       "      <th>9</th>\n",
       "      <td>40.0</td>\n",
       "    </tr>\n",
       "  </tbody>\n",
       "</table>\n",
       "</div>"
      ],
      "text/plain": [
       "         disposable_time\n",
       "id_user                 \n",
       "0                   29.0\n",
       "1                   33.0\n",
       "2                   45.0\n",
       "3                   39.0\n",
       "4                   32.0\n",
       "5                   25.0\n",
       "6                   32.0\n",
       "7                   44.0\n",
       "8                   37.0\n",
       "9                   40.0"
      ]
     },
     "execution_count": 5,
     "metadata": {},
     "output_type": "execute_result"
    }
   ],
   "source": [
    "data['capacite_utilisateur']"
   ]
  },
  {
   "cell_type": "markdown",
   "id": "cca4cf39",
   "metadata": {},
   "source": [
    "### Matrice compétences\n",
    "\n",
    "Chaque utilisateur dispose d'un score allant de 0 à 3 pour chaque compétence."
   ]
  },
  {
   "cell_type": "code",
   "execution_count": 6,
   "id": "5a730a83",
   "metadata": {},
   "outputs": [
    {
     "data": {
      "text/html": [
       "<div>\n",
       "<style scoped>\n",
       "    .dataframe tbody tr th:only-of-type {\n",
       "        vertical-align: middle;\n",
       "    }\n",
       "\n",
       "    .dataframe tbody tr th {\n",
       "        vertical-align: top;\n",
       "    }\n",
       "\n",
       "    .dataframe thead th {\n",
       "        text-align: right;\n",
       "    }\n",
       "</style>\n",
       "<table border=\"1\" class=\"dataframe\">\n",
       "  <thead>\n",
       "    <tr style=\"text-align: right;\">\n",
       "      <th>id_user</th>\n",
       "      <th>0</th>\n",
       "      <th>1</th>\n",
       "      <th>2</th>\n",
       "      <th>3</th>\n",
       "      <th>4</th>\n",
       "      <th>5</th>\n",
       "      <th>6</th>\n",
       "      <th>7</th>\n",
       "      <th>8</th>\n",
       "      <th>9</th>\n",
       "    </tr>\n",
       "    <tr>\n",
       "      <th>competence</th>\n",
       "      <th></th>\n",
       "      <th></th>\n",
       "      <th></th>\n",
       "      <th></th>\n",
       "      <th></th>\n",
       "      <th></th>\n",
       "      <th></th>\n",
       "      <th></th>\n",
       "      <th></th>\n",
       "      <th></th>\n",
       "    </tr>\n",
       "  </thead>\n",
       "  <tbody>\n",
       "    <tr>\n",
       "      <th>0</th>\n",
       "      <td>2</td>\n",
       "      <td>0</td>\n",
       "      <td>0</td>\n",
       "      <td>0</td>\n",
       "      <td>0</td>\n",
       "      <td>1</td>\n",
       "      <td>0</td>\n",
       "      <td>0</td>\n",
       "      <td>0</td>\n",
       "      <td>0</td>\n",
       "    </tr>\n",
       "    <tr>\n",
       "      <th>1</th>\n",
       "      <td>1</td>\n",
       "      <td>1</td>\n",
       "      <td>0</td>\n",
       "      <td>0</td>\n",
       "      <td>1</td>\n",
       "      <td>1</td>\n",
       "      <td>0</td>\n",
       "      <td>0</td>\n",
       "      <td>0</td>\n",
       "      <td>1</td>\n",
       "    </tr>\n",
       "    <tr>\n",
       "      <th>2</th>\n",
       "      <td>3</td>\n",
       "      <td>0</td>\n",
       "      <td>1</td>\n",
       "      <td>0</td>\n",
       "      <td>0</td>\n",
       "      <td>0</td>\n",
       "      <td>2</td>\n",
       "      <td>0</td>\n",
       "      <td>0</td>\n",
       "      <td>2</td>\n",
       "    </tr>\n",
       "    <tr>\n",
       "      <th>3</th>\n",
       "      <td>0</td>\n",
       "      <td>0</td>\n",
       "      <td>0</td>\n",
       "      <td>0</td>\n",
       "      <td>0</td>\n",
       "      <td>0</td>\n",
       "      <td>0</td>\n",
       "      <td>0</td>\n",
       "      <td>1</td>\n",
       "      <td>0</td>\n",
       "    </tr>\n",
       "    <tr>\n",
       "      <th>4</th>\n",
       "      <td>2</td>\n",
       "      <td>0</td>\n",
       "      <td>0</td>\n",
       "      <td>1</td>\n",
       "      <td>0</td>\n",
       "      <td>0</td>\n",
       "      <td>0</td>\n",
       "      <td>0</td>\n",
       "      <td>0</td>\n",
       "      <td>1</td>\n",
       "    </tr>\n",
       "  </tbody>\n",
       "</table>\n",
       "</div>"
      ],
      "text/plain": [
       "id_user     0  1  2  3  4  5  6  7  8  9\n",
       "competence                              \n",
       "0           2  0  0  0  0  1  0  0  0  0\n",
       "1           1  1  0  0  1  1  0  0  0  1\n",
       "2           3  0  1  0  0  0  2  0  0  2\n",
       "3           0  0  0  0  0  0  0  0  1  0\n",
       "4           2  0  0  1  0  0  0  0  0  1"
      ]
     },
     "execution_count": 6,
     "metadata": {},
     "output_type": "execute_result"
    }
   ],
   "source": [
    "data['matrice_competence'].head()"
   ]
  },
  {
   "cell_type": "markdown",
   "id": "0cd554a6",
   "metadata": {},
   "source": [
    "### Notion de matrice de spécialisation :\n",
    "\n",
    "La matrice spécialité permet de mettre en avant le fait que si une personne A n'a que peu de compétences (avec niveau faible), il vaut dans ce cas mieux, dès qu'une tâche relève de sa compétence, assigner cette tâche à cette personne A plutôt qu'a une personne B, plus qualifiée mais avec un panel de compétences plus large, car il vaut mieux laisser plus de champs à B, c'est peut-être un chef d'équipe ou il aura d'autre choses à faire que A ne sait pas faire.\n",
    "\n",
    "Illustration ci-dessous."
   ]
  },
  {
   "cell_type": "code",
   "execution_count": 7,
   "id": "63e5088c",
   "metadata": {},
   "outputs": [
    {
     "data": {
      "image/png": "[encoded data removed]",
      "text/plain": [
       "<Figure size 1008x504 with 2 Axes>"
      ]
     },
     "metadata": {
      "needs_background": "light"
     },
     "output_type": "display_data"
    }
   ],
   "source": [
    "import matplotlib.pyplot as plt\n",
    "mat = data['matrice_competence'].values\n",
    "plt.figure(figsize=(14,7))\n",
    "cmap = 'OrRd'\n",
    "ax1 = plt.subplot(121,title='matrice compétence',xlabel='personne',ylabel='compétence')\n",
    "ax1.matshow(mat,cmap=cmap)\n",
    "\n",
    "\n",
    "ax2 = plt.subplot(122,title='matrice de spécialisation',xlabel='personne',ylabel='compétence')\n",
    "ax2.matshow(compute_matrice_specialisaton(mat),cmap=cmap);"
   ]
  },
  {
   "cell_type": "markdown",
   "id": "868051a7",
   "metadata": {},
   "source": [
    "Blanc : zéro, Rouge foncé : max.\n",
    "\n",
    "\n",
    "Dans la matrice de compétence, on observe la personne 3 est moins qualifiée que personne 0 pour la compétence 4. Hors la personne 3 ne sait pas faire autre chose que la compétence 4. Ainsi il est préférable de lui donner de la compétence 4 dès qu'il y en a. C'est ce que retranscrit la matrice de spécialisation."
   ]
  },
  {
   "cell_type": "markdown",
   "id": "16b36ca4",
   "metadata": {},
   "source": [
    "### Matrice projet\n",
    "\n",
    "Les utilisateurs sont impliqués ou non dans les projets."
   ]
  },
  {
   "cell_type": "code",
   "execution_count": 8,
   "id": "fedde832",
   "metadata": {},
   "outputs": [
    {
     "data": {
      "text/html": [
       "<div>\n",
       "<style scoped>\n",
       "    .dataframe tbody tr th:only-of-type {\n",
       "        vertical-align: middle;\n",
       "    }\n",
       "\n",
       "    .dataframe tbody tr th {\n",
       "        vertical-align: top;\n",
       "    }\n",
       "\n",
       "    .dataframe thead th {\n",
       "        text-align: right;\n",
       "    }\n",
       "</style>\n",
       "<table border=\"1\" class=\"dataframe\">\n",
       "  <thead>\n",
       "    <tr style=\"text-align: right;\">\n",
       "      <th>id_user</th>\n",
       "      <th>0</th>\n",
       "      <th>1</th>\n",
       "      <th>2</th>\n",
       "      <th>3</th>\n",
       "      <th>4</th>\n",
       "      <th>5</th>\n",
       "      <th>6</th>\n",
       "      <th>7</th>\n",
       "      <th>8</th>\n",
       "      <th>9</th>\n",
       "    </tr>\n",
       "    <tr>\n",
       "      <th>projet</th>\n",
       "      <th></th>\n",
       "      <th></th>\n",
       "      <th></th>\n",
       "      <th></th>\n",
       "      <th></th>\n",
       "      <th></th>\n",
       "      <th></th>\n",
       "      <th></th>\n",
       "      <th></th>\n",
       "      <th></th>\n",
       "    </tr>\n",
       "  </thead>\n",
       "  <tbody>\n",
       "    <tr>\n",
       "      <th>0</th>\n",
       "      <td>1</td>\n",
       "      <td>0</td>\n",
       "      <td>1</td>\n",
       "      <td>1</td>\n",
       "      <td>0</td>\n",
       "      <td>1</td>\n",
       "      <td>0</td>\n",
       "      <td>1</td>\n",
       "      <td>1</td>\n",
       "      <td>0</td>\n",
       "    </tr>\n",
       "    <tr>\n",
       "      <th>1</th>\n",
       "      <td>0</td>\n",
       "      <td>1</td>\n",
       "      <td>1</td>\n",
       "      <td>0</td>\n",
       "      <td>1</td>\n",
       "      <td>1</td>\n",
       "      <td>1</td>\n",
       "      <td>1</td>\n",
       "      <td>1</td>\n",
       "      <td>1</td>\n",
       "    </tr>\n",
       "    <tr>\n",
       "      <th>2</th>\n",
       "      <td>0</td>\n",
       "      <td>0</td>\n",
       "      <td>1</td>\n",
       "      <td>0</td>\n",
       "      <td>1</td>\n",
       "      <td>0</td>\n",
       "      <td>0</td>\n",
       "      <td>1</td>\n",
       "      <td>1</td>\n",
       "      <td>1</td>\n",
       "    </tr>\n",
       "    <tr>\n",
       "      <th>3</th>\n",
       "      <td>1</td>\n",
       "      <td>1</td>\n",
       "      <td>0</td>\n",
       "      <td>1</td>\n",
       "      <td>1</td>\n",
       "      <td>1</td>\n",
       "      <td>0</td>\n",
       "      <td>0</td>\n",
       "      <td>1</td>\n",
       "      <td>1</td>\n",
       "    </tr>\n",
       "    <tr>\n",
       "      <th>4</th>\n",
       "      <td>0</td>\n",
       "      <td>1</td>\n",
       "      <td>1</td>\n",
       "      <td>1</td>\n",
       "      <td>0</td>\n",
       "      <td>0</td>\n",
       "      <td>0</td>\n",
       "      <td>1</td>\n",
       "      <td>0</td>\n",
       "      <td>0</td>\n",
       "    </tr>\n",
       "  </tbody>\n",
       "</table>\n",
       "</div>"
      ],
      "text/plain": [
       "id_user  0  1  2  3  4  5  6  7  8  9\n",
       "projet                               \n",
       "0        1  0  1  1  0  1  0  1  1  0\n",
       "1        0  1  1  0  1  1  1  1  1  1\n",
       "2        0  0  1  0  1  0  0  1  1  1\n",
       "3        1  1  0  1  1  1  0  0  1  1\n",
       "4        0  1  1  1  0  0  0  1  0  0"
      ]
     },
     "execution_count": 8,
     "metadata": {},
     "output_type": "execute_result"
    }
   ],
   "source": [
    "data['matrice_projet'].head()"
   ]
  },
  {
   "cell_type": "markdown",
   "id": "1ce5d366",
   "metadata": {},
   "source": [
    "## 2. Résolution"
   ]
  },
  {
   "cell_type": "markdown",
   "id": "2938d6f5",
   "metadata": {},
   "source": [
    "in current directory, run the following command :\n",
    "\n",
    "$uvicorn run --port 8001 --reload src.main:app"
   ]
  },
  {
   "cell_type": "code",
   "execution_count": 9,
   "id": "01eb1531",
   "metadata": {},
   "outputs": [],
   "source": [
    "import requests\n",
    "url = 'http://127.0.0.1:8000/solve/'\n",
    "\n",
    "new_data= {\n",
    "    'tasks':data['tasks'].to_json(),\n",
    "    'capacite_utilisateur':data['capacite_utilisateur'].to_json(),\n",
    "    'matrice_competence':data['matrice_competence'].to_json(),\n",
    "    'matrice_projet':data['matrice_projet'].to_json(),\n",
    "    \"curseur_politique\":1.0\n",
    "}\n",
    "\n",
    "resp = requests.post(url=url, json=new_data)\n",
    "result = resp.json()"
   ]
  },
  {
   "cell_type": "markdown",
   "id": "e57c5758",
   "metadata": {},
   "source": [
    "### assignation des tâches"
   ]
  },
  {
   "cell_type": "code",
   "execution_count": 10,
   "id": "f7243bd5",
   "metadata": {},
   "outputs": [
    {
     "data": {
      "text/html": [
       "<div>\n",
       "<style scoped>\n",
       "    .dataframe tbody tr th:only-of-type {\n",
       "        vertical-align: middle;\n",
       "    }\n",
       "\n",
       "    .dataframe tbody tr th {\n",
       "        vertical-align: top;\n",
       "    }\n",
       "\n",
       "    .dataframe thead th {\n",
       "        text-align: right;\n",
       "    }\n",
       "</style>\n",
       "<table border=\"1\" class=\"dataframe\">\n",
       "  <thead>\n",
       "    <tr style=\"text-align: right;\">\n",
       "      <th></th>\n",
       "      <th>ID Task</th>\n",
       "      <th>ID User</th>\n",
       "      <th>Durée (h)</th>\n",
       "    </tr>\n",
       "  </thead>\n",
       "  <tbody>\n",
       "    <tr>\n",
       "      <th>0</th>\n",
       "      <td>2</td>\n",
       "      <td>5</td>\n",
       "      <td>3.0</td>\n",
       "    </tr>\n",
       "    <tr>\n",
       "      <th>1</th>\n",
       "      <td>3</td>\n",
       "      <td>2</td>\n",
       "      <td>3.0</td>\n",
       "    </tr>\n",
       "    <tr>\n",
       "      <th>2</th>\n",
       "      <td>3</td>\n",
       "      <td>5</td>\n",
       "      <td>2.0</td>\n",
       "    </tr>\n",
       "    <tr>\n",
       "      <th>3</th>\n",
       "      <td>6</td>\n",
       "      <td>3</td>\n",
       "      <td>5.0</td>\n",
       "    </tr>\n",
       "    <tr>\n",
       "      <th>4</th>\n",
       "      <td>8</td>\n",
       "      <td>3</td>\n",
       "      <td>4.0</td>\n",
       "    </tr>\n",
       "    <tr>\n",
       "      <th>5</th>\n",
       "      <td>9</td>\n",
       "      <td>4</td>\n",
       "      <td>6.0</td>\n",
       "    </tr>\n",
       "    <tr>\n",
       "      <th>6</th>\n",
       "      <td>10</td>\n",
       "      <td>0</td>\n",
       "      <td>9.0</td>\n",
       "    </tr>\n",
       "    <tr>\n",
       "      <th>7</th>\n",
       "      <td>11</td>\n",
       "      <td>9</td>\n",
       "      <td>8.0</td>\n",
       "    </tr>\n",
       "    <tr>\n",
       "      <th>8</th>\n",
       "      <td>13</td>\n",
       "      <td>4</td>\n",
       "      <td>10.0</td>\n",
       "    </tr>\n",
       "    <tr>\n",
       "      <th>9</th>\n",
       "      <td>15</td>\n",
       "      <td>4</td>\n",
       "      <td>8.0</td>\n",
       "    </tr>\n",
       "  </tbody>\n",
       "</table>\n",
       "</div>"
      ],
      "text/plain": [
       "   ID Task ID User  Durée (h)\n",
       "0        2       5        3.0\n",
       "1        3       2        3.0\n",
       "2        3       5        2.0\n",
       "3        6       3        5.0\n",
       "4        8       3        4.0\n",
       "5        9       4        6.0\n",
       "6       10       0        9.0\n",
       "7       11       9        8.0\n",
       "8       13       4       10.0\n",
       "9       15       4        8.0"
      ]
     },
     "execution_count": 10,
     "metadata": {},
     "output_type": "execute_result"
    }
   ],
   "source": [
    "import pandas as pd\n",
    "pd.DataFrame(result['solution']).head(10)"
   ]
  },
  {
   "cell_type": "markdown",
   "id": "44d179c5",
   "metadata": {},
   "source": [
    "### charges des utilisateurs"
   ]
  },
  {
   "cell_type": "code",
   "execution_count": 11,
   "id": "570892cf",
   "metadata": {},
   "outputs": [
    {
     "data": {
      "text/html": [
       "<div>\n",
       "<style scoped>\n",
       "    .dataframe tbody tr th:only-of-type {\n",
       "        vertical-align: middle;\n",
       "    }\n",
       "\n",
       "    .dataframe tbody tr th {\n",
       "        vertical-align: top;\n",
       "    }\n",
       "\n",
       "    .dataframe thead th {\n",
       "        text-align: right;\n",
       "    }\n",
       "</style>\n",
       "<table border=\"1\" class=\"dataframe\">\n",
       "  <thead>\n",
       "    <tr style=\"text-align: right;\">\n",
       "      <th></th>\n",
       "      <th>user_id</th>\n",
       "      <th>disposable_time_(h)</th>\n",
       "      <th>assigned_hours</th>\n",
       "      <th>busy_time_percent</th>\n",
       "    </tr>\n",
       "  </thead>\n",
       "  <tbody>\n",
       "    <tr>\n",
       "      <th>0</th>\n",
       "      <td>0</td>\n",
       "      <td>29</td>\n",
       "      <td>29.0</td>\n",
       "      <td>100.0</td>\n",
       "    </tr>\n",
       "    <tr>\n",
       "      <th>1</th>\n",
       "      <td>1</td>\n",
       "      <td>33</td>\n",
       "      <td>8.0</td>\n",
       "      <td>24.0</td>\n",
       "    </tr>\n",
       "    <tr>\n",
       "      <th>2</th>\n",
       "      <td>2</td>\n",
       "      <td>45</td>\n",
       "      <td>45.0</td>\n",
       "      <td>100.0</td>\n",
       "    </tr>\n",
       "    <tr>\n",
       "      <th>3</th>\n",
       "      <td>3</td>\n",
       "      <td>39</td>\n",
       "      <td>22.0</td>\n",
       "      <td>56.0</td>\n",
       "    </tr>\n",
       "    <tr>\n",
       "      <th>4</th>\n",
       "      <td>4</td>\n",
       "      <td>32</td>\n",
       "      <td>32.0</td>\n",
       "      <td>100.0</td>\n",
       "    </tr>\n",
       "    <tr>\n",
       "      <th>5</th>\n",
       "      <td>5</td>\n",
       "      <td>25</td>\n",
       "      <td>25.0</td>\n",
       "      <td>100.0</td>\n",
       "    </tr>\n",
       "    <tr>\n",
       "      <th>6</th>\n",
       "      <td>6</td>\n",
       "      <td>32</td>\n",
       "      <td>0.0</td>\n",
       "      <td>0.0</td>\n",
       "    </tr>\n",
       "    <tr>\n",
       "      <th>7</th>\n",
       "      <td>7</td>\n",
       "      <td>44</td>\n",
       "      <td>0.0</td>\n",
       "      <td>0.0</td>\n",
       "    </tr>\n",
       "    <tr>\n",
       "      <th>8</th>\n",
       "      <td>8</td>\n",
       "      <td>37</td>\n",
       "      <td>21.0</td>\n",
       "      <td>57.0</td>\n",
       "    </tr>\n",
       "    <tr>\n",
       "      <th>9</th>\n",
       "      <td>9</td>\n",
       "      <td>40</td>\n",
       "      <td>40.0</td>\n",
       "      <td>100.0</td>\n",
       "    </tr>\n",
       "  </tbody>\n",
       "</table>\n",
       "</div>"
      ],
      "text/plain": [
       "   user_id  disposable_time_(h)  assigned_hours  busy_time_percent\n",
       "0        0                   29            29.0              100.0\n",
       "1        1                   33             8.0               24.0\n",
       "2        2                   45            45.0              100.0\n",
       "3        3                   39            22.0               56.0\n",
       "4        4                   32            32.0              100.0\n",
       "5        5                   25            25.0              100.0\n",
       "6        6                   32             0.0                0.0\n",
       "7        7                   44             0.0                0.0\n",
       "8        8                   37            21.0               57.0\n",
       "9        9                   40            40.0              100.0"
      ]
     },
     "execution_count": 11,
     "metadata": {},
     "output_type": "execute_result"
    }
   ],
   "source": [
    "pd.DataFrame(result['statistics']['charge_utilisateurs']).head(10)"
   ]
  },
  {
   "cell_type": "markdown",
   "id": "76360506",
   "metadata": {},
   "source": [
    "### heures non assignées"
   ]
  },
  {
   "cell_type": "code",
   "execution_count": 12,
   "id": "4eae2df6",
   "metadata": {},
   "outputs": [
    {
     "data": {
      "text/plain": [
       "98.0"
      ]
     },
     "execution_count": 12,
     "metadata": {},
     "output_type": "execute_result"
    }
   ],
   "source": [
    "result['statistics']['total_heures_non_assignees']"
   ]
  }
 ],
 "metadata": {
  "kernelspec": {
   "display_name": "Python 3",
   "language": "python",
   "name": "python3"
  },
  "language_info": {
   "codemirror_mode": {
    "name": "ipython",
    "version": 3
   },
   "file_extension": ".py",
   "mimetype": "text/x-python",
   "name": "python",
   "nbconvert_exporter": "python",
   "pygments_lexer": "ipython3",
   "version": "3.8.8"
  }
 },
 "nbformat": 4,
 "nbformat_minor": 5
}
